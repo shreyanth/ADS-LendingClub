{
 "cells": [
  {
   "cell_type": "markdown",
   "metadata": {
    "collapsed": true
   },
   "source": [
    "# ----------------------------------MISSING DATA----------------------------------------"
   ]
  },
  {
   "cell_type": "markdown",
   "metadata": {},
   "source": [
    "### Imports"
   ]
  },
  {
   "cell_type": "code",
   "execution_count": 2,
   "metadata": {
    "collapsed": true
   },
   "outputs": [],
   "source": [
    "import pandas as pd\n",
    "import numpy as np\n",
    "import csv\n",
    "from sklearn.neighbors import KNeighborsClassifier\n",
    "from sklearn import preprocessing,neighbors\n",
    "import os"
   ]
  },
  {
   "cell_type": "markdown",
   "metadata": {},
   "source": [
    "### Reading each CSV in a separate dataframe"
   ]
  },
  {
   "cell_type": "code",
   "execution_count": 5,
   "metadata": {
    "collapsed": true
   },
   "outputs": [],
   "source": [
    "directory = os.path.dirname(os.getcwd()) \n",
    "newpathloanFinal = directory+'/Dataset/Loan'\n",
    "d1 = pd.read_csv(newpathloanFinal+'/LoanStats3a_securev1.csv', header=1, skipfooter=4, engine='python')\n",
    "d2 = pd.read_csv(newpathloanFinal+'/LoanStats3b_securev1.csv', header=1, skipfooter=4, engine='python')\n",
    "d3 = pd.read_csv(newpathloanFinal+'/LoanStats3c_securev1.csv', header=1, skipfooter=4, engine='python')\n",
    "d4 = pd.read_csv(newpathloanFinal+'/LoanStats3d_securev1.csv', header=1, skipfooter=4, engine='python')\n",
    "d5 = pd.read_csv(newpathloanFinal+'/LoanStats_securev1_2016Q1.csv', header=1, skipfooter=4, engine='python')\n",
    "d6 = pd.read_csv(newpathloanFinal+'/LoanStats_securev1_2016Q2.csv', header=1, skipfooter=4, engine='python')\n",
    "d7 = pd.read_csv(newpathloanFinal+'/LoanStats_securev1_2016Q3.csv', header=1, skipfooter=4, engine='python')\n",
    "d8 = pd.read_csv(newpathloanFinal+'/LoanStats_securev1_2016Q4.csv', header=1, skipfooter=4, engine='python')\n",
    "d9 = pd.read_csv(newpathloanFinal+'/LoanStats_securev1_2017Q1.csv', header=1, skipfooter=4, engine='python')\n",
    "d10 = pd.read_csv(newpathloanFinal+'/LoanStats_securev1_2017Q2.csv', header=1, skipfooter=4, engine='python')\n",
    "d11 = pd.read_csv(newpathloanFinal+'/LoanStats_securev1_2017Q3.csv', header=1, skipfooter=4, engine='python')"
   ]
  },
  {
   "cell_type": "markdown",
   "metadata": {},
   "source": [
    "### Concatenating all the CSVs in one dataframe"
   ]
  },
  {
   "cell_type": "code",
   "execution_count": 6,
   "metadata": {
    "collapsed": true
   },
   "outputs": [],
   "source": [
    "loan_data = pd.concat([d1, d2, d3, d4, d5, d6, d7, d8, d9, d10,d11])"
   ]
  },
  {
   "cell_type": "code",
   "execution_count": 7,
   "metadata": {
    "collapsed": true
   },
   "outputs": [],
   "source": [
    "loan_df = loan_data"
   ]
  },
  {
   "cell_type": "code",
   "execution_count": 8,
   "metadata": {},
   "outputs": [
    {
     "data": {
      "text/plain": [
       "(1646773, 151)"
      ]
     },
     "execution_count": 8,
     "metadata": {},
     "output_type": "execute_result"
    }
   ],
   "source": [
    "loan_df.shape"
   ]
  },
  {
   "cell_type": "code",
   "execution_count": 9,
   "metadata": {},
   "outputs": [
    {
     "data": {
      "text/plain": [
       "Index(['id', 'member_id', 'loan_amnt', 'funded_amnt', 'funded_amnt_inv',\n",
       "       'term', 'int_rate', 'installment', 'grade', 'sub_grade',\n",
       "       ...\n",
       "       'hardship_payoff_balance_amount', 'hardship_last_payment_amount',\n",
       "       'disbursement_method', 'debt_settlement_flag',\n",
       "       'debt_settlement_flag_date', 'settlement_status', 'settlement_date',\n",
       "       'settlement_amount', 'settlement_percentage', 'settlement_term'],\n",
       "      dtype='object', length=151)"
      ]
     },
     "execution_count": 9,
     "metadata": {},
     "output_type": "execute_result"
    }
   ],
   "source": [
    "loan_df.columns"
   ]
  },
  {
   "cell_type": "markdown",
   "metadata": {},
   "source": [
    "### Finding the missing data percentage and storing columns in features with mores than 70% data"
   ]
  },
  {
   "cell_type": "code",
   "execution_count": 10,
   "metadata": {},
   "outputs": [
    {
     "name": "stdout",
     "output_type": "stream",
     "text": [
      "Number of columns after removing missing columns - 93\n"
     ]
    }
   ],
   "source": [
    "missing_data = loan_df.isnull().sum().to_frame(name='Missing_Count').reset_index()\n",
    "missing_data['Missing_percent'] = (missing_data['Missing_Count']/loan_data.shape[0])*100\n",
    "missing_data.head()\n",
    "missing_data = missing_data.sort_values(by='Missing_percent', axis=0, ascending=True)\n",
    "features = missing_data['index'][(missing_data.Missing_percent <30)]\n",
    "print('Number of columns after removing missing columns -',len(features))"
   ]
  },
  {
   "cell_type": "code",
   "execution_count": 11,
   "metadata": {
    "collapsed": true
   },
   "outputs": [],
   "source": [
    "loan_df = loan_df[features]"
   ]
  },
  {
   "cell_type": "code",
   "execution_count": 12,
   "metadata": {
    "collapsed": true
   },
   "outputs": [],
   "source": [
    "del loan_df['id']\n",
    "loan_df = loan_df.reset_index()\n",
    "loan_df['index'] = loan_df.index +1\n",
    "loan_df=loan_df.rename(columns = {'index':'id'})"
   ]
  },
  {
   "cell_type": "markdown",
   "metadata": {},
   "source": [
    "### Considering only the features that are relevant to analysis"
   ]
  },
  {
   "cell_type": "code",
   "execution_count": 13,
   "metadata": {
    "collapsed": true
   },
   "outputs": [],
   "source": [
    "f = ['id','debt_settlement_flag','application_type','fico_range_low','fico_range_high','emp_length','dti','annual_inc','grade','sub_grade','int_rate','loan_amnt','issue_d','purpose','addr_state','home_ownership','zip_code','policy_code','term']"
   ]
  },
  {
   "cell_type": "code",
   "execution_count": 14,
   "metadata": {
    "collapsed": true
   },
   "outputs": [],
   "source": [
    "loan_df= loan_df[f]"
   ]
  },
  {
   "cell_type": "code",
   "execution_count": 15,
   "metadata": {},
   "outputs": [
    {
     "data": {
      "text/plain": [
       "(1646773, 19)"
      ]
     },
     "execution_count": 15,
     "metadata": {},
     "output_type": "execute_result"
    }
   ],
   "source": [
    "loan_df.shape"
   ]
  },
  {
   "cell_type": "code",
   "execution_count": 16,
   "metadata": {
    "collapsed": true
   },
   "outputs": [],
   "source": [
    "loan_df = loan_df[loan_df.addr_state!='WV']\n",
    "loan_df = loan_df[loan_df.addr_state!='IA']"
   ]
  },
  {
   "cell_type": "code",
   "execution_count": 17,
   "metadata": {},
   "outputs": [
    {
     "data": {
      "text/plain": [
       "id                        0\n",
       "debt_settlement_flag      1\n",
       "application_type          1\n",
       "fico_range_low            1\n",
       "fico_range_high           1\n",
       "emp_length                1\n",
       "dti                     358\n",
       "annual_inc                5\n",
       "grade                     1\n",
       "sub_grade                 1\n",
       "int_rate                  1\n",
       "loan_amnt                 1\n",
       "issue_d                   1\n",
       "purpose                   1\n",
       "addr_state                1\n",
       "home_ownership            1\n",
       "zip_code                  2\n",
       "policy_code               1\n",
       "term                      1\n",
       "dtype: int64"
      ]
     },
     "execution_count": 17,
     "metadata": {},
     "output_type": "execute_result"
    }
   ],
   "source": [
    "loan_df.isnull().sum()"
   ]
  },
  {
   "cell_type": "code",
   "execution_count": 18,
   "metadata": {
    "collapsed": true
   },
   "outputs": [],
   "source": [
    "loan_df = loan_df[loan_df.application_type.notnull()]"
   ]
  },
  {
   "cell_type": "markdown",
   "metadata": {},
   "source": [
    "### Emp Length"
   ]
  },
  {
   "cell_type": "code",
   "execution_count": 19,
   "metadata": {
    "collapsed": true
   },
   "outputs": [],
   "source": [
    "loan_df['emp_length'].replace(to_replace='[^0-9]+', value='',inplace=True, regex=True)\n",
    "loan_df.loc[loan_df.emp_length=='', ['emp_length']] = '0'\n",
    "loan_df['emp_length'] = loan_df['emp_length'].astype(int)"
   ]
  },
  {
   "cell_type": "markdown",
   "metadata": {},
   "source": [
    "### Zipcode"
   ]
  },
  {
   "cell_type": "code",
   "execution_count": 20,
   "metadata": {
    "collapsed": true
   },
   "outputs": [],
   "source": [
    "loan_df['zip_code'] = loan_df['zip_code'].astype(str).map(lambda x: x.rstrip('xx'))"
   ]
  },
  {
   "cell_type": "code",
   "execution_count": 21,
   "metadata": {
    "collapsed": true
   },
   "outputs": [],
   "source": [
    "loan_df = loan_df[loan_df.zip_code!='nan']"
   ]
  },
  {
   "cell_type": "code",
   "execution_count": 22,
   "metadata": {
    "collapsed": true
   },
   "outputs": [],
   "source": [
    "z = loan_df[['zip_code', 'addr_state']][loan_df.addr_state=='AL'].groupby(['addr_state']).apply(pd.DataFrame.mode).reset_index(drop=True)['zip_code'][0]\n",
    "z = int(z)\n",
    "loan_df.loc[loan_df.zip_code=='nan', ['zip_code']] =z"
   ]
  },
  {
   "cell_type": "code",
   "execution_count": 23,
   "metadata": {
    "collapsed": true
   },
   "outputs": [],
   "source": [
    "loan_df['zip_code'] = loan_df['zip_code'].astype(int)"
   ]
  },
  {
   "cell_type": "markdown",
   "metadata": {},
   "source": [
    "### Int Rate"
   ]
  },
  {
   "cell_type": "code",
   "execution_count": 24,
   "metadata": {
    "collapsed": true
   },
   "outputs": [],
   "source": [
    "loan_df['int_rate'] = loan_df['int_rate'].astype(str).map(lambda x: x.rstrip('%'))\n",
    "loan_df['int_rate'] = loan_df['int_rate'].astype(float)"
   ]
  },
  {
   "cell_type": "markdown",
   "metadata": {},
   "source": [
    "### Date"
   ]
  },
  {
   "cell_type": "code",
   "execution_count": 25,
   "metadata": {
    "collapsed": true
   },
   "outputs": [],
   "source": [
    "loan_df['Year'] = loan_df['issue_d'].astype(str).map(lambda x: int(x.split('-')[1]))\n",
    "loan_df['Month'] = loan_df['issue_d'].astype(str).map(lambda x: x.split('-')[0])"
   ]
  },
  {
   "cell_type": "code",
   "execution_count": 26,
   "metadata": {
    "collapsed": true
   },
   "outputs": [],
   "source": [
    "lookup = {'Dec':12, 'Nov':11, 'Oct':10, 'Sep':9, 'Aug':8, 'Jul':7, 'Jun':6, 'May':5, 'Apr':4,'Mar':3, 'Feb':2, 'Jan':1}\n",
    "loan_df['Month'] =  loan_df['Month'].apply(lambda x: lookup[x])"
   ]
  },
  {
   "cell_type": "code",
   "execution_count": 27,
   "metadata": {
    "collapsed": true
   },
   "outputs": [],
   "source": [
    "loan_df[['Year','Month']] = loan_df[['Year','Month']].astype(int)"
   ]
  },
  {
   "cell_type": "code",
   "execution_count": 28,
   "metadata": {},
   "outputs": [
    {
     "name": "stderr",
     "output_type": "stream",
     "text": [
      "C:\\ProgramData\\Anaconda3\\lib\\site-packages\\pandas\\core\\generic.py:3660: SettingWithCopyWarning: \n",
      "A value is trying to be set on a copy of a slice from a DataFrame\n",
      "\n",
      "See the caveats in the documentation: http://pandas.pydata.org/pandas-docs/stable/indexing.html#indexing-view-versus-copy\n",
      "  self._update_inplace(new_data)\n"
     ]
    }
   ],
   "source": [
    "# Annual Income\n",
    "part = loan_df[['id','emp_length', 'annual_inc']]\n",
    "Mode = loan_df['annual_inc'].mode()[0]\n",
    "a = list(loan_df['emp_length'].unique())\n",
    "\n",
    "for c in a:\n",
    "    t = part[part.emp_length == c]\n",
    "    if( t.annual_inc.isnull().sum()==0):\n",
    "            break\n",
    "    else:\n",
    "            if(t.shape == t[t.isnull().any(axis=1)].shape ):\n",
    "                t['annual_inc'].fillna(Mode, inplace=True)\n",
    "            else:\n",
    "                c = t['annual_inc'].mode()[0]\n",
    "                t['annual_inc'].fillna(c, inplace=True)\n",
    "            part.loc[part.Id.isin(t.id), ['annual_inc']] = t[['annual_inc']]\n",
    "part['annual_inc'].fillna(part['annual_inc'].mode()[0], inplace = True)      \n",
    "loan_df.loc[loan_df.id.isin(part.id), ['annual_inc']] = part[['annual_inc']]"
   ]
  },
  {
   "cell_type": "markdown",
   "metadata": {},
   "source": [
    "### dti"
   ]
  },
  {
   "cell_type": "code",
   "execution_count": 29,
   "metadata": {},
   "outputs": [
    {
     "data": {
      "text/html": [
       "<div>\n",
       "<style>\n",
       "    .dataframe thead tr:only-child th {\n",
       "        text-align: right;\n",
       "    }\n",
       "\n",
       "    .dataframe thead th {\n",
       "        text-align: left;\n",
       "    }\n",
       "\n",
       "    .dataframe tbody tr th {\n",
       "        vertical-align: top;\n",
       "    }\n",
       "</style>\n",
       "<table border=\"1\" class=\"dataframe\">\n",
       "  <thead>\n",
       "    <tr style=\"text-align: right;\">\n",
       "      <th></th>\n",
       "      <th>id</th>\n",
       "      <th>debt_settlement_flag</th>\n",
       "      <th>application_type</th>\n",
       "      <th>fico_range_low</th>\n",
       "      <th>fico_range_high</th>\n",
       "      <th>emp_length</th>\n",
       "      <th>dti</th>\n",
       "      <th>annual_inc</th>\n",
       "      <th>grade</th>\n",
       "      <th>sub_grade</th>\n",
       "      <th>...</th>\n",
       "      <th>loan_amnt</th>\n",
       "      <th>issue_d</th>\n",
       "      <th>purpose</th>\n",
       "      <th>addr_state</th>\n",
       "      <th>home_ownership</th>\n",
       "      <th>zip_code</th>\n",
       "      <th>policy_code</th>\n",
       "      <th>term</th>\n",
       "      <th>Year</th>\n",
       "      <th>Month</th>\n",
       "    </tr>\n",
       "  </thead>\n",
       "  <tbody>\n",
       "    <tr>\n",
       "      <th>0</th>\n",
       "      <td>1</td>\n",
       "      <td>N</td>\n",
       "      <td>Individual</td>\n",
       "      <td>735.0</td>\n",
       "      <td>739.0</td>\n",
       "      <td>10</td>\n",
       "      <td>27.65</td>\n",
       "      <td>24000.0</td>\n",
       "      <td>B</td>\n",
       "      <td>B2</td>\n",
       "      <td>...</td>\n",
       "      <td>5000.0</td>\n",
       "      <td>Dec-2011</td>\n",
       "      <td>credit_card</td>\n",
       "      <td>AZ</td>\n",
       "      <td>RENT</td>\n",
       "      <td>860</td>\n",
       "      <td>1.0</td>\n",
       "      <td>36 months</td>\n",
       "      <td>2011</td>\n",
       "      <td>12</td>\n",
       "    </tr>\n",
       "    <tr>\n",
       "      <th>1</th>\n",
       "      <td>2</td>\n",
       "      <td>N</td>\n",
       "      <td>Individual</td>\n",
       "      <td>740.0</td>\n",
       "      <td>744.0</td>\n",
       "      <td>1</td>\n",
       "      <td>1.00</td>\n",
       "      <td>30000.0</td>\n",
       "      <td>C</td>\n",
       "      <td>C4</td>\n",
       "      <td>...</td>\n",
       "      <td>2500.0</td>\n",
       "      <td>Dec-2011</td>\n",
       "      <td>car</td>\n",
       "      <td>GA</td>\n",
       "      <td>RENT</td>\n",
       "      <td>309</td>\n",
       "      <td>1.0</td>\n",
       "      <td>60 months</td>\n",
       "      <td>2011</td>\n",
       "      <td>12</td>\n",
       "    </tr>\n",
       "    <tr>\n",
       "      <th>2</th>\n",
       "      <td>3</td>\n",
       "      <td>N</td>\n",
       "      <td>Individual</td>\n",
       "      <td>735.0</td>\n",
       "      <td>739.0</td>\n",
       "      <td>10</td>\n",
       "      <td>8.72</td>\n",
       "      <td>12252.0</td>\n",
       "      <td>C</td>\n",
       "      <td>C5</td>\n",
       "      <td>...</td>\n",
       "      <td>2400.0</td>\n",
       "      <td>Dec-2011</td>\n",
       "      <td>small_business</td>\n",
       "      <td>IL</td>\n",
       "      <td>RENT</td>\n",
       "      <td>606</td>\n",
       "      <td>1.0</td>\n",
       "      <td>36 months</td>\n",
       "      <td>2011</td>\n",
       "      <td>12</td>\n",
       "    </tr>\n",
       "    <tr>\n",
       "      <th>3</th>\n",
       "      <td>4</td>\n",
       "      <td>N</td>\n",
       "      <td>Individual</td>\n",
       "      <td>690.0</td>\n",
       "      <td>694.0</td>\n",
       "      <td>10</td>\n",
       "      <td>20.00</td>\n",
       "      <td>49200.0</td>\n",
       "      <td>C</td>\n",
       "      <td>C1</td>\n",
       "      <td>...</td>\n",
       "      <td>10000.0</td>\n",
       "      <td>Dec-2011</td>\n",
       "      <td>other</td>\n",
       "      <td>CA</td>\n",
       "      <td>RENT</td>\n",
       "      <td>917</td>\n",
       "      <td>1.0</td>\n",
       "      <td>36 months</td>\n",
       "      <td>2011</td>\n",
       "      <td>12</td>\n",
       "    </tr>\n",
       "    <tr>\n",
       "      <th>4</th>\n",
       "      <td>5</td>\n",
       "      <td>N</td>\n",
       "      <td>Individual</td>\n",
       "      <td>695.0</td>\n",
       "      <td>699.0</td>\n",
       "      <td>1</td>\n",
       "      <td>17.94</td>\n",
       "      <td>80000.0</td>\n",
       "      <td>B</td>\n",
       "      <td>B5</td>\n",
       "      <td>...</td>\n",
       "      <td>3000.0</td>\n",
       "      <td>Dec-2011</td>\n",
       "      <td>other</td>\n",
       "      <td>OR</td>\n",
       "      <td>RENT</td>\n",
       "      <td>972</td>\n",
       "      <td>1.0</td>\n",
       "      <td>60 months</td>\n",
       "      <td>2011</td>\n",
       "      <td>12</td>\n",
       "    </tr>\n",
       "  </tbody>\n",
       "</table>\n",
       "<p>5 rows × 21 columns</p>\n",
       "</div>"
      ],
      "text/plain": [
       "   id debt_settlement_flag application_type  fico_range_low  fico_range_high  \\\n",
       "0   1                    N       Individual           735.0            739.0   \n",
       "1   2                    N       Individual           740.0            744.0   \n",
       "2   3                    N       Individual           735.0            739.0   \n",
       "3   4                    N       Individual           690.0            694.0   \n",
       "4   5                    N       Individual           695.0            699.0   \n",
       "\n",
       "   emp_length    dti  annual_inc grade sub_grade  ...    loan_amnt   issue_d  \\\n",
       "0          10  27.65     24000.0     B        B2  ...       5000.0  Dec-2011   \n",
       "1           1   1.00     30000.0     C        C4  ...       2500.0  Dec-2011   \n",
       "2          10   8.72     12252.0     C        C5  ...       2400.0  Dec-2011   \n",
       "3          10  20.00     49200.0     C        C1  ...      10000.0  Dec-2011   \n",
       "4           1  17.94     80000.0     B        B5  ...       3000.0  Dec-2011   \n",
       "\n",
       "          purpose addr_state home_ownership zip_code  policy_code        term  \\\n",
       "0     credit_card         AZ           RENT      860          1.0   36 months   \n",
       "1             car         GA           RENT      309          1.0   60 months   \n",
       "2  small_business         IL           RENT      606          1.0   36 months   \n",
       "3           other         CA           RENT      917          1.0   36 months   \n",
       "4           other         OR           RENT      972          1.0   60 months   \n",
       "\n",
       "   Year  Month  \n",
       "0  2011     12  \n",
       "1  2011     12  \n",
       "2  2011     12  \n",
       "3  2011     12  \n",
       "4  2011     12  \n",
       "\n",
       "[5 rows x 21 columns]"
      ]
     },
     "execution_count": 29,
     "metadata": {},
     "output_type": "execute_result"
    }
   ],
   "source": [
    "loan_df = loan_df[loan_df.dti.notnull()]\n",
    "loan_df.head()"
   ]
  },
  {
   "cell_type": "code",
   "execution_count": 30,
   "metadata": {
    "collapsed": true
   },
   "outputs": [],
   "source": [
    "loan_df = loan_df[loan_df['annual_inc'].notnull()]"
   ]
  },
  {
   "cell_type": "code",
   "execution_count": 31,
   "metadata": {},
   "outputs": [
    {
     "name": "stderr",
     "output_type": "stream",
     "text": [
      "C:\\ProgramData\\Anaconda3\\lib\\site-packages\\pandas\\core\\generic.py:3660: SettingWithCopyWarning: \n",
      "A value is trying to be set on a copy of a slice from a DataFrame\n",
      "\n",
      "See the caveats in the documentation: http://pandas.pydata.org/pandas-docs/stable/indexing.html#indexing-view-versus-copy\n",
      "  self._update_inplace(new_data)\n"
     ]
    }
   ],
   "source": [
    "# dti\n",
    "dti_t = loan_df[['dti', 'emp_length','id']]\n",
    "Mode_dti = loan_df['dti'].mode()[0]\n",
    "d = list(loan_df['emp_length'].unique())\n",
    "\n",
    "for c in d:\n",
    "    dt = dti_t[dti_t.emp_length == c]\n",
    "    if( dt.dti.isnull().sum()==0):\n",
    "            break\n",
    "    else:\n",
    "            if(dt.shape == dt[dt.isnull().any(axis=1)].shape ):\n",
    "                dt['dti'].fillna(Mode_dti, inplace=True)\n",
    "            else:\n",
    "                c = dt['dti'].mode()[0]\n",
    "                dt['dti'].fillna(c, inplace=True)\n",
    "            dti_t.loc[dti_t.id.isin(dt.id), ['dti']] = dt[['dti']]\n",
    "dti_t['dti'].fillna(dti_t['dti'].mode()[0], inplace = True)      \n",
    "loan_df.loc[loan_df.id.isin(dti_t.id), ['dti']] = dti_t[['dti']]"
   ]
  },
  {
   "cell_type": "markdown",
   "metadata": {},
   "source": [
    "### Fico columns"
   ]
  },
  {
   "cell_type": "code",
   "execution_count": 32,
   "metadata": {
    "collapsed": true
   },
   "outputs": [],
   "source": [
    "loan_df['fico_avg'] = (loan_df['fico_range_high']+loan_df['fico_range_low'])/2"
   ]
  },
  {
   "cell_type": "code",
   "execution_count": 33,
   "metadata": {
    "collapsed": true
   },
   "outputs": [],
   "source": [
    "loan_df['term'] = loan_df['term'].astype(str).map(lambda x: x.rstrip('months'))\n",
    "loan_df['term'] = loan_df['term'].astype(int)"
   ]
  },
  {
   "cell_type": "code",
   "execution_count": 34,
   "metadata": {
    "collapsed": true
   },
   "outputs": [],
   "source": [
    "loan_df =loan_df[loan_df.dti>-1]"
   ]
  },
  {
   "cell_type": "code",
   "execution_count": 35,
   "metadata": {},
   "outputs": [
    {
     "data": {
      "text/plain": [
       "(1641242, 22)"
      ]
     },
     "execution_count": 35,
     "metadata": {},
     "output_type": "execute_result"
    }
   ],
   "source": [
    "loan_df.shape"
   ]
  },
  {
   "cell_type": "code",
   "execution_count": 36,
   "metadata": {
    "collapsed": true,
    "scrolled": true
   },
   "outputs": [],
   "source": [
    "loan_df = loan_df[loan_df.fico_avg > 660]"
   ]
  },
  {
   "cell_type": "code",
   "execution_count": 37,
   "metadata": {
    "collapsed": true
   },
   "outputs": [],
   "source": [
    "loan_df[['grade','sub_grade','application_type','addr_state','purpose','home_ownership']]= loan_df[['grade','sub_grade','application_type','addr_state','purpose','home_ownership']].astype(str)"
   ]
  },
  {
   "cell_type": "code",
   "execution_count": 38,
   "metadata": {
    "collapsed": true
   },
   "outputs": [],
   "source": [
    "loan_df['policy_code'] = loan_df['policy_code'].astype(int)"
   ]
  },
  {
   "cell_type": "code",
   "execution_count": 39,
   "metadata": {},
   "outputs": [
    {
     "data": {
      "text/plain": [
       "id                        int64\n",
       "debt_settlement_flag     object\n",
       "application_type         object\n",
       "fico_range_low          float64\n",
       "fico_range_high         float64\n",
       "emp_length                int32\n",
       "dti                     float64\n",
       "annual_inc              float64\n",
       "grade                    object\n",
       "sub_grade                object\n",
       "int_rate                float64\n",
       "loan_amnt               float64\n",
       "issue_d                  object\n",
       "purpose                  object\n",
       "addr_state               object\n",
       "home_ownership           object\n",
       "zip_code                  int32\n",
       "policy_code               int32\n",
       "term                      int32\n",
       "Year                      int32\n",
       "Month                     int32\n",
       "fico_avg                float64\n",
       "dtype: object"
      ]
     },
     "execution_count": 39,
     "metadata": {},
     "output_type": "execute_result"
    }
   ],
   "source": [
    "loan_df.dtypes"
   ]
  },
  {
   "cell_type": "markdown",
   "metadata": {},
   "source": [
    "### Exporting the cleaned data into a CSV"
   ]
  },
  {
   "cell_type": "code",
   "execution_count": 40,
   "metadata": {
    "collapsed": true
   },
   "outputs": [],
   "source": [
    "loan_df['approval'] =1\n",
    "loan_df=loan_df.rename(columns = {'fico_avg':'fico'})\n",
    "loan_df=loan_df.rename(columns = {'addr_state':'State'})"
   ]
  },
  {
   "cell_type": "code",
   "execution_count": 43,
   "metadata": {
    "collapsed": true
   },
   "outputs": [],
   "source": [
    "loan_df.to_csv('/Users/madhu/Desktop/ADS Project/Dataset/Loan/Loan.csv', index=False)"
   ]
  },
  {
   "cell_type": "code",
   "execution_count": 42,
   "metadata": {},
   "outputs": [
    {
     "data": {
      "text/plain": [
       "(1640757, 23)"
      ]
     },
     "execution_count": 42,
     "metadata": {},
     "output_type": "execute_result"
    }
   ],
   "source": [
    "loan_df.shape"
   ]
  },
  {
   "cell_type": "markdown",
   "metadata": {},
   "source": [
    "The text in the document by SHREYANTH REDDY BEZAWADA is licensed under CC BY 3.0 https://creativecommons.org/licenses/by/3.0/us/\n",
    "\n",
    "Copyright 2018 SHREYANTH REDDY BEZAWADA AND ADITYA MOHAN KUMAR\n",
    "\n",
    "Permission is hereby granted, free of charge, to any person obtaining a copy of this software and associated documentation files (the \"Software\"), to deal in the Software without restriction, including without limitation the rights to use, copy, modify, merge, publish, distribute, sublicense, and/or sell copies of the Software, and to permit persons to whom the Software is furnished to do so, subject to the following conditions:\n",
    "\n",
    "The above copyright notice and this permission notice shall be included in all copies or substantial portions of the Software.\n",
    "\n",
    "THE SOFTWARE IS PROVIDED \"AS IS\", WITHOUT WARRANTY OF ANY KIND, EXPRESS OR IMPLIED, INCLUDING BUT NOT LIMITED TO THE WARRANTIES OF MERCHANTABILITY, FITNESS FOR A PARTICULAR PURPOSE AND NONINFRINGEMENT. IN NO EVENT SHALL THE AUTHORS OR COPYRIGHT HOLDERS BE LIABLE FOR ANY CLAIM, DAMAGES OR OTHER LIABILITY, WHETHER IN AN ACTION OF CONTRACT, TORT OR OTHERWISE, ARISING FROM, OUT OF OR IN CONNECTION WITH THE SOFTWARE OR THE USE OR OTHER DEALINGS IN THE SOFTWARE."
   ]
  }
 ],
 "metadata": {
  "anaconda-cloud": {},
  "kernelspec": {
   "display_name": "Python 3",
   "language": "python",
   "name": "python3"
  },
  "language_info": {
   "codemirror_mode": {
    "name": "ipython",
    "version": 3
   },
   "file_extension": ".py",
   "mimetype": "text/x-python",
   "name": "python",
   "nbconvert_exporter": "python",
   "pygments_lexer": "ipython3",
   "version": "3.6.2"
  }
 },
 "nbformat": 4,
 "nbformat_minor": 2
}
