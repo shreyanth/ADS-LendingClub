{
 "cells": [
  {
   "cell_type": "markdown",
   "metadata": {},
   "source": [
    "# Imports"
   ]
  },
  {
   "cell_type": "code",
   "execution_count": 28,
   "metadata": {
    "collapsed": true
   },
   "outputs": [],
   "source": [
    "import warnings\n",
    "warnings.filterwarnings('ignore')"
   ]
  },
  {
   "cell_type": "code",
   "execution_count": 29,
   "metadata": {
    "collapsed": true
   },
   "outputs": [],
   "source": [
    "import pandas as pd\n",
    "import pickle\n",
    "import numpy as np\n",
    "from sklearn.externals import joblib\n",
    "from sklearn import *\n",
    "from sklearn import cluster\n",
    "from math import sqrt\n",
    "from sklearn.model_selection import train_test_split\n",
    "from sklearn.neighbors import KNeighborsRegressor\n",
    "from sklearn import preprocessing, cross_validation, neighbors\n",
    "from sklearn.metrics import mean_squared_error, mean_absolute_error"
   ]
  },
  {
   "cell_type": "markdown",
   "metadata": {},
   "source": [
    "## Load clean loan csv "
   ]
  },
  {
   "cell_type": "code",
   "execution_count": 30,
   "metadata": {
    "collapsed": true
   },
   "outputs": [],
   "source": [
    "loan_df = pd.read_csv('/Users/madhu/Desktop/ADS Project/Part-1/Loan.csv', low_memory=False) "
   ]
  },
  {
   "cell_type": "code",
   "execution_count": 31,
   "metadata": {
    "scrolled": true
   },
   "outputs": [
    {
     "data": {
      "text/plain": [
       "Index(['id', 'debt_settlement_flag', 'application_type', 'fico_range_low',\n",
       "       'fico_range_high', 'emp_length', 'dti', 'annual_inc', 'grade',\n",
       "       'sub_grade', 'int_rate', 'loan_amnt', 'issue_d', 'purpose', 'State',\n",
       "       'home_ownership', 'zip_code', 'policy_code', 'term', 'Year', 'Month',\n",
       "       'fico', 'approval'],\n",
       "      dtype='object')"
      ]
     },
     "execution_count": 31,
     "metadata": {},
     "output_type": "execute_result"
    }
   ],
   "source": [
    "loan_df.columns"
   ]
  },
  {
   "cell_type": "markdown",
   "metadata": {},
   "source": [
    "# Remove General Columns Not Needed"
   ]
  },
  {
   "cell_type": "code",
   "execution_count": 32,
   "metadata": {
    "collapsed": true
   },
   "outputs": [],
   "source": [
    "feature_df = loan_df[['application_type','emp_length', 'dti', 'annual_inc',\n",
    "       'int_rate', 'loan_amnt', 'purpose', 'State', 'home_ownership', 'term', 'fico', 'approval']]"
   ]
  },
  {
   "cell_type": "code",
   "execution_count": 33,
   "metadata": {
    "collapsed": true
   },
   "outputs": [],
   "source": [
    "home_ownerships = pd.get_dummies(feature_df['home_ownership'], prefix='house')\n",
    "feature_df = feature_df.join(home_ownerships)\n",
    "feature_df.drop('home_ownership', axis=1, inplace=True)\n",
    "\n",
    "app_type = pd.get_dummies(feature_df['application_type'], prefix='appType')\n",
    "feature_df = feature_df.join(app_type)\n",
    "feature_df.drop('application_type', axis=1, inplace=True)\n",
    "\n",
    "adr_states = pd.get_dummies(feature_df['State'], prefix='s')\n",
    "feature_df = feature_df.join(adr_states)\n",
    "feature_df.drop('State', axis=1, inplace=True)\n",
    "\n",
    "#purpose   \n",
    "purpose = pd.get_dummies(feature_df['purpose'], prefix='purpose')\n",
    "feature_df = feature_df.join(purpose)\n",
    "feature_df.drop('purpose', axis=1, inplace=True)"
   ]
  },
  {
   "cell_type": "markdown",
   "metadata": {},
   "source": [
    "# No Clustering"
   ]
  },
  {
   "cell_type": "code",
   "execution_count": 7,
   "metadata": {
    "collapsed": true
   },
   "outputs": [],
   "source": [
    "zero_cluster_df = feature_df"
   ]
  },
  {
   "cell_type": "code",
   "execution_count": 8,
   "metadata": {
    "collapsed": true
   },
   "outputs": [],
   "source": [
    "X_train, X_test, y_train, y_test = train_test_split(zero_cluster_df.ix[:, zero_cluster_df.columns != 'int_rate'], \n",
    "                                            zero_cluster_df['int_rate'], \n",
    "                                            test_size=0.30)"
   ]
  },
  {
   "cell_type": "code",
   "execution_count": 9,
   "metadata": {},
   "outputs": [
    {
     "data": {
      "text/plain": [
       "KNeighborsRegressor(algorithm='auto', leaf_size=30, metric='minkowski',\n",
       "          metric_params=None, n_jobs=1, n_neighbors=5, p=2,\n",
       "          weights='uniform')"
      ]
     },
     "execution_count": 9,
     "metadata": {},
     "output_type": "execute_result"
    }
   ],
   "source": [
    "# Creating the model\n",
    "clf = neighbors.KNeighborsRegressor()\n",
    "clf.fit(X_train, y_train)"
   ]
  },
  {
   "cell_type": "code",
   "execution_count": 10,
   "metadata": {},
   "outputs": [
    {
     "name": "stdout",
     "output_type": "stream",
     "text": [
      "0.500781459962\n",
      "-----Train-----\n",
      "RMS:  3.3238853761475706\n",
      "MAE:  2.54646047597\n",
      "MAPE:  21.024739445284705\n",
      "-----Test-----\n",
      "RMS:  4.089626629741201\n",
      "MAE:  3.13294503767\n",
      "MAPE:  25.919863839502433\n"
     ]
    }
   ],
   "source": [
    "# Accuracy of the model created\n",
    "accuracy = clf.score(X_train, y_train)\n",
    "print(accuracy)\n",
    "\n",
    "y_test_predicted = clf.predict(X_test)\n",
    "y_train_predicted= clf.predict(X_train)    \n",
    "\n",
    "#finished square footage of the property, square footage of lot, tax amounts, number of bedrooms, and number of units\n",
    "#MAE, RMS, MAPE\n",
    "rms = sqrt(mean_squared_error(y_train, y_train_predicted))    \n",
    "mae_train = mean_absolute_error(y_train, y_train_predicted) \n",
    "mape_train = np.mean(np.abs((y_train - y_train_predicted) / y_train)) * 100\n",
    "print(\"-----Train-----\")\n",
    "print('RMS: ',rms)\n",
    "print('MAE: ',mae_train)\n",
    "print('MAPE: ',mape_train)\n",
    "#finished square footage of the property, square footage of lot, tax amounts, number of bedrooms, and number of units\n",
    "#MAE, RMS, MAPE\n",
    "rms = sqrt(mean_squared_error(y_test, y_test_predicted))    \n",
    "mae_test = mean_absolute_error(y_test, y_test_predicted)\n",
    "mape_test = np.mean(np.abs((y_test - y_test_predicted) / y_test)) * 100\n",
    "print(\"-----Test-----\")\n",
    "print('RMS: ',rms)\n",
    "print('MAE: ',mae_test)\n",
    "print('MAPE: ',mape_test)"
   ]
  },
  {
   "cell_type": "markdown",
   "metadata": {},
   "source": [
    "# Manual Clustering"
   ]
  },
  {
   "cell_type": "code",
   "execution_count": 11,
   "metadata": {
    "collapsed": true
   },
   "outputs": [],
   "source": [
    "manual_df = feature_df\n",
    "def clustering(fico):\n",
    "    cluster_name = ''\n",
    "    if fico>790.0:\n",
    "        cluster_name ='K1'\n",
    "    elif ((fico <= 790.0) & (fico>750.0)):\n",
    "        cluster_name = 'K2'\n",
    "    elif ((fico <=750.0) & (fico>700.0)):\n",
    "        cluster_name ='K3'\n",
    "    elif ((fico <=700.0) & (fico>660.0)):\n",
    "        cluster_name= 'K4'\n",
    "    return cluster_name\n",
    "manual_df['cluster'] = manual_df['fico'].astype(float).map(lambda x: clustering(x))"
   ]
  },
  {
   "cell_type": "code",
   "execution_count": 12,
   "metadata": {},
   "outputs": [
    {
     "data": {
      "text/html": [
       "<div>\n",
       "<style>\n",
       "    .dataframe thead tr:only-child th {\n",
       "        text-align: right;\n",
       "    }\n",
       "\n",
       "    .dataframe thead th {\n",
       "        text-align: left;\n",
       "    }\n",
       "\n",
       "    .dataframe tbody tr th {\n",
       "        vertical-align: top;\n",
       "    }\n",
       "</style>\n",
       "<table border=\"1\" class=\"dataframe\">\n",
       "  <thead>\n",
       "    <tr style=\"text-align: right;\">\n",
       "      <th></th>\n",
       "      <th>emp_length</th>\n",
       "      <th>dti</th>\n",
       "      <th>annual_inc</th>\n",
       "      <th>int_rate</th>\n",
       "      <th>loan_amnt</th>\n",
       "      <th>term</th>\n",
       "      <th>fico</th>\n",
       "      <th>approval</th>\n",
       "      <th>house_ANY</th>\n",
       "      <th>house_MORTGAGE</th>\n",
       "      <th>...</th>\n",
       "      <th>purpose_house</th>\n",
       "      <th>purpose_major_purchase</th>\n",
       "      <th>purpose_medical</th>\n",
       "      <th>purpose_moving</th>\n",
       "      <th>purpose_other</th>\n",
       "      <th>purpose_renewable_energy</th>\n",
       "      <th>purpose_small_business</th>\n",
       "      <th>purpose_vacation</th>\n",
       "      <th>purpose_wedding</th>\n",
       "      <th>cluster</th>\n",
       "    </tr>\n",
       "  </thead>\n",
       "  <tbody>\n",
       "    <tr>\n",
       "      <th>0</th>\n",
       "      <td>10</td>\n",
       "      <td>27.65</td>\n",
       "      <td>24000.0</td>\n",
       "      <td>10.65</td>\n",
       "      <td>5000.0</td>\n",
       "      <td>36</td>\n",
       "      <td>737.0</td>\n",
       "      <td>1</td>\n",
       "      <td>0</td>\n",
       "      <td>0</td>\n",
       "      <td>...</td>\n",
       "      <td>0</td>\n",
       "      <td>0</td>\n",
       "      <td>0</td>\n",
       "      <td>0</td>\n",
       "      <td>0</td>\n",
       "      <td>0</td>\n",
       "      <td>0</td>\n",
       "      <td>0</td>\n",
       "      <td>0</td>\n",
       "      <td>K3</td>\n",
       "    </tr>\n",
       "    <tr>\n",
       "      <th>1</th>\n",
       "      <td>1</td>\n",
       "      <td>1.00</td>\n",
       "      <td>30000.0</td>\n",
       "      <td>15.27</td>\n",
       "      <td>2500.0</td>\n",
       "      <td>60</td>\n",
       "      <td>742.0</td>\n",
       "      <td>1</td>\n",
       "      <td>0</td>\n",
       "      <td>0</td>\n",
       "      <td>...</td>\n",
       "      <td>0</td>\n",
       "      <td>0</td>\n",
       "      <td>0</td>\n",
       "      <td>0</td>\n",
       "      <td>0</td>\n",
       "      <td>0</td>\n",
       "      <td>0</td>\n",
       "      <td>0</td>\n",
       "      <td>0</td>\n",
       "      <td>K3</td>\n",
       "    </tr>\n",
       "    <tr>\n",
       "      <th>2</th>\n",
       "      <td>10</td>\n",
       "      <td>8.72</td>\n",
       "      <td>12252.0</td>\n",
       "      <td>15.96</td>\n",
       "      <td>2400.0</td>\n",
       "      <td>36</td>\n",
       "      <td>737.0</td>\n",
       "      <td>1</td>\n",
       "      <td>0</td>\n",
       "      <td>0</td>\n",
       "      <td>...</td>\n",
       "      <td>0</td>\n",
       "      <td>0</td>\n",
       "      <td>0</td>\n",
       "      <td>0</td>\n",
       "      <td>0</td>\n",
       "      <td>0</td>\n",
       "      <td>1</td>\n",
       "      <td>0</td>\n",
       "      <td>0</td>\n",
       "      <td>K3</td>\n",
       "    </tr>\n",
       "    <tr>\n",
       "      <th>3</th>\n",
       "      <td>10</td>\n",
       "      <td>20.00</td>\n",
       "      <td>49200.0</td>\n",
       "      <td>13.49</td>\n",
       "      <td>10000.0</td>\n",
       "      <td>36</td>\n",
       "      <td>692.0</td>\n",
       "      <td>1</td>\n",
       "      <td>0</td>\n",
       "      <td>0</td>\n",
       "      <td>...</td>\n",
       "      <td>0</td>\n",
       "      <td>0</td>\n",
       "      <td>0</td>\n",
       "      <td>0</td>\n",
       "      <td>1</td>\n",
       "      <td>0</td>\n",
       "      <td>0</td>\n",
       "      <td>0</td>\n",
       "      <td>0</td>\n",
       "      <td>K4</td>\n",
       "    </tr>\n",
       "    <tr>\n",
       "      <th>4</th>\n",
       "      <td>1</td>\n",
       "      <td>17.94</td>\n",
       "      <td>80000.0</td>\n",
       "      <td>12.69</td>\n",
       "      <td>3000.0</td>\n",
       "      <td>60</td>\n",
       "      <td>697.0</td>\n",
       "      <td>1</td>\n",
       "      <td>0</td>\n",
       "      <td>0</td>\n",
       "      <td>...</td>\n",
       "      <td>0</td>\n",
       "      <td>0</td>\n",
       "      <td>0</td>\n",
       "      <td>0</td>\n",
       "      <td>1</td>\n",
       "      <td>0</td>\n",
       "      <td>0</td>\n",
       "      <td>0</td>\n",
       "      <td>0</td>\n",
       "      <td>K4</td>\n",
       "    </tr>\n",
       "  </tbody>\n",
       "</table>\n",
       "<p>5 rows × 80 columns</p>\n",
       "</div>"
      ],
      "text/plain": [
       "   emp_length    dti  annual_inc  int_rate  loan_amnt  term   fico  approval  \\\n",
       "0          10  27.65     24000.0     10.65     5000.0    36  737.0         1   \n",
       "1           1   1.00     30000.0     15.27     2500.0    60  742.0         1   \n",
       "2          10   8.72     12252.0     15.96     2400.0    36  737.0         1   \n",
       "3          10  20.00     49200.0     13.49    10000.0    36  692.0         1   \n",
       "4           1  17.94     80000.0     12.69     3000.0    60  697.0         1   \n",
       "\n",
       "   house_ANY  house_MORTGAGE   ...     purpose_house  purpose_major_purchase  \\\n",
       "0          0               0   ...                 0                       0   \n",
       "1          0               0   ...                 0                       0   \n",
       "2          0               0   ...                 0                       0   \n",
       "3          0               0   ...                 0                       0   \n",
       "4          0               0   ...                 0                       0   \n",
       "\n",
       "   purpose_medical  purpose_moving  purpose_other  purpose_renewable_energy  \\\n",
       "0                0               0              0                         0   \n",
       "1                0               0              0                         0   \n",
       "2                0               0              0                         0   \n",
       "3                0               0              1                         0   \n",
       "4                0               0              1                         0   \n",
       "\n",
       "   purpose_small_business  purpose_vacation  purpose_wedding  cluster  \n",
       "0                       0                 0                0       K3  \n",
       "1                       0                 0                0       K3  \n",
       "2                       1                 0                0       K3  \n",
       "3                       0                 0                0       K4  \n",
       "4                       0                 0                0       K4  \n",
       "\n",
       "[5 rows x 80 columns]"
      ]
     },
     "execution_count": 12,
     "metadata": {},
     "output_type": "execute_result"
    }
   ],
   "source": [
    "manual_df.head()"
   ]
  },
  {
   "cell_type": "code",
   "execution_count": 13,
   "metadata": {
    "collapsed": true
   },
   "outputs": [],
   "source": [
    "#Seperate into diff dataframes\n",
    "manual_c1 = manual_df[manual_df['cluster']=='K1']\n",
    "manual_c1.drop('cluster',axis=1,inplace=True)\n",
    "manual_c2 = manual_df[manual_df['cluster']=='K2']\n",
    "manual_c2.drop('cluster',axis=1,inplace=True)\n",
    "manual_c3 = manual_df[manual_df['cluster']=='K3']\n",
    "manual_c3.drop('cluster',axis=1,inplace=True)\n",
    "manual_c4 = manual_df[manual_df['cluster']=='K4']\n",
    "manual_c4.drop('cluster',axis=1,inplace=True)"
   ]
  },
  {
   "cell_type": "markdown",
   "metadata": {},
   "source": [
    "#### Manual 1"
   ]
  },
  {
   "cell_type": "code",
   "execution_count": 14,
   "metadata": {},
   "outputs": [
    {
     "data": {
      "text/plain": [
       "KNeighborsRegressor(algorithm='auto', leaf_size=30, metric='minkowski',\n",
       "          metric_params=None, n_jobs=1, n_neighbors=5, p=2,\n",
       "          weights='uniform')"
      ]
     },
     "execution_count": 14,
     "metadata": {},
     "output_type": "execute_result"
    }
   ],
   "source": [
    "\n",
    "X_train, X_test, y_train, y_test = train_test_split(manual_c1.ix[:, manual_c1.columns != 'int_rate'], \n",
    "                                            manual_c1['int_rate'], \n",
    "                                            test_size=0.30)\n",
    "clf = neighbors.KNeighborsRegressor()\n",
    "clf.fit(X_train, y_train)"
   ]
  },
  {
   "cell_type": "code",
   "execution_count": 15,
   "metadata": {},
   "outputs": [
    {
     "name": "stdout",
     "output_type": "stream",
     "text": [
      "0.423053507183\n",
      "-----Train-----\n",
      "RMS:  2.3832303376179427\n",
      "MAE:  1.66990460776\n",
      "MAPE:  19.916846779674614\n",
      "-----Test-----\n",
      "RMS:  3.0006347344412063\n",
      "MAE:  2.10985909842\n",
      "MAPE:  24.98023761580151\n"
     ]
    }
   ],
   "source": [
    "# Accuracy of the model created\n",
    "accuracy = clf.score(X_train, y_train)\n",
    "print(accuracy)\n",
    "\n",
    "y_test_predicted = clf.predict(X_test)\n",
    "y_train_predicted= clf.predict(X_train)    \n",
    "\n",
    "#finished square footage of the property, square footage of lot, tax amounts, number of bedrooms, and number of units\n",
    "#MAE, RMS, MAPE\n",
    "rms = sqrt(mean_squared_error(y_train, y_train_predicted))    \n",
    "mae_train = mean_absolute_error(y_train, y_train_predicted) \n",
    "mape_train = np.mean(np.abs((y_train - y_train_predicted) / y_train)) * 100\n",
    "print(\"-----Train-----\")\n",
    "print('RMS: ',rms)\n",
    "print('MAE: ',mae_train)\n",
    "print('MAPE: ',mape_train)\n",
    "#finished square footage of the property, square footage of lot, tax amounts, number of bedrooms, and number of units\n",
    "#MAE, RMS, MAPE\n",
    "rms = sqrt(mean_squared_error(y_test, y_test_predicted))    \n",
    "mae_test = mean_absolute_error(y_test, y_test_predicted)\n",
    "mape_test = np.mean(np.abs((y_test - y_test_predicted) / y_test)) * 100\n",
    "print(\"-----Test-----\")\n",
    "print('RMS: ',rms)\n",
    "print('MAE: ',mae_test)\n",
    "print('MAPE: ',mape_test)"
   ]
  },
  {
   "cell_type": "markdown",
   "metadata": {},
   "source": [
    "#### Manual 2"
   ]
  },
  {
   "cell_type": "code",
   "execution_count": 16,
   "metadata": {},
   "outputs": [
    {
     "data": {
      "text/plain": [
       "KNeighborsRegressor(algorithm='auto', leaf_size=30, metric='minkowski',\n",
       "          metric_params=None, n_jobs=1, n_neighbors=5, p=2,\n",
       "          weights='uniform')"
      ]
     },
     "execution_count": 16,
     "metadata": {},
     "output_type": "execute_result"
    }
   ],
   "source": [
    "#manual 2\n",
    "X_train, X_test, y_train, y_test = train_test_split(manual_c2.ix[:, manual_c2.columns != 'int_rate'], \n",
    "                                            manual_c2['int_rate'], \n",
    "                                            test_size=0.30)\n",
    "clf = neighbors.KNeighborsRegressor()\n",
    "clf.fit(X_train, y_train)"
   ]
  },
  {
   "cell_type": "code",
   "execution_count": 17,
   "metadata": {},
   "outputs": [
    {
     "name": "stdout",
     "output_type": "stream",
     "text": [
      "0.410091071279\n",
      "-----Train-----\n",
      "RMS:  2.7745046713217634\n",
      "MAE:  2.00997510905\n",
      "MAPE:  22.05226303467547\n",
      "-----Test-----\n",
      "RMS:  3.495193765763599\n",
      "MAE:  2.50564200562\n",
      "MAPE:  27.210155312679124\n"
     ]
    }
   ],
   "source": [
    "# Accuracy of the model created\n",
    "accuracy = clf.score(X_train, y_train)\n",
    "print(accuracy)\n",
    "\n",
    "y_test_predicted = clf.predict(X_test)\n",
    "y_train_predicted= clf.predict(X_train)    \n",
    "\n",
    "#finished square footage of the property, square footage of lot, tax amounts, number of bedrooms, and number of units\n",
    "#MAE, RMS, MAPE\n",
    "rms = sqrt(mean_squared_error(y_train, y_train_predicted))    \n",
    "mae_train = mean_absolute_error(y_train, y_train_predicted) \n",
    "mape_train = np.mean(np.abs((y_train - y_train_predicted) / y_train)) * 100\n",
    "print(\"-----Train-----\")\n",
    "print('RMS: ',rms)\n",
    "print('MAE: ',mae_train)\n",
    "print('MAPE: ',mape_train)\n",
    "#finished square footage of the property, square footage of lot, tax amounts, number of bedrooms, and number of units\n",
    "#MAE, RMS, MAPE\n",
    "rms = sqrt(mean_squared_error(y_test, y_test_predicted))    \n",
    "mae_test = mean_absolute_error(y_test, y_test_predicted)\n",
    "mape_test = np.mean(np.abs((y_test - y_test_predicted) / y_test)) * 100\n",
    "print(\"-----Test-----\")\n",
    "print('RMS: ',rms)\n",
    "print('MAE: ',mae_test)\n",
    "print('MAPE: ',mape_test)"
   ]
  },
  {
   "cell_type": "markdown",
   "metadata": {},
   "source": [
    "#### Manual 3"
   ]
  },
  {
   "cell_type": "code",
   "execution_count": 18,
   "metadata": {},
   "outputs": [
    {
     "data": {
      "text/plain": [
       "KNeighborsRegressor(algorithm='auto', leaf_size=30, metric='minkowski',\n",
       "          metric_params=None, n_jobs=1, n_neighbors=5, p=2,\n",
       "          weights='uniform')"
      ]
     },
     "execution_count": 18,
     "metadata": {},
     "output_type": "execute_result"
    }
   ],
   "source": [
    "#Manual 3\n",
    "X_train, X_test, y_train, y_test = train_test_split(manual_c3.ix[:, manual_c3.columns != 'int_rate'], \n",
    "                                            manual_c3['int_rate'], \n",
    "                                            test_size=0.30)\n",
    "clf = neighbors.KNeighborsRegressor()\n",
    "clf.fit(X_train, y_train)"
   ]
  },
  {
   "cell_type": "code",
   "execution_count": 19,
   "metadata": {},
   "outputs": [
    {
     "name": "stdout",
     "output_type": "stream",
     "text": [
      "0.44090119308\n",
      "-----Train-----\n",
      "RMS:  3.1984852247222966\n",
      "MAE:  2.44187532688\n",
      "MAPE:  22.36565676848448\n",
      "-----Test-----\n",
      "RMS:  3.8992646454444926\n",
      "MAE:  2.97721509419\n",
      "MAPE:  27.40320718379235\n"
     ]
    }
   ],
   "source": [
    "# Accuracy of the model created\n",
    "accuracy = clf.score(X_train, y_train)\n",
    "print(accuracy)\n",
    "\n",
    "y_test_predicted = clf.predict(X_test)\n",
    "y_train_predicted= clf.predict(X_train)    \n",
    "\n",
    "#finished square footage of the property, square footage of lot, tax amounts, number of bedrooms, and number of units\n",
    "#MAE, RMS, MAPE\n",
    "rms = sqrt(mean_squared_error(y_train, y_train_predicted))    \n",
    "mae_train = mean_absolute_error(y_train, y_train_predicted) \n",
    "mape_train = np.mean(np.abs((y_train - y_train_predicted) / y_train)) * 100\n",
    "print(\"-----Train-----\")\n",
    "print('RMS: ',rms)\n",
    "print('MAE: ',mae_train)\n",
    "print('MAPE: ',mape_train)\n",
    "#finished square footage of the property, square footage of lot, tax amounts, number of bedrooms, and number of units\n",
    "#MAE, RMS, MAPE\n",
    "rms = sqrt(mean_squared_error(y_test, y_test_predicted))    \n",
    "mae_test = mean_absolute_error(y_test, y_test_predicted)\n",
    "mape_test = np.mean(np.abs((y_test - y_test_predicted) / y_test)) * 100\n",
    "print(\"-----Test-----\")\n",
    "print('RMS: ',rms)\n",
    "print('MAE: ',mae_test)\n",
    "print('MAPE: ',mape_test)"
   ]
  },
  {
   "cell_type": "markdown",
   "metadata": {},
   "source": [
    "#### Manual 4"
   ]
  },
  {
   "cell_type": "code",
   "execution_count": 20,
   "metadata": {},
   "outputs": [
    {
     "data": {
      "text/plain": [
       "KNeighborsRegressor(algorithm='auto', leaf_size=30, metric='minkowski',\n",
       "          metric_params=None, n_jobs=1, n_neighbors=5, p=2,\n",
       "          weights='uniform')"
      ]
     },
     "execution_count": 20,
     "metadata": {},
     "output_type": "execute_result"
    }
   ],
   "source": [
    "#Manual 4\n",
    "X_train, X_test, y_train, y_test = train_test_split(manual_c4.ix[:, manual_c4.columns != 'int_rate'], \n",
    "                                            manual_c4['int_rate'], \n",
    "                                            test_size=0.30)\n",
    "clf = neighbors.KNeighborsRegressor()\n",
    "clf.fit(X_train, y_train)"
   ]
  },
  {
   "cell_type": "code",
   "execution_count": 21,
   "metadata": {},
   "outputs": [
    {
     "name": "stdout",
     "output_type": "stream",
     "text": [
      "0.427644147724\n",
      "-----Train-----\n",
      "RMS:  3.406473266675882\n",
      "MAE:  2.62916904213\n",
      "MAPE:  19.50449877777428\n",
      "-----Test-----\n",
      "RMS:  4.174935617126658\n",
      "MAE:  3.22300243768\n",
      "MAPE:  23.931813923025302\n"
     ]
    }
   ],
   "source": [
    "# Accuracy of the model created\n",
    "accuracy = clf.score(X_train, y_train)\n",
    "print(accuracy)\n",
    "\n",
    "y_test_predicted = clf.predict(X_test)\n",
    "y_train_predicted= clf.predict(X_train)    \n",
    "\n",
    "#finished square footage of the property, square footage of lot, tax amounts, number of bedrooms, and number of units\n",
    "#MAE, RMS, MAPE\n",
    "rms = sqrt(mean_squared_error(y_train, y_train_predicted))    \n",
    "mae_train = mean_absolute_error(y_train, y_train_predicted) \n",
    "mape_train = np.mean(np.abs((y_train - y_train_predicted) / y_train)) * 100\n",
    "print(\"-----Train-----\")\n",
    "print('RMS: ',rms)\n",
    "print('MAE: ',mae_train)\n",
    "print('MAPE: ',mape_train)\n",
    "#finished square footage of the property, square footage of lot, tax amounts, number of bedrooms, and number of units\n",
    "#MAE, RMS, MAPE\n",
    "rms = sqrt(mean_squared_error(y_test, y_test_predicted))    \n",
    "mae_test = mean_absolute_error(y_test, y_test_predicted)\n",
    "mape_test = np.mean(np.abs((y_test - y_test_predicted) / y_test)) * 100\n",
    "print(\"-----Test-----\")\n",
    "print('RMS: ',rms)\n",
    "print('MAE: ',mae_test)\n",
    "print('MAPE: ',mape_test)"
   ]
  },
  {
   "cell_type": "markdown",
   "metadata": {},
   "source": [
    "# K-Means"
   ]
  },
  {
   "cell_type": "code",
   "execution_count": 34,
   "metadata": {
    "collapsed": true
   },
   "outputs": [],
   "source": [
    "k_cluster = joblib.load(open('/Users/madhu/Desktop/ADS Project/Part-2/Clustering/kmeanCluster.pkl', 'rb'))\n",
    "#Create new column in load_df for the k-means clustering \n",
    "k_mean_feature_df = feature_df\n",
    "k_mean_feature_df['kMean'] = k_cluster.labels_"
   ]
  },
  {
   "cell_type": "code",
   "execution_count": 35,
   "metadata": {
    "collapsed": true
   },
   "outputs": [],
   "source": [
    "kmean_0 = k_mean_feature_df[k_mean_feature_df['kMean']==0]\n",
    "kmean_0.drop('kMean', axis=1, inplace=True)\n",
    "kmean_1 = k_mean_feature_df[k_mean_feature_df['kMean']==1]\n",
    "kmean_1.drop('kMean', axis=1, inplace=True)\n",
    "kmean_2 = k_mean_feature_df[k_mean_feature_df['kMean']==2]\n",
    "kmean_2.drop('kMean', axis=1, inplace=True)\n",
    "kmean_3 = k_mean_feature_df[k_mean_feature_df['kMean']==3]\n",
    "kmean_3.drop('kMean', axis=1, inplace=True)\n",
    "kmean_4 = k_mean_feature_df[k_mean_feature_df['kMean']==4]\n",
    "kmean_4.drop('kMean', axis=1, inplace=True)\n",
    "kmean_5 = k_mean_feature_df[k_mean_feature_df['kMean']==5]\n",
    "kmean_5.drop('kMean', axis=1, inplace=True)\n",
    "kmean_6 = k_mean_feature_df[k_mean_feature_df['kMean']==6]\n",
    "kmean_6.drop('kMean', axis=1, inplace=True)\n",
    "kmean_7 = k_mean_feature_df[k_mean_feature_df['kMean']==7]\n",
    "kmean_7.drop('kMean', axis=1, inplace=True)\n"
   ]
  },
  {
   "cell_type": "markdown",
   "metadata": {},
   "source": [
    "#### K-means0"
   ]
  },
  {
   "cell_type": "code",
   "execution_count": 37,
   "metadata": {},
   "outputs": [
    {
     "data": {
      "text/plain": [
       "KNeighborsRegressor(algorithm='auto', leaf_size=30, metric='minkowski',\n",
       "          metric_params=None, n_jobs=1, n_neighbors=5, p=2,\n",
       "          weights='uniform')"
      ]
     },
     "execution_count": 37,
     "metadata": {},
     "output_type": "execute_result"
    }
   ],
   "source": [
    "#K-mean_0\n",
    "X_train, X_test, y_train, y_test = train_test_split(kmean_0.ix[:, kmean_0.columns != 'int_rate'], \n",
    "                                            kmean_0['int_rate'], \n",
    "                                            test_size=0.30)\n",
    "clf = neighbors.KNeighborsRegressor()\n",
    "clf.fit(X_train, y_train)"
   ]
  },
  {
   "cell_type": "code",
   "execution_count": 38,
   "metadata": {},
   "outputs": [
    {
     "name": "stdout",
     "output_type": "stream",
     "text": [
      "0.46457844244\n",
      "-----Train-----\n",
      "RMS:  3.163208792383198\n",
      "MAE:  2.41684900598\n",
      "MAPE:  21.15392314319859\n",
      "-----Test-----\n",
      "RMS:  3.8667021784880786\n",
      "MAE:  2.9562109764\n",
      "MAPE:  26.073330848309578\n"
     ]
    }
   ],
   "source": [
    "# Accuracy of the model created\n",
    "accuracy = clf.score(X_train, y_train)\n",
    "print(accuracy)\n",
    "\n",
    "y_test_predicted = clf.predict(X_test)\n",
    "y_train_predicted= clf.predict(X_train)    \n",
    "\n",
    "#finished square footage of the property, square footage of lot, tax amounts, number of bedrooms, and number of units\n",
    "#MAE, RMS, MAPE\n",
    "rms = sqrt(mean_squared_error(y_train, y_train_predicted))    \n",
    "mae_train = mean_absolute_error(y_train, y_train_predicted) \n",
    "mape_train = np.mean(np.abs((y_train - y_train_predicted) / y_train)) * 100\n",
    "print(\"-----Train-----\")\n",
    "print('RMS: ',rms)\n",
    "print('MAE: ',mae_train)\n",
    "print('MAPE: ',mape_train)\n",
    "#finished square footage of the property, square footage of lot, tax amounts, number of bedrooms, and number of units\n",
    "#MAE, RMS, MAPE\n",
    "rms = sqrt(mean_squared_error(y_test, y_test_predicted))    \n",
    "mae_test = mean_absolute_error(y_test, y_test_predicted)\n",
    "mape_test = np.mean(np.abs((y_test - y_test_predicted) / y_test)) * 100\n",
    "print(\"-----Test-----\")\n",
    "print('RMS: ',rms)\n",
    "print('MAE: ',mae_test)\n",
    "print('MAPE: ',mape_test)"
   ]
  },
  {
   "cell_type": "markdown",
   "metadata": {},
   "source": [
    "#### K-means1"
   ]
  },
  {
   "cell_type": "code",
   "execution_count": 51,
   "metadata": {},
   "outputs": [
    {
     "data": {
      "text/plain": [
       "KNeighborsRegressor(algorithm='auto', leaf_size=30, metric='minkowski',\n",
       "          metric_params=None, n_jobs=1, n_neighbors=5, p=2,\n",
       "          weights='uniform')"
      ]
     },
     "execution_count": 51,
     "metadata": {},
     "output_type": "execute_result"
    }
   ],
   "source": [
    "#K-mean_1\n",
    "X_train, X_test, y_train, y_test = train_test_split(kmean_1.ix[:, kmean_1.columns != 'int_rate'], \n",
    "                                            kmean_1['int_rate'], \n",
    "                                            test_size=0.30)\n",
    "clf = neighbors.KNeighborsRegressor()\n",
    "clf.fit(X_train, y_train)"
   ]
  },
  {
   "cell_type": "code",
   "execution_count": 12,
   "metadata": {},
   "outputs": [
    {
     "name": "stdout",
     "output_type": "stream",
     "text": [
      "0.483736198004\n",
      "-----Train-----\n",
      "RMS:  3.5459357066693404\n",
      "MAE:  2.73329479989\n",
      "MAPE:  19.768568426856\n",
      "-----Test-----\n",
      "RMS:  4.377867964260734\n",
      "MAE:  3.38174637409\n",
      "MAPE:  24.54556532824701\n"
     ]
    }
   ],
   "source": [
    "# Accuracy of the model created\n",
    "accuracy = clf.score(X_train, y_train)\n",
    "print(accuracy)\n",
    "\n",
    "y_test_predicted = clf.predict(X_test)\n",
    "y_train_predicted= clf.predict(X_train)    \n",
    "\n",
    "#finished square footage of the property, square footage of lot, tax amounts, number of bedrooms, and number of units\n",
    "#MAE, RMS, MAPE\n",
    "rms = sqrt(mean_squared_error(y_train, y_train_predicted))    \n",
    "mae_train = mean_absolute_error(y_train, y_train_predicted) \n",
    "mape_train = np.mean(np.abs((y_train - y_train_predicted) / y_train)) * 100\n",
    "print(\"-----Train-----\")\n",
    "print('RMS: ',rms)\n",
    "print('MAE: ',mae_train)\n",
    "print('MAPE: ',mape_train)\n",
    "#finished square footage of the property, square footage of lot, tax amounts, number of bedrooms, and number of units\n",
    "#MAE, RMS, MAPE\n",
    "rms = sqrt(mean_squared_error(y_test, y_test_predicted))    \n",
    "mae_test = mean_absolute_error(y_test, y_test_predicted)\n",
    "mape_test = np.mean(np.abs((y_test - y_test_predicted) / y_test)) * 100\n",
    "print(\"-----Test-----\")\n",
    "print('RMS: ',rms)\n",
    "print('MAE: ',mae_test)\n",
    "print('MAPE: ',mape_test)"
   ]
  },
  {
   "cell_type": "markdown",
   "metadata": {},
   "source": [
    "#### K-means2"
   ]
  },
  {
   "cell_type": "code",
   "execution_count": 39,
   "metadata": {},
   "outputs": [
    {
     "data": {
      "text/plain": [
       "KNeighborsRegressor(algorithm='auto', leaf_size=30, metric='minkowski',\n",
       "          metric_params=None, n_jobs=1, n_neighbors=5, p=2,\n",
       "          weights='uniform')"
      ]
     },
     "execution_count": 39,
     "metadata": {},
     "output_type": "execute_result"
    }
   ],
   "source": [
    "#K-mean_2\n",
    "X_train, X_test, y_train, y_test = train_test_split(kmean_2.ix[:, kmean_2.columns != 'int_rate'], \n",
    "                                            kmean_2['int_rate'], \n",
    "                                            test_size=0.30)\n",
    "clf = neighbors.KNeighborsRegressor()\n",
    "clf.fit(X_train, y_train)"
   ]
  },
  {
   "cell_type": "code",
   "execution_count": 40,
   "metadata": {},
   "outputs": [
    {
     "name": "stdout",
     "output_type": "stream",
     "text": [
      "0.479224104241\n",
      "-----Train-----\n",
      "RMS:  3.4784170331310693\n",
      "MAE:  2.67286501533\n",
      "MAPE:  20.605555159249057\n",
      "-----Test-----\n",
      "RMS:  4.256611063001298\n",
      "MAE:  3.27708997855\n",
      "MAPE:  25.479751837858284\n"
     ]
    }
   ],
   "source": [
    "# Accuracy of the model created\n",
    "accuracy = clf.score(X_train, y_train)\n",
    "print(accuracy)\n",
    "\n",
    "y_test_predicted = clf.predict(X_test)\n",
    "y_train_predicted= clf.predict(X_train)    \n",
    "\n",
    "#finished square footage of the property, square footage of lot, tax amounts, number of bedrooms, and number of units\n",
    "#MAE, RMS, MAPE\n",
    "rms = sqrt(mean_squared_error(y_train, y_train_predicted))    \n",
    "mae_train = mean_absolute_error(y_train, y_train_predicted) \n",
    "mape_train = np.mean(np.abs((y_train - y_train_predicted) / y_train)) * 100\n",
    "print(\"-----Train-----\")\n",
    "print('RMS: ',rms)\n",
    "print('MAE: ',mae_train)\n",
    "print('MAPE: ',mape_train)\n",
    "#finished square footage of the property, square footage of lot, tax amounts, number of bedrooms, and number of units\n",
    "#MAE, RMS, MAPE\n",
    "rms = sqrt(mean_squared_error(y_test, y_test_predicted))    \n",
    "mae_test = mean_absolute_error(y_test, y_test_predicted)\n",
    "mape_test = np.mean(np.abs((y_test - y_test_predicted) / y_test)) * 100\n",
    "print(\"-----Test-----\")\n",
    "print('RMS: ',rms)\n",
    "print('MAE: ',mae_test)\n",
    "print('MAPE: ',mape_test)"
   ]
  },
  {
   "cell_type": "code",
   "execution_count": null,
   "metadata": {
    "collapsed": true
   },
   "outputs": [],
   "source": []
  },
  {
   "cell_type": "markdown",
   "metadata": {},
   "source": [
    "#### K-means3"
   ]
  },
  {
   "cell_type": "code",
   "execution_count": 41,
   "metadata": {},
   "outputs": [
    {
     "data": {
      "text/plain": [
       "KNeighborsRegressor(algorithm='auto', leaf_size=30, metric='minkowski',\n",
       "          metric_params=None, n_jobs=1, n_neighbors=5, p=2,\n",
       "          weights='uniform')"
      ]
     },
     "execution_count": 41,
     "metadata": {},
     "output_type": "execute_result"
    }
   ],
   "source": [
    "#K-mean_3\n",
    "X_train, X_test, y_train, y_test = train_test_split(kmean_3.ix[:, kmean_3.columns != 'int_rate'], \n",
    "                                            kmean_3['int_rate'], \n",
    "                                            test_size=0.30)\n",
    "clf = neighbors.KNeighborsRegressor()\n",
    "clf.fit(X_train, y_train)"
   ]
  },
  {
   "cell_type": "code",
   "execution_count": 42,
   "metadata": {},
   "outputs": [
    {
     "name": "stdout",
     "output_type": "stream",
     "text": [
      "0.397915297098\n",
      "-----Train-----\n",
      "RMS:  3.2861409674232136\n",
      "MAE:  2.53208446698\n",
      "MAPE:  22.89197624777424\n",
      "-----Test-----\n",
      "RMS:  3.9945055186834293\n",
      "MAE:  3.07377908308\n",
      "MAPE:  27.842917356251284\n"
     ]
    }
   ],
   "source": [
    "# Accuracy of the model created\n",
    "accuracy = clf.score(X_train, y_train)\n",
    "print(accuracy)\n",
    "\n",
    "y_test_predicted = clf.predict(X_test)\n",
    "y_train_predicted= clf.predict(X_train)    \n",
    "\n",
    "#finished square footage of the property, square footage of lot, tax amounts, number of bedrooms, and number of units\n",
    "#MAE, RMS, MAPE\n",
    "rms = sqrt(mean_squared_error(y_train, y_train_predicted))    \n",
    "mae_train = mean_absolute_error(y_train, y_train_predicted) \n",
    "mape_train = np.mean(np.abs((y_train - y_train_predicted) / y_train)) * 100\n",
    "print(\"-----Train-----\")\n",
    "print('RMS: ',rms)\n",
    "print('MAE: ',mae_train)\n",
    "print('MAPE: ',mape_train)\n",
    "#finished square footage of the property, square footage of lot, tax amounts, number of bedrooms, and number of units\n",
    "#MAE, RMS, MAPE\n",
    "rms = sqrt(mean_squared_error(y_test, y_test_predicted))    \n",
    "mae_test = mean_absolute_error(y_test, y_test_predicted)\n",
    "mape_test = np.mean(np.abs((y_test - y_test_predicted) / y_test)) * 100\n",
    "print(\"-----Test-----\")\n",
    "print('RMS: ',rms)\n",
    "print('MAE: ',mae_test)\n",
    "print('MAPE: ',mape_test)"
   ]
  },
  {
   "cell_type": "markdown",
   "metadata": {},
   "source": [
    "#### K-means4"
   ]
  },
  {
   "cell_type": "code",
   "execution_count": 43,
   "metadata": {},
   "outputs": [
    {
     "data": {
      "text/plain": [
       "KNeighborsRegressor(algorithm='auto', leaf_size=30, metric='minkowski',\n",
       "          metric_params=None, n_jobs=1, n_neighbors=5, p=2,\n",
       "          weights='uniform')"
      ]
     },
     "execution_count": 43,
     "metadata": {},
     "output_type": "execute_result"
    }
   ],
   "source": [
    "#K-mean_4\n",
    "X_train, X_test, y_train, y_test = train_test_split(kmean_4.ix[:, kmean_4.columns != 'int_rate'], \n",
    "                                            kmean_4['int_rate'], \n",
    "                                            test_size=0.30)\n",
    "clf = neighbors.KNeighborsRegressor()\n",
    "clf.fit(X_train, y_train)"
   ]
  },
  {
   "cell_type": "code",
   "execution_count": 44,
   "metadata": {},
   "outputs": [
    {
     "name": "stdout",
     "output_type": "stream",
     "text": [
      "0.293537543602\n",
      "-----Train-----\n",
      "RMS:  4.479558938892795\n",
      "MAE:  3.45644452223\n",
      "MAPE:  24.393988095689576\n",
      "-----Test-----\n",
      "RMS:  5.7412177401307325\n",
      "MAE:  4.38395102041\n",
      "MAPE:  30.972916053413623\n"
     ]
    }
   ],
   "source": [
    "# Accuracy of the model created\n",
    "accuracy = clf.score(X_train, y_train)\n",
    "print(accuracy)\n",
    "\n",
    "y_test_predicted = clf.predict(X_test)\n",
    "y_train_predicted= clf.predict(X_train)    \n",
    "\n",
    "#finished square footage of the property, square footage of lot, tax amounts, number of bedrooms, and number of units\n",
    "#MAE, RMS, MAPE\n",
    "rms = sqrt(mean_squared_error(y_train, y_train_predicted))    \n",
    "mae_train = mean_absolute_error(y_train, y_train_predicted) \n",
    "mape_train = np.mean(np.abs((y_train - y_train_predicted) / y_train)) * 100\n",
    "print(\"-----Train-----\")\n",
    "print('RMS: ',rms)\n",
    "print('MAE: ',mae_train)\n",
    "print('MAPE: ',mape_train)\n",
    "#finished square footage of the property, square footage of lot, tax amounts, number of bedrooms, and number of units\n",
    "#MAE, RMS, MAPE\n",
    "rms = sqrt(mean_squared_error(y_test, y_test_predicted))    \n",
    "mae_test = mean_absolute_error(y_test, y_test_predicted)\n",
    "mape_test = np.mean(np.abs((y_test - y_test_predicted) / y_test)) * 100\n",
    "print(\"-----Test-----\")\n",
    "print('RMS: ',rms)\n",
    "print('MAE: ',mae_test)\n",
    "print('MAPE: ',mape_test)"
   ]
  },
  {
   "cell_type": "markdown",
   "metadata": {},
   "source": [
    "#### K-means5"
   ]
  },
  {
   "cell_type": "code",
   "execution_count": 45,
   "metadata": {},
   "outputs": [
    {
     "data": {
      "text/plain": [
       "KNeighborsRegressor(algorithm='auto', leaf_size=30, metric='minkowski',\n",
       "          metric_params=None, n_jobs=1, n_neighbors=5, p=2,\n",
       "          weights='uniform')"
      ]
     },
     "execution_count": 45,
     "metadata": {},
     "output_type": "execute_result"
    }
   ],
   "source": [
    "#K-mean_5\n",
    "X_train, X_test, y_train, y_test = train_test_split(kmean_5.ix[:, kmean_5.columns != 'int_rate'], \n",
    "                                            kmean_5['int_rate'], \n",
    "                                            test_size=0.30)\n",
    "clf = neighbors.KNeighborsRegressor()\n",
    "clf.fit(X_train, y_train)"
   ]
  },
  {
   "cell_type": "code",
   "execution_count": 46,
   "metadata": {},
   "outputs": [
    {
     "name": "stdout",
     "output_type": "stream",
     "text": [
      "0.44491475578\n",
      "-----Train-----\n",
      "RMS:  3.6448698740782386\n",
      "MAE:  2.80613695277\n",
      "MAPE:  19.539661012433974\n",
      "-----Test-----\n",
      "RMS:  4.418021373501154\n",
      "MAE:  3.40123447238\n",
      "MAPE:  23.769021165764666\n"
     ]
    }
   ],
   "source": [
    "# Accuracy of the model created\n",
    "accuracy = clf.score(X_train, y_train)\n",
    "print(accuracy)\n",
    "\n",
    "y_test_predicted = clf.predict(X_test)\n",
    "y_train_predicted= clf.predict(X_train)    \n",
    "\n",
    "#finished square footage of the property, square footage of lot, tax amounts, number of bedrooms, and number of units\n",
    "#MAE, RMS, MAPE\n",
    "rms = sqrt(mean_squared_error(y_train, y_train_predicted))    \n",
    "mae_train = mean_absolute_error(y_train, y_train_predicted) \n",
    "mape_train = np.mean(np.abs((y_train - y_train_predicted) / y_train)) * 100\n",
    "print(\"-----Train-----\")\n",
    "print('RMS: ',rms)\n",
    "print('MAE: ',mae_train)\n",
    "print('MAPE: ',mape_train)\n",
    "#finished square footage of the property, square footage of lot, tax amounts, number of bedrooms, and number of units\n",
    "#MAE, RMS, MAPE\n",
    "rms = sqrt(mean_squared_error(y_test, y_test_predicted))    \n",
    "mae_test = mean_absolute_error(y_test, y_test_predicted)\n",
    "mape_test = np.mean(np.abs((y_test - y_test_predicted) / y_test)) * 100\n",
    "print(\"-----Test-----\")\n",
    "print('RMS: ',rms)\n",
    "print('MAE: ',mae_test)\n",
    "print('MAPE: ',mape_test)"
   ]
  },
  {
   "cell_type": "markdown",
   "metadata": {},
   "source": [
    "#### K-mean_6"
   ]
  },
  {
   "cell_type": "code",
   "execution_count": 47,
   "metadata": {},
   "outputs": [
    {
     "data": {
      "text/plain": [
       "KNeighborsRegressor(algorithm='auto', leaf_size=30, metric='minkowski',\n",
       "          metric_params=None, n_jobs=1, n_neighbors=5, p=2,\n",
       "          weights='uniform')"
      ]
     },
     "execution_count": 47,
     "metadata": {},
     "output_type": "execute_result"
    }
   ],
   "source": [
    "#K-mean_6\n",
    "X_train, X_test, y_train, y_test = train_test_split(kmean_6.ix[:, kmean_6.columns != 'int_rate'], \n",
    "                                            kmean_6['int_rate'], \n",
    "                                            test_size=0.30)\n",
    "clf = neighbors.KNeighborsRegressor()\n",
    "clf.fit(X_train, y_train)"
   ]
  },
  {
   "cell_type": "code",
   "execution_count": 48,
   "metadata": {},
   "outputs": [
    {
     "name": "stdout",
     "output_type": "stream",
     "text": [
      "0.476204604049\n",
      "-----Train-----\n",
      "RMS:  3.279912741562528\n",
      "MAE:  2.50715632301\n",
      "MAPE:  20.861852490342496\n",
      "-----Test-----\n",
      "RMS:  4.022961281370181\n",
      "MAE:  3.07546478742\n",
      "MAPE:  25.78431650856751\n"
     ]
    }
   ],
   "source": [
    "# Accuracy of the model created\n",
    "accuracy = clf.score(X_train, y_train)\n",
    "print(accuracy)\n",
    "\n",
    "y_test_predicted = clf.predict(X_test)\n",
    "y_train_predicted= clf.predict(X_train)    \n",
    "\n",
    "#finished square footage of the property, square footage of lot, tax amounts, number of bedrooms, and number of units\n",
    "#MAE, RMS, MAPE\n",
    "rms = sqrt(mean_squared_error(y_train, y_train_predicted))    \n",
    "mae_train = mean_absolute_error(y_train, y_train_predicted) \n",
    "mape_train = np.mean(np.abs((y_train - y_train_predicted) / y_train)) * 100\n",
    "print(\"-----Train-----\")\n",
    "print('RMS: ',rms)\n",
    "print('MAE: ',mae_train)\n",
    "print('MAPE: ',mape_train)\n",
    "#finished square footage of the property, square footage of lot, tax amounts, number of bedrooms, and number of units\n",
    "#MAE, RMS, MAPE\n",
    "rms = sqrt(mean_squared_error(y_test, y_test_predicted))    \n",
    "mae_test = mean_absolute_error(y_test, y_test_predicted)\n",
    "mape_test = np.mean(np.abs((y_test - y_test_predicted) / y_test)) * 100\n",
    "print(\"-----Test-----\")\n",
    "print('RMS: ',rms)\n",
    "print('MAE: ',mae_test)\n",
    "print('MAPE: ',mape_test)"
   ]
  },
  {
   "cell_type": "markdown",
   "metadata": {},
   "source": [
    "#### K-means7"
   ]
  },
  {
   "cell_type": "code",
   "execution_count": 49,
   "metadata": {},
   "outputs": [
    {
     "data": {
      "text/plain": [
       "KNeighborsRegressor(algorithm='auto', leaf_size=30, metric='minkowski',\n",
       "          metric_params=None, n_jobs=1, n_neighbors=5, p=2,\n",
       "          weights='uniform')"
      ]
     },
     "execution_count": 49,
     "metadata": {},
     "output_type": "execute_result"
    }
   ],
   "source": [
    "#K-mean_7\n",
    "X_train, X_test, y_train, y_test = train_test_split(kmean_7.ix[:, kmean_7.columns != 'int_rate'], \n",
    "                                            kmean_7['int_rate'], \n",
    "                                            test_size=0.30)\n",
    "clf = neighbors.KNeighborsRegressor()\n",
    "clf.fit(X_train, y_train)"
   ]
  },
  {
   "cell_type": "code",
   "execution_count": 50,
   "metadata": {},
   "outputs": [
    {
     "name": "stdout",
     "output_type": "stream",
     "text": [
      "0.442103614384\n",
      "-----Train-----\n",
      "RMS:  3.102149168515197\n",
      "MAE:  2.37596675236\n",
      "MAPE:  21.653252528237203\n",
      "-----Test-----\n",
      "RMS:  3.8231429610351237\n",
      "MAE:  2.92680114308\n",
      "MAPE:  26.738903525497363\n"
     ]
    }
   ],
   "source": [
    "# Accuracy of the model created\n",
    "accuracy = clf.score(X_train, y_train)\n",
    "print(accuracy)\n",
    "\n",
    "y_test_predicted = clf.predict(X_test)\n",
    "y_train_predicted= clf.predict(X_train)    \n",
    "\n",
    "#finished square footage of the property, square footage of lot, tax amounts, number of bedrooms, and number of units\n",
    "#MAE, RMS, MAPE\n",
    "rms = sqrt(mean_squared_error(y_train, y_train_predicted))    \n",
    "mae_train = mean_absolute_error(y_train, y_train_predicted) \n",
    "mape_train = np.mean(np.abs((y_train - y_train_predicted) / y_train)) * 100\n",
    "print(\"-----Train-----\")\n",
    "print('RMS: ',rms)\n",
    "print('MAE: ',mae_train)\n",
    "print('MAPE: ',mape_train)\n",
    "#finished square footage of the property, square footage of lot, tax amounts, number of bedrooms, and number of units\n",
    "#MAE, RMS, MAPE\n",
    "rms = sqrt(mean_squared_error(y_test, y_test_predicted))    \n",
    "mae_test = mean_absolute_error(y_test, y_test_predicted)\n",
    "mape_test = np.mean(np.abs((y_test - y_test_predicted) / y_test)) * 100\n",
    "print(\"-----Test-----\")\n",
    "print('RMS: ',rms)\n",
    "print('MAE: ',mae_test)\n",
    "print('MAPE: ',mape_test)"
   ]
  },
  {
   "cell_type": "markdown",
   "metadata": {
    "collapsed": true
   },
   "source": [
    "The text in the document by SHREYANTH REDDY BEZAWADA is licensed under CC BY 3.0 https://creativecommons.org/licenses/by/3.0/us/\n",
    "\n",
    "Copyright 2018 SHREYANTH REDDY BEZAWADA AND ADITYA MOHAN KUMAR\n",
    "\n",
    "Permission is hereby granted, free of charge, to any person obtaining a copy of this software and associated documentation files (the \"Software\"), to deal in the Software without restriction, including without limitation the rights to use, copy, modify, merge, publish, distribute, sublicense, and/or sell copies of the Software, and to permit persons to whom the Software is furnished to do so, subject to the following conditions:\n",
    "\n",
    "The above copyright notice and this permission notice shall be included in all copies or substantial portions of the Software.\n",
    "\n",
    "THE SOFTWARE IS PROVIDED \"AS IS\", WITHOUT WARRANTY OF ANY KIND, EXPRESS OR IMPLIED, INCLUDING BUT NOT LIMITED TO THE WARRANTIES OF MERCHANTABILITY, FITNESS FOR A PARTICULAR PURPOSE AND NONINFRINGEMENT. IN NO EVENT SHALL THE AUTHORS OR COPYRIGHT HOLDERS BE LIABLE FOR ANY CLAIM, DAMAGES OR OTHER LIABILITY, WHETHER IN AN ACTION OF CONTRACT, TORT OR OTHERWISE, ARISING FROM, OUT OF OR IN CONNECTION WITH THE SOFTWARE OR THE USE OR OTHER DEALINGS IN THE SOFTWARE."
   ]
  },
  {
   "cell_type": "code",
   "execution_count": null,
   "metadata": {
    "collapsed": true
   },
   "outputs": [],
   "source": []
  },
  {
   "cell_type": "code",
   "execution_count": null,
   "metadata": {
    "collapsed": true
   },
   "outputs": [],
   "source": []
  }
 ],
 "metadata": {
  "anaconda-cloud": {},
  "kernelspec": {
   "display_name": "Python 3",
   "language": "python",
   "name": "python3"
  },
  "language_info": {
   "codemirror_mode": {
    "name": "ipython",
    "version": 3
   },
   "file_extension": ".py",
   "mimetype": "text/x-python",
   "name": "python",
   "nbconvert_exporter": "python",
   "pygments_lexer": "ipython3",
   "version": "3.6.2"
  }
 },
 "nbformat": 4,
 "nbformat_minor": 2
}
