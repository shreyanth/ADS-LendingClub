{
 "cells": [
  {
   "cell_type": "markdown",
   "metadata": {},
   "source": [
    "# CLUSTERING - RANDOM FOREST"
   ]
  },
  {
   "cell_type": "markdown",
   "metadata": {},
   "source": [
    "# Imports"
   ]
  },
  {
   "cell_type": "code",
   "execution_count": 2,
   "metadata": {},
   "outputs": [
    {
     "name": "stderr",
     "output_type": "stream",
     "text": [
      "C:\\Users\\madhu\\Anaconda3\\lib\\site-packages\\sklearn\\cross_validation.py:44: DeprecationWarning: This module was deprecated in version 0.18 in favor of the model_selection module into which all the refactored classes and functions are moved. Also note that the interface of the new CV iterators are different from that of this module. This module will be removed in 0.20.\n",
      "  \"This module will be removed in 0.20.\", DeprecationWarning)\n",
      "C:\\Users\\madhu\\Anaconda3\\lib\\site-packages\\sklearn\\grid_search.py:43: DeprecationWarning: This module was deprecated in version 0.18 in favor of the model_selection module into which all the refactored classes and functions are moved. This module will be removed in 0.20.\n",
      "  DeprecationWarning)\n",
      "C:\\Users\\madhu\\Anaconda3\\lib\\site-packages\\sklearn\\lda.py:6: DeprecationWarning: lda.LDA has been moved to discriminant_analysis.LinearDiscriminantAnalysis in 0.17 and will be removed in 0.19\n",
      "  \"in 0.17 and will be removed in 0.19\", DeprecationWarning)\n",
      "C:\\Users\\madhu\\Anaconda3\\lib\\site-packages\\sklearn\\learning_curve.py:23: DeprecationWarning: This module was deprecated in version 0.18 in favor of the model_selection module into which all the functions are moved. This module will be removed in 0.20\n",
      "  DeprecationWarning)\n",
      "C:\\Users\\madhu\\Anaconda3\\lib\\site-packages\\sklearn\\qda.py:6: DeprecationWarning: qda.QDA has been moved to discriminant_analysis.QuadraticDiscriminantAnalysis in 0.17 and will be removed in 0.19.\n",
      "  \"in 0.17 and will be removed in 0.19.\", DeprecationWarning)\n"
     ]
    }
   ],
   "source": [
    "import warnings\n",
    "warnings.filterwarnings('ignore')\n",
    "import pandas as pd\n",
    "import pickle\n",
    "import numpy as np\n",
    "from sklearn.externals import joblib\n",
    "from sklearn import *\n",
    "from sklearn import cluster\n",
    "from sklearn.metrics import mean_squared_error,mean_absolute_error\n",
    "from math import sqrt\n",
    "from sklearn.model_selection import train_test_split\n",
    "from sklearn.linear_model import LogisticRegression\n",
    "from sklearn.ensemble import RandomForestRegressor\n",
    "from sklearn.metrics import confusion_matrix\n",
    "from sklearn import preprocessing, cross_validation"
   ]
  },
  {
   "cell_type": "markdown",
   "metadata": {},
   "source": [
    "## Load clean loan csv "
   ]
  },
  {
   "cell_type": "code",
   "execution_count": 3,
   "metadata": {
    "collapsed": true
   },
   "outputs": [],
   "source": [
    "loan_df = pd.read_csv('../Loan.csv', low_memory=False) "
   ]
  },
  {
   "cell_type": "code",
   "execution_count": null,
   "metadata": {
    "collapsed": true
   },
   "outputs": [],
   "source": [
    "loan_df.columns"
   ]
  },
  {
   "cell_type": "code",
   "execution_count": 5,
   "metadata": {
    "collapsed": true
   },
   "outputs": [],
   "source": [
    "loan_df['policy_code'] = loan_df['policy_code'].astype(int)"
   ]
  },
  {
   "cell_type": "markdown",
   "metadata": {},
   "source": [
    "# Remove General Columns Not Needed"
   ]
  },
  {
   "cell_type": "code",
   "execution_count": 5,
   "metadata": {
    "collapsed": true
   },
   "outputs": [],
   "source": [
    "feature_df = loan_df[['application_type','emp_length', 'dti', 'annual_inc',\n",
    "       'int_rate', 'loan_amnt', 'purpose', 'State', 'home_ownership', 'term', 'fico', 'approval']]"
   ]
  },
  {
   "cell_type": "markdown",
   "metadata": {},
   "source": [
    "# Dealing with catagorical variables"
   ]
  },
  {
   "cell_type": "code",
   "execution_count": 6,
   "metadata": {
    "collapsed": true
   },
   "outputs": [],
   "source": [
    "home_ownerships = pd.get_dummies(feature_df['home_ownership'], prefix='house')\n",
    "feature_df = feature_df.join(home_ownerships)\n",
    "feature_df.drop('home_ownership', axis=1, inplace=True)\n",
    "\n",
    "app_type = pd.get_dummies(feature_df['application_type'], prefix='appType')\n",
    "feature_df = feature_df.join(app_type)\n",
    "feature_df.drop('application_type', axis=1, inplace=True)\n",
    "\n",
    "adr_states = pd.get_dummies(feature_df['State'], prefix='s')\n",
    "feature_df = feature_df.join(adr_states)\n",
    "feature_df.drop('State', axis=1, inplace=True)\n",
    "\n",
    "#purpose   \n",
    "purpose = pd.get_dummies(feature_df['purpose'], prefix='purpose')\n",
    "feature_df = feature_df.join(purpose)\n",
    "feature_df.drop('purpose', axis=1, inplace=True)"
   ]
  },
  {
   "cell_type": "markdown",
   "metadata": {},
   "source": [
    "# No Clustering"
   ]
  },
  {
   "cell_type": "code",
   "execution_count": 53,
   "metadata": {
    "collapsed": true
   },
   "outputs": [],
   "source": [
    "zero_cluster_df = feature_df"
   ]
  },
  {
   "cell_type": "code",
   "execution_count": 54,
   "metadata": {
    "collapsed": true
   },
   "outputs": [],
   "source": [
    "X_train, X_test, y_train, y_test = train_test_split(zero_cluster_df.ix[:, zero_cluster_df.columns != 'int_rate'], \n",
    "                                            zero_cluster_df['int_rate'], \n",
    "                                            test_size=0.30)"
   ]
  },
  {
   "cell_type": "code",
   "execution_count": 55,
   "metadata": {},
   "outputs": [
    {
     "data": {
      "text/plain": [
       "RandomForestRegressor(bootstrap=True, criterion='mse', max_depth=None,\n",
       "           max_features='auto', max_leaf_nodes=None,\n",
       "           min_impurity_decrease=0.0, min_impurity_split=None,\n",
       "           min_samples_leaf=1, min_samples_split=2,\n",
       "           min_weight_fraction_leaf=0.0, n_estimators=60, n_jobs=1,\n",
       "           oob_score=False, random_state=None, verbose=0, warm_start=False)"
      ]
     },
     "execution_count": 55,
     "metadata": {},
     "output_type": "execute_result"
    }
   ],
   "source": [
    "rf = RandomForestRegressor(n_estimators=60)\n",
    "rf.fit(X_train, y_train)"
   ]
  },
  {
   "cell_type": "code",
   "execution_count": 56,
   "metadata": {},
   "outputs": [
    {
     "name": "stdout",
     "output_type": "stream",
     "text": [
      "0.91570957196\n"
     ]
    }
   ],
   "source": [
    "# Accuracy of the model created\n",
    "accuracy = rf.score(X_train, y_train)\n",
    "print(accuracy)"
   ]
  },
  {
   "cell_type": "code",
   "execution_count": 57,
   "metadata": {
    "collapsed": true
   },
   "outputs": [],
   "source": [
    "y_test_predicted = rf.predict(X_test)\n",
    "y_train_predicted= rf.predict(X_train)"
   ]
  },
  {
   "cell_type": "code",
   "execution_count": 59,
   "metadata": {},
   "outputs": [
    {
     "name": "stdout",
     "output_type": "stream",
     "text": [
      "-----Train-----\n",
      "RMS:  1.3653917422006892\n",
      "MAE:  1.02942860799\n",
      "MAPE:  8.388974819000946\n",
      "-----Test-----\n",
      "RMS:  3.621423338283415\n",
      "MAE:  2.76597611817\n",
      "MAPE:  22.567188962954894\n"
     ]
    }
   ],
   "source": [
    "#finished square footage of the property, square footage of lot, tax amounts, number of bedrooms, and number of units\n",
    "#MAE, RMS, MAPE\n",
    "rms = sqrt(mean_squared_error(y_train, y_train_predicted))    \n",
    "mae_train = mean_absolute_error(y_train, y_train_predicted) \n",
    "mape_train = np.mean(np.abs((y_train - y_train_predicted) / y_train)) * 100\n",
    "print(\"-----Train-----\")\n",
    "print('RMS: ',rms)\n",
    "print('MAE: ',mae_train)\n",
    "print('MAPE: ',mape_train)\n",
    "#finished square footage of the property, square footage of lot, tax amounts, number of bedrooms, and number of units\n",
    "#MAE, RMS, MAPE\n",
    "rms = sqrt(mean_squared_error(y_test, y_test_predicted))    \n",
    "mae_test = mean_absolute_error(y_test, y_test_predicted)\n",
    "mape_test = np.mean(np.abs((y_test - y_test_predicted) / y_test)) * 100\n",
    "print(\"-----Test-----\")\n",
    "print('RMS: ',rms)\n",
    "print('MAE: ',mae_test)\n",
    "print('MAPE: ',mape_test)"
   ]
  },
  {
   "cell_type": "markdown",
   "metadata": {},
   "source": [
    "# Manual Clustering"
   ]
  },
  {
   "cell_type": "code",
   "execution_count": 60,
   "metadata": {
    "collapsed": true
   },
   "outputs": [],
   "source": [
    "manual_df = feature_df\n",
    "def clustering(fico):\n",
    "    cluster_name = ''\n",
    "    if fico>790.0:\n",
    "        cluster_name ='K1'\n",
    "    elif ((fico <= 790.0) & (fico>750.0)):\n",
    "        cluster_name = 'K2'\n",
    "    elif ((fico <=750.0) & (fico>700.0)):\n",
    "        cluster_name ='K3'\n",
    "    elif ((fico <=700.0) & (fico>660.0)):\n",
    "        cluster_name= 'K4'\n",
    "    return cluster_name\n",
    "manual_df['cluster'] = manual_df['fico'].astype(float).map(lambda x: clustering(x))"
   ]
  },
  {
   "cell_type": "code",
   "execution_count": 61,
   "metadata": {},
   "outputs": [
    {
     "data": {
      "text/html": [
       "<div>\n",
       "<table border=\"1\" class=\"dataframe\">\n",
       "  <thead>\n",
       "    <tr style=\"text-align: right;\">\n",
       "      <th></th>\n",
       "      <th>emp_length</th>\n",
       "      <th>dti</th>\n",
       "      <th>annual_inc</th>\n",
       "      <th>int_rate</th>\n",
       "      <th>loan_amnt</th>\n",
       "      <th>term</th>\n",
       "      <th>fico</th>\n",
       "      <th>approval</th>\n",
       "      <th>house_ANY</th>\n",
       "      <th>house_MORTGAGE</th>\n",
       "      <th>...</th>\n",
       "      <th>purpose_house</th>\n",
       "      <th>purpose_major_purchase</th>\n",
       "      <th>purpose_medical</th>\n",
       "      <th>purpose_moving</th>\n",
       "      <th>purpose_other</th>\n",
       "      <th>purpose_renewable_energy</th>\n",
       "      <th>purpose_small_business</th>\n",
       "      <th>purpose_vacation</th>\n",
       "      <th>purpose_wedding</th>\n",
       "      <th>cluster</th>\n",
       "    </tr>\n",
       "  </thead>\n",
       "  <tbody>\n",
       "    <tr>\n",
       "      <th>0</th>\n",
       "      <td>10</td>\n",
       "      <td>27.65</td>\n",
       "      <td>24000.0</td>\n",
       "      <td>10.65</td>\n",
       "      <td>5000.0</td>\n",
       "      <td>36</td>\n",
       "      <td>737.0</td>\n",
       "      <td>1</td>\n",
       "      <td>0</td>\n",
       "      <td>0</td>\n",
       "      <td>...</td>\n",
       "      <td>0</td>\n",
       "      <td>0</td>\n",
       "      <td>0</td>\n",
       "      <td>0</td>\n",
       "      <td>0</td>\n",
       "      <td>0</td>\n",
       "      <td>0</td>\n",
       "      <td>0</td>\n",
       "      <td>0</td>\n",
       "      <td>K3</td>\n",
       "    </tr>\n",
       "    <tr>\n",
       "      <th>1</th>\n",
       "      <td>1</td>\n",
       "      <td>1.00</td>\n",
       "      <td>30000.0</td>\n",
       "      <td>15.27</td>\n",
       "      <td>2500.0</td>\n",
       "      <td>60</td>\n",
       "      <td>742.0</td>\n",
       "      <td>1</td>\n",
       "      <td>0</td>\n",
       "      <td>0</td>\n",
       "      <td>...</td>\n",
       "      <td>0</td>\n",
       "      <td>0</td>\n",
       "      <td>0</td>\n",
       "      <td>0</td>\n",
       "      <td>0</td>\n",
       "      <td>0</td>\n",
       "      <td>0</td>\n",
       "      <td>0</td>\n",
       "      <td>0</td>\n",
       "      <td>K3</td>\n",
       "    </tr>\n",
       "    <tr>\n",
       "      <th>2</th>\n",
       "      <td>10</td>\n",
       "      <td>8.72</td>\n",
       "      <td>12252.0</td>\n",
       "      <td>15.96</td>\n",
       "      <td>2400.0</td>\n",
       "      <td>36</td>\n",
       "      <td>737.0</td>\n",
       "      <td>1</td>\n",
       "      <td>0</td>\n",
       "      <td>0</td>\n",
       "      <td>...</td>\n",
       "      <td>0</td>\n",
       "      <td>0</td>\n",
       "      <td>0</td>\n",
       "      <td>0</td>\n",
       "      <td>0</td>\n",
       "      <td>0</td>\n",
       "      <td>1</td>\n",
       "      <td>0</td>\n",
       "      <td>0</td>\n",
       "      <td>K3</td>\n",
       "    </tr>\n",
       "    <tr>\n",
       "      <th>3</th>\n",
       "      <td>10</td>\n",
       "      <td>20.00</td>\n",
       "      <td>49200.0</td>\n",
       "      <td>13.49</td>\n",
       "      <td>10000.0</td>\n",
       "      <td>36</td>\n",
       "      <td>692.0</td>\n",
       "      <td>1</td>\n",
       "      <td>0</td>\n",
       "      <td>0</td>\n",
       "      <td>...</td>\n",
       "      <td>0</td>\n",
       "      <td>0</td>\n",
       "      <td>0</td>\n",
       "      <td>0</td>\n",
       "      <td>1</td>\n",
       "      <td>0</td>\n",
       "      <td>0</td>\n",
       "      <td>0</td>\n",
       "      <td>0</td>\n",
       "      <td>K4</td>\n",
       "    </tr>\n",
       "    <tr>\n",
       "      <th>4</th>\n",
       "      <td>1</td>\n",
       "      <td>17.94</td>\n",
       "      <td>80000.0</td>\n",
       "      <td>12.69</td>\n",
       "      <td>3000.0</td>\n",
       "      <td>60</td>\n",
       "      <td>697.0</td>\n",
       "      <td>1</td>\n",
       "      <td>0</td>\n",
       "      <td>0</td>\n",
       "      <td>...</td>\n",
       "      <td>0</td>\n",
       "      <td>0</td>\n",
       "      <td>0</td>\n",
       "      <td>0</td>\n",
       "      <td>1</td>\n",
       "      <td>0</td>\n",
       "      <td>0</td>\n",
       "      <td>0</td>\n",
       "      <td>0</td>\n",
       "      <td>K4</td>\n",
       "    </tr>\n",
       "  </tbody>\n",
       "</table>\n",
       "<p>5 rows × 80 columns</p>\n",
       "</div>"
      ],
      "text/plain": [
       "   emp_length    dti  annual_inc  int_rate  loan_amnt  term   fico  approval  \\\n",
       "0          10  27.65     24000.0     10.65     5000.0    36  737.0         1   \n",
       "1           1   1.00     30000.0     15.27     2500.0    60  742.0         1   \n",
       "2          10   8.72     12252.0     15.96     2400.0    36  737.0         1   \n",
       "3          10  20.00     49200.0     13.49    10000.0    36  692.0         1   \n",
       "4           1  17.94     80000.0     12.69     3000.0    60  697.0         1   \n",
       "\n",
       "   house_ANY  house_MORTGAGE   ...     purpose_house  purpose_major_purchase  \\\n",
       "0          0               0   ...                 0                       0   \n",
       "1          0               0   ...                 0                       0   \n",
       "2          0               0   ...                 0                       0   \n",
       "3          0               0   ...                 0                       0   \n",
       "4          0               0   ...                 0                       0   \n",
       "\n",
       "   purpose_medical  purpose_moving  purpose_other  purpose_renewable_energy  \\\n",
       "0                0               0              0                         0   \n",
       "1                0               0              0                         0   \n",
       "2                0               0              0                         0   \n",
       "3                0               0              1                         0   \n",
       "4                0               0              1                         0   \n",
       "\n",
       "   purpose_small_business  purpose_vacation  purpose_wedding  cluster  \n",
       "0                       0                 0                0       K3  \n",
       "1                       0                 0                0       K3  \n",
       "2                       1                 0                0       K3  \n",
       "3                       0                 0                0       K4  \n",
       "4                       0                 0                0       K4  \n",
       "\n",
       "[5 rows x 80 columns]"
      ]
     },
     "execution_count": 61,
     "metadata": {},
     "output_type": "execute_result"
    }
   ],
   "source": [
    "manual_df.head()"
   ]
  },
  {
   "cell_type": "code",
   "execution_count": 62,
   "metadata": {
    "collapsed": true
   },
   "outputs": [],
   "source": [
    "#Seperate into diff dataframes\n",
    "manual_c1 = manual_df[manual_df['cluster']=='K1']\n",
    "manual_c1.drop('cluster',axis=1,inplace=True)\n",
    "manual_c2 = manual_df[manual_df['cluster']=='K2']\n",
    "manual_c2.drop('cluster',axis=1,inplace=True)\n",
    "manual_c3 = manual_df[manual_df['cluster']=='K3']\n",
    "manual_c3.drop('cluster',axis=1,inplace=True)\n",
    "manual_c4 = manual_df[manual_df['cluster']=='K4']\n",
    "manual_c4.drop('cluster',axis=1,inplace=True)"
   ]
  },
  {
   "cell_type": "code",
   "execution_count": 63,
   "metadata": {},
   "outputs": [
    {
     "name": "stdout",
     "output_type": "stream",
     "text": [
      "0.911108546776\n",
      "-----Train-----\n",
      "RMS:  0.9417753517711168\n",
      "MAE:  0.635550693847\n",
      "MAPE:  0.07504401234926672\n",
      "-----Test-----\n",
      "RMS:  2.4391171684956174\n",
      "MAE:  1.68122858885\n",
      "MAPE:  0.1983450672983454\n"
     ]
    }
   ],
   "source": [
    "#Manual 1\n",
    "X_train, X_test, y_train, y_test = train_test_split(manual_c1.ix[:, manual_c1.columns != 'int_rate'], \n",
    "                                            manual_c1['int_rate'], \n",
    "                                            test_size=0.30)\n",
    "rf = RandomForestRegressor(n_estimators=60)#max_depth =6,random_state=0)\n",
    "rf.fit(X_train, y_train)\n",
    "\n",
    "# Accuracy of the model created\n",
    "accuracy = rf.score(X_train, y_train)\n",
    "print(accuracy)\n",
    "\n",
    "y_test_predicted = rf.predict(X_test)\n",
    "y_train_predicted= rf.predict(X_train)\n",
    "\n",
    "#finished square footage of the property, square footage of lot, tax amounts, number of bedrooms, and number of units\n",
    "#MAE, RMS, MAPE\n",
    "rms = sqrt(mean_squared_error(y_train, y_train_predicted))    \n",
    "mae_train = mean_absolute_error(y_train, y_train_predicted) \n",
    "mape_train = np.mean(np.abs((y_train - y_train_predicted) / y_train))\n",
    "print(\"-----Train-----\")\n",
    "print('RMS: ',rms)\n",
    "print('MAE: ',mae_train)\n",
    "print('MAPE: ',mape_train)\n",
    "#finished square footage of the property, square footage of lot, tax amounts, number of bedrooms, and number of units\n",
    "#MAE, RMS, MAPE\n",
    "rms = sqrt(mean_squared_error(y_test, y_test_predicted))    \n",
    "mae_test = mean_absolute_error(y_test, y_test_predicted)\n",
    "mape_test = np.mean(np.abs((y_test - y_test_predicted) / y_test))\n",
    "print(\"-----Test-----\")\n",
    "print('RMS: ',rms)\n",
    "print('MAE: ',mae_test)\n",
    "print('MAPE: ',mape_test)"
   ]
  },
  {
   "cell_type": "code",
   "execution_count": 33,
   "metadata": {},
   "outputs": [
    {
     "name": "stdout",
     "output_type": "stream",
     "text": [
      "0.906278490354\n",
      "-----Train-----\n",
      "RMS:  1.1164585319551865\n",
      "MAE:  0.787638460991\n",
      "MAPE:  8.58870617074232\n",
      "-----Test-----\n",
      "RMS:  2.9401312677168545\n",
      "MAE:  2.10222240015\n",
      "MAPE:  22.953272156575824\n"
     ]
    }
   ],
   "source": [
    "#manual 2\n",
    "X_train, X_test, y_train, y_test = train_test_split(manual_c2.ix[:, manual_c2.columns != 'int_rate'], \n",
    "                                            manual_c2['int_rate'], \n",
    "                                            test_size=0.30)\n",
    "rf = RandomForestRegressor(n_estimators=60)#max_depth =6,random_state=0)\n",
    "rf.fit(X_train, y_train)\n",
    "\n",
    "y_test_predicted = rf.predict(X_test)\n",
    "y_train_predicted= rf.predict(X_train)\n",
    "\n",
    "# Accuracy of the model created\n",
    "accuracy = rf.score(X_train, y_train)\n",
    "print(accuracy)\n",
    "\n",
    "\n",
    "\n",
    "#finished square footage of the property, square footage of lot, tax amounts, number of bedrooms, and number of units\n",
    "#MAE, RMS, MAPE\n",
    "rms = sqrt(mean_squared_error(y_train, y_train_predicted))    \n",
    "mae_train = mean_absolute_error(y_train, y_train_predicted) \n",
    "mape_train = np.mean(np.abs((y_train - y_train_predicted) / y_train))\n",
    "print(\"-----Train-----\")\n",
    "print('RMS: ',rms)\n",
    "print('MAE: ',mae_train)\n",
    "print('MAPE: ',mape_train)\n",
    "#finished square footage of the property, square footage of lot, tax amounts, number of bedrooms, and number of units\n",
    "#MAE, RMS, MAPE\n",
    "rms = sqrt(mean_squared_error(y_test, y_test_predicted))    \n",
    "mae_test = mean_absolute_error(y_test, y_test_predicted)\n",
    "mape_test = np.mean(np.abs((y_test - y_test_predicted) / y_test)) * 100\n",
    "print(\"-----Test-----\")\n",
    "print('RMS: ',rms)\n",
    "print('MAE: ',mae_test)\n",
    "print('MAPE: ',mape_test)"
   ]
  },
  {
   "cell_type": "code",
   "execution_count": 64,
   "metadata": {},
   "outputs": [
    {
     "name": "stdout",
     "output_type": "stream",
     "text": [
      "0.906580656282\n",
      "-----Train-----\n",
      "RMS:  1.3074766892289085\n",
      "MAE:  0.982107592976\n",
      "MAPE:  0.08983705909746303\n",
      "-----Test-----\n",
      "RMS:  3.449707412935476\n",
      "MAE:  2.62498282121\n",
      "MAPE:  0.24078770827111284\n"
     ]
    }
   ],
   "source": [
    "#Manual 3\n",
    "X_train, X_test, y_train, y_test = train_test_split(manual_c3.ix[:, manual_c3.columns != 'int_rate'], \n",
    "                                            manual_c3['int_rate'], \n",
    "                                            test_size=0.30)\n",
    "rf = RandomForestRegressor(n_estimators=60)#max_depth =6,random_state=0)\n",
    "rf.fit(X_train, y_train)\n",
    "\n",
    "# Accuracy of the model created\n",
    "accuracy = rf.score(X_train, y_train)\n",
    "print(accuracy)\n",
    "\n",
    "y_test_predicted = rf.predict(X_test)\n",
    "y_train_predicted= rf.predict(X_train)\n",
    "\n",
    "#finished square footage of the property, square footage of lot, tax amounts, number of bedrooms, and number of units\n",
    "#MAE, RMS, MAPE\n",
    "rms = sqrt(mean_squared_error(y_train, y_train_predicted))    \n",
    "mae_train = mean_absolute_error(y_train, y_train_predicted) \n",
    "mape_train = np.mean(np.abs((y_train - y_train_predicted) / y_train))\n",
    "print(\"-----Train-----\")\n",
    "print('RMS: ',rms)\n",
    "print('MAE: ',mae_train)\n",
    "print('MAPE: ',mape_train)\n",
    "#finished square footage of the property, square footage of lot, tax amounts, number of bedrooms, and number of units\n",
    "#MAE, RMS, MAPE\n",
    "rms = sqrt(mean_squared_error(y_test, y_test_predicted))    \n",
    "mae_test = mean_absolute_error(y_test, y_test_predicted)\n",
    "mape_test = np.mean(np.abs((y_test - y_test_predicted) / y_test))\n",
    "print(\"-----Test-----\")\n",
    "print('RMS: ',rms)\n",
    "print('MAE: ',mae_test)\n",
    "print('MAPE: ',mape_test)"
   ]
  },
  {
   "cell_type": "code",
   "execution_count": 65,
   "metadata": {},
   "outputs": [
    {
     "name": "stdout",
     "output_type": "stream",
     "text": [
      "0.899716618317\n",
      "-----Train-----\n",
      "RMS:  1.4246667404404396\n",
      "MAE:  1.08803070645\n",
      "MAPE:  8.094641623609645\n",
      "-----Test-----\n",
      "RMS:  3.7824351753660186\n",
      "MAE:  2.92358161704\n",
      "MAPE:  21.765301258555095\n"
     ]
    }
   ],
   "source": [
    "#Manual 4\n",
    "X_train, X_test, y_train, y_test = train_test_split(manual_c4.ix[:, manual_c4.columns != 'int_rate'], \n",
    "                                            manual_c4['int_rate'], \n",
    "                                            test_size=0.30)\n",
    "rf = RandomForestRegressor(n_estimators=60)#max_depth =6,random_state=0)\n",
    "rf.fit(X_train, y_train)\n",
    "\n",
    "# Accuracy of the model created\n",
    "accuracy = rf.score(X_train, y_train)\n",
    "print(accuracy)\n",
    "\n",
    "y_test_predicted = rf.predict(X_test)\n",
    "y_train_predicted= rf.predict(X_train)\n",
    "\n",
    "#finished square footage of the property, square footage of lot, tax amounts, number of bedrooms, and number of units\n",
    "#MAE, RMS, MAPE\n",
    "rms = sqrt(mean_squared_error(y_train, y_train_predicted))    \n",
    "mae_train = mean_absolute_error(y_train, y_train_predicted) \n",
    "mape_train = np.mean(np.abs((y_train - y_train_predicted) / y_train)) * 100\n",
    "print(\"-----Train-----\")\n",
    "print('RMS: ',rms)\n",
    "print('MAE: ',mae_train)\n",
    "print('MAPE: ',mape_train)\n",
    "#finished square footage of the property, square footage of lot, tax amounts, number of bedrooms, and number of units\n",
    "#MAE, RMS, MAPE\n",
    "rms = sqrt(mean_squared_error(y_test, y_test_predicted))    \n",
    "mae_test = mean_absolute_error(y_test, y_test_predicted)\n",
    "mape_test = np.mean(np.abs((y_test - y_test_predicted) / y_test)) * 100\n",
    "print(\"-----Test-----\")\n",
    "print('RMS: ',rms)\n",
    "print('MAE: ',mae_test)\n",
    "print('MAPE: ',mape_test)"
   ]
  },
  {
   "cell_type": "markdown",
   "metadata": {},
   "source": [
    "# K-Means"
   ]
  },
  {
   "cell_type": "code",
   "execution_count": 7,
   "metadata": {
    "collapsed": true
   },
   "outputs": [],
   "source": [
    "k_cluster = joblib.load(open('../kmeanCluster.pkl', 'rb'))\n",
    "#Create new column in load_df for the k-means clustering \n",
    "k_mean_feature_df = feature_df\n",
    "k_mean_feature_df['kMean'] = k_cluster.labels_"
   ]
  },
  {
   "cell_type": "code",
   "execution_count": 8,
   "metadata": {
    "collapsed": true
   },
   "outputs": [],
   "source": [
    "kmean_0 = k_mean_feature_df[k_mean_feature_df['kMean']==0]\n",
    "kmean_0.drop('kMean', axis=1, inplace=True)\n",
    "kmean_1 = k_mean_feature_df[k_mean_feature_df['kMean']==1]\n",
    "kmean_1.drop('kMean', axis=1, inplace=True)\n",
    "kmean_2 = k_mean_feature_df[k_mean_feature_df['kMean']==2]\n",
    "kmean_2.drop('kMean', axis=1, inplace=True)\n",
    "kmean_3 = k_mean_feature_df[k_mean_feature_df['kMean']==3]\n",
    "kmean_3.drop('kMean', axis=1, inplace=True)\n",
    "kmean_4 = k_mean_feature_df[k_mean_feature_df['kMean']==4]\n",
    "kmean_4.drop('kMean', axis=1, inplace=True)\n",
    "kmean_5 = k_mean_feature_df[k_mean_feature_df['kMean']==5]\n",
    "kmean_5.drop('kMean', axis=1, inplace=True)\n",
    "kmean_6 = k_mean_feature_df[k_mean_feature_df['kMean']==6]\n",
    "kmean_6.drop('kMean', axis=1, inplace=True)\n",
    "kmean_7 = k_mean_feature_df[k_mean_feature_df['kMean']==7]\n",
    "kmean_7.drop('kMean', axis=1, inplace=True)\n"
   ]
  },
  {
   "cell_type": "code",
   "execution_count": 9,
   "metadata": {},
   "outputs": [
    {
     "name": "stdout",
     "output_type": "stream",
     "text": [
      "0.908327968608\n",
      "-----K-MEANS-----\n",
      "-----Train-----\n",
      "RMS:  1.3094598478734147\n",
      "MAE:  0.986069852759\n",
      "MAPE:  0.08529245819527063\n",
      "RMS:  3.463937531434099\n",
      "MAE:  2.6361188782\n",
      "MAPE:  0.2274995545499195\n"
     ]
    }
   ],
   "source": [
    "#K-mean_0\n",
    "X_train, X_test, y_train, y_test = train_test_split(kmean_0.ix[:, kmean_0.columns != 'int_rate'], \n",
    "                                            kmean_0['int_rate'], \n",
    "                                            test_size=0.30)\n",
    "rf = RandomForestRegressor(n_estimators=60)#max_depth =6,random_state=0)\n",
    "rf.fit(X_train, y_train)\n",
    "\n",
    "# Accuracy of the model created\n",
    "accuracy = rf.score(X_train, y_train)\n",
    "print(accuracy)\n",
    "\n",
    "y_test_predicted = rf.predict(X_test)\n",
    "y_train_predicted= rf.predict(X_train)\n",
    "\n",
    "#finished square footage of the property, square footage of lot, tax amounts, number of bedrooms, and number of units\n",
    "#MAE, RMS, MAPE\n",
    "rms = sqrt(mean_squared_error(y_train, y_train_predicted))    \n",
    "mae_train = mean_absolute_error(y_train, y_train_predicted) \n",
    "mape_train = np.mean(np.abs((y_train - y_train_predicted) / y_train))\n",
    "print('-----K-MEANS-----')\n",
    "print(\"-----Train-----\")\n",
    "print('RMS: ',rms)\n",
    "print('MAE: ',mae_train)\n",
    "print('MAPE: ',mape_train)\n",
    "#finished square footage of the property, square footage of lot, tax amounts, number of bedrooms, and number of units\n",
    "#MAE, RMS, MAPE\n",
    "rms = sqrt(mean_squared_error(y_test, y_test_predicted))    \n",
    "mae_test = mean_absolute_error(y_test, y_test_predicted)\n",
    "mape_test = np.mean(np.abs((y_test - y_test_predicted) / y_test)) \n",
    "(\"-----Test-----\")\n",
    "print('RMS: ',rms)\n",
    "print('MAE: ',mae_test)\n",
    "print('MAPE: ',mape_test)"
   ]
  },
  {
   "cell_type": "code",
   "execution_count": 10,
   "metadata": {},
   "outputs": [
    {
     "name": "stdout",
     "output_type": "stream",
     "text": [
      "0.908262504958\n",
      "-----K-MEANS-----\n",
      "-----Train-----\n",
      "RMS:  1.4975024100421304\n",
      "MAE:  1.13987558207\n",
      "MAPE:  0.08135625398780764\n",
      "-----Test-----\n",
      "RMS:  3.931813418317967\n",
      "MAE:  3.04365988444\n",
      "MAPE:  0.21745199748228294\n"
     ]
    }
   ],
   "source": [
    "#K-mean_1\n",
    "X_train, X_test, y_train, y_test = train_test_split(kmean_1.ix[:, kmean_1.columns != 'int_rate'], \n",
    "                                            kmean_1['int_rate'], \n",
    "                                            test_size=0.30)\n",
    "rf = RandomForestRegressor(n_estimators=60)#max_depth =6,random_state=0)\n",
    "rf.fit(X_train, y_train)\n",
    "\n",
    "# Accuracy of the model created\n",
    "accuracy = rf.score(X_train, y_train)\n",
    "print(accuracy)\n",
    "\n",
    "y_test_predicted = rf.predict(X_test)\n",
    "y_train_predicted= rf.predict(X_train)\n",
    "\n",
    "#finished square footage of the property, square footage of lot, tax amounts, number of bedrooms, and number of units\n",
    "#MAE, RMS, MAPE\n",
    "rms = sqrt(mean_squared_error(y_train, y_train_predicted))    \n",
    "mae_train = mean_absolute_error(y_train, y_train_predicted) \n",
    "mape_train = np.mean(np.abs((y_train - y_train_predicted) / y_train))\n",
    "print('-----K-MEANS-----')\n",
    "print(\"-----Train-----\")\n",
    "print('RMS: ',rms)\n",
    "print('MAE: ',mae_train)\n",
    "print('MAPE: ',mape_train)\n",
    "#finished square footage of the property, square footage of lot, tax amounts, number of bedrooms, and number of units\n",
    "#MAE, RMS, MAPE\n",
    "rms = sqrt(mean_squared_error(y_test, y_test_predicted))    \n",
    "mae_test = mean_absolute_error(y_test, y_test_predicted)\n",
    "mape_test = np.mean(np.abs((y_test - y_test_predicted) / y_test))\n",
    "print(\"-----Test-----\")\n",
    "print('RMS: ',rms)\n",
    "print('MAE: ',mae_test)\n",
    "print('MAPE: ',mape_test)"
   ]
  },
  {
   "cell_type": "code",
   "execution_count": 11,
   "metadata": {},
   "outputs": [
    {
     "name": "stdout",
     "output_type": "stream",
     "text": [
      "0.900780181718\n",
      "-----K-MEANS-----\n",
      "-----Train-----\n",
      "RMS:  1.3314900975708837\n",
      "MAE:  1.00283947481\n",
      "MAPE:  8.92516099403678\n",
      "-----Test-----\n",
      "RMS:  3.5412051254384407\n",
      "MAE:  2.69665760169\n",
      "MAPE:  23.928242322003737\n"
     ]
    }
   ],
   "source": [
    "#K-mean_2\n",
    "X_train, X_test, y_train, y_test = train_test_split(kmean_2.ix[:, kmean_2.columns != 'int_rate'], \n",
    "                                            kmean_2['int_rate'], \n",
    "                                            test_size=0.30)\n",
    "rf = RandomForestRegressor(n_estimators=60)#max_depth =6,random_state=0)\n",
    "rf.fit(X_train, y_train)\n",
    "\n",
    "# Accuracy of the model created\n",
    "accuracy = rf.score(X_train, y_train)\n",
    "print(accuracy)\n",
    "\n",
    "y_test_predicted = rf.predict(X_test)\n",
    "y_train_predicted= rf.predict(X_train)\n",
    "\n",
    "#finished square footage of the property, square footage of lot, tax amounts, number of bedrooms, and number of units\n",
    "#MAE, RMS, MAPE\n",
    "rms = sqrt(mean_squared_error(y_train, y_train_predicted))    \n",
    "mae_train = mean_absolute_error(y_train, y_train_predicted) \n",
    "mape_train = np.mean(np.abs((y_train - y_train_predicted) / y_train)) * 100\n",
    "print('-----K-MEANS-----')\n",
    "print(\"-----Train-----\")\n",
    "print('RMS: ',rms)\n",
    "print('MAE: ',mae_train)\n",
    "print('MAPE: ',mape_train)\n",
    "#finished square footage of the property, square footage of lot, tax amounts, number of bedrooms, and number of units\n",
    "#MAE, RMS, MAPE\n",
    "rms = sqrt(mean_squared_error(y_test, y_test_predicted))    \n",
    "mae_test = mean_absolute_error(y_test, y_test_predicted)\n",
    "mape_test = np.mean(np.abs((y_test - y_test_predicted) / y_test)) * 100\n",
    "print(\"-----Test-----\")\n",
    "print('RMS: ',rms)\n",
    "print('MAE: ',mae_test)\n",
    "print('MAPE: ',mape_test)"
   ]
  },
  {
   "cell_type": "code",
   "execution_count": 12,
   "metadata": {},
   "outputs": [
    {
     "name": "stdout",
     "output_type": "stream",
     "text": [
      "0.909420660257\n",
      "-----K-MEANS-----\n",
      "-----Train-----\n",
      "RMS:  1.3707070995775779\n",
      "MAE:  1.03130390647\n",
      "MAPE:  8.428978928278681\n",
      "-----Test-----\n",
      "RMS:  3.5919265078716522\n",
      "MAE:  2.7483461458\n",
      "MAPE:  22.50828262463927\n"
     ]
    }
   ],
   "source": [
    "#K-mean_3\n",
    "X_train, X_test, y_train, y_test = train_test_split(kmean_3.ix[:, kmean_3.columns != 'int_rate'], \n",
    "                                            kmean_3['int_rate'], \n",
    "                                            test_size=0.30)\n",
    "rf = RandomForestRegressor(n_estimators=60)#max_depth =6,random_state=0)\n",
    "rf.fit(X_train, y_train)\n",
    "\n",
    "# Accuracy of the model created\n",
    "accuracy = rf.score(X_train, y_train)\n",
    "print(accuracy)\n",
    "\n",
    "y_test_predicted = rf.predict(X_test)\n",
    "y_train_predicted= rf.predict(X_train)\n",
    "\n",
    "#finished square footage of the property, square footage of lot, tax amounts, number of bedrooms, and number of units\n",
    "#MAE, RMS, MAPE\n",
    "rms = sqrt(mean_squared_error(y_train, y_train_predicted))    \n",
    "mae_train = mean_absolute_error(y_train, y_train_predicted) \n",
    "mape_train = np.mean(np.abs((y_train - y_train_predicted) / y_train)) * 100\n",
    "print('-----K-MEANS-----')\n",
    "print(\"-----Train-----\")\n",
    "print('RMS: ',rms)\n",
    "print('MAE: ',mae_train)\n",
    "print('MAPE: ',mape_train)\n",
    "#finished square footage of the property, square footage of lot, tax amounts, number of bedrooms, and number of units\n",
    "#MAE, RMS, MAPE\n",
    "rms = sqrt(mean_squared_error(y_test, y_test_predicted))    \n",
    "mae_test = mean_absolute_error(y_test, y_test_predicted)\n",
    "mape_test = np.mean(np.abs((y_test - y_test_predicted) / y_test)) * 100\n",
    "print(\"-----Test-----\")\n",
    "print('RMS: ',rms)\n",
    "print('MAE: ',mae_test)\n",
    "print('MAPE: ',mape_test)"
   ]
  },
  {
   "cell_type": "code",
   "execution_count": 13,
   "metadata": {},
   "outputs": [
    {
     "name": "stdout",
     "output_type": "stream",
     "text": [
      "0.89413924155\n",
      "-----K-MEANS-----\n",
      "-----Train-----\n",
      "RMS:  1.7782555058244858\n",
      "MAE:  1.32322823296\n",
      "MAPE:  8.695658376828993\n",
      "-----Test-----\n",
      "RMS:  4.410859750250901\n",
      "MAE:  3.34692647059\n",
      "MAPE:  22.68643250510615\n"
     ]
    }
   ],
   "source": [
    "#K-mean_4\n",
    "X_train, X_test, y_train, y_test = train_test_split(kmean_4.ix[:, kmean_4.columns != 'int_rate'], \n",
    "                                            kmean_4['int_rate'], \n",
    "                                            test_size=0.30)\n",
    "rf = RandomForestRegressor(n_estimators=60)#max_depth =6,random_state=0)\n",
    "rf.fit(X_train, y_train)\n",
    "\n",
    "# Accuracy of the model created\n",
    "accuracy = rf.score(X_train, y_train)\n",
    "print(accuracy)\n",
    "\n",
    "y_test_predicted = rf.predict(X_test)\n",
    "y_train_predicted= rf.predict(X_train)\n",
    "\n",
    "#finished square footage of the property, square footage of lot, tax amounts, number of bedrooms, and number of units\n",
    "#MAE, RMS, MAPE\n",
    "rms = sqrt(mean_squared_error(y_train, y_train_predicted))    \n",
    "mae_train = mean_absolute_error(y_train, y_train_predicted) \n",
    "mape_train = np.mean(np.abs((y_train - y_train_predicted) / y_train)) * 100\n",
    "print('-----K-MEANS-----')\n",
    "print(\"-----Train-----\")\n",
    "print('RMS: ',rms)\n",
    "print('MAE: ',mae_train)\n",
    "print('MAPE: ',mape_train)\n",
    "#finished square footage of the property, square footage of lot, tax amounts, number of bedrooms, and number of units\n",
    "#MAE, RMS, MAPE\n",
    "rms = sqrt(mean_squared_error(y_test, y_test_predicted))    \n",
    "mae_test = mean_absolute_error(y_test, y_test_predicted)\n",
    "mape_test = np.mean(np.abs((y_test - y_test_predicted) / y_test)) * 100\n",
    "print(\"-----Test-----\")\n",
    "print('RMS: ',rms)\n",
    "print('MAE: ',mae_test)\n",
    "print('MAPE: ',mape_test)"
   ]
  },
  {
   "cell_type": "code",
   "execution_count": 14,
   "metadata": {},
   "outputs": [
    {
     "name": "stdout",
     "output_type": "stream",
     "text": [
      "0.909468044981\n",
      "-----K-MEANS-----\n",
      "-----Train-----\n",
      "RMS:  1.4569316914903374\n",
      "MAE:  1.10615380015\n",
      "MAPE:  8.361927051162844\n",
      "-----Test-----\n",
      "RMS:  3.8453134928435926\n",
      "MAE:  2.95394315494\n",
      "MAPE:  22.259663077444173\n"
     ]
    }
   ],
   "source": [
    "#K-mean_5\n",
    "X_train, X_test, y_train, y_test = train_test_split(kmean_5.ix[:, kmean_5.columns != 'int_rate'], \n",
    "                                            kmean_5['int_rate'], \n",
    "                                            test_size=0.30)\n",
    "rf = RandomForestRegressor(n_estimators=60)#max_depth =6,random_state=0)\n",
    "rf.fit(X_train, y_train)\n",
    "\n",
    "# Accuracy of the model created\n",
    "accuracy = rf.score(X_train, y_train)\n",
    "print(accuracy)\n",
    "\n",
    "y_test_predicted = rf.predict(X_test)\n",
    "y_train_predicted= rf.predict(X_train)\n",
    "\n",
    "#finished square footage of the property, square footage of lot, tax amounts, number of bedrooms, and number of units\n",
    "#MAE, RMS, MAPE\n",
    "rms = sqrt(mean_squared_error(y_train, y_train_predicted))    \n",
    "mae_train = mean_absolute_error(y_train, y_train_predicted) \n",
    "mape_train = np.mean(np.abs((y_train - y_train_predicted) / y_train)) * 100\n",
    "print('-----K-MEANS-----')\n",
    "print(\"-----Train-----\")\n",
    "print('RMS: ',rms)\n",
    "print('MAE: ',mae_train)\n",
    "print('MAPE: ',mape_train)\n",
    "#finished square footage of the property, square footage of lot, tax amounts, number of bedrooms, and number of units\n",
    "#MAE, RMS, MAPE\n",
    "rms = sqrt(mean_squared_error(y_test, y_test_predicted))    \n",
    "mae_test = mean_absolute_error(y_test, y_test_predicted)\n",
    "mape_test = np.mean(np.abs((y_test - y_test_predicted) / y_test)) * 100\n",
    "print(\"-----Test-----\")\n",
    "print('RMS: ',rms)\n",
    "print('MAE: ',mae_test)\n",
    "print('MAPE: ',mape_test)"
   ]
  },
  {
   "cell_type": "code",
   "execution_count": 15,
   "metadata": {},
   "outputs": [
    {
     "name": "stdout",
     "output_type": "stream",
     "text": [
      "0.905673884905\n",
      "-----K-MEANS-----\n",
      "-----Train-----\n",
      "RMS:  1.4987490791974232\n",
      "MAE:  1.1406205581\n",
      "MAPE:  7.827577071323651\n",
      "-----Test-----\n",
      "RMS:  3.943172661873083\n",
      "MAE:  3.03249012743\n",
      "MAPE:  20.912258276141017\n"
     ]
    }
   ],
   "source": [
    "#K-mean_6\n",
    "X_train, X_test, y_train, y_test = train_test_split(kmean_6.ix[:, kmean_6.columns != 'int_rate'], \n",
    "                                            kmean_6['int_rate'], \n",
    "                                            test_size=0.30)\n",
    "rf = RandomForestRegressor(n_estimators=60)#max_depth =6,random_state=0)\n",
    "rf.fit(X_train, y_train)\n",
    "\n",
    "# Accuracy of the model created\n",
    "accuracy = rf.score(X_train, y_train)\n",
    "print(accuracy)\n",
    "\n",
    "y_test_predicted = rf.predict(X_test)\n",
    "y_train_predicted= rf.predict(X_train)\n",
    "\n",
    "#finished square footage of the property, square footage of lot, tax amounts, number of bedrooms, and number of units\n",
    "#MAE, RMS, MAPE\n",
    "rms = sqrt(mean_squared_error(y_train, y_train_predicted))    \n",
    "mae_train = mean_absolute_error(y_train, y_train_predicted) \n",
    "mape_train = np.mean(np.abs((y_train - y_train_predicted) / y_train)) * 100\n",
    "print('-----K-MEANS-----')\n",
    "print(\"-----Train-----\")\n",
    "print('RMS: ',rms)\n",
    "print('MAE: ',mae_train)\n",
    "print('MAPE: ',mape_train)\n",
    "#finished square footage of the property, square footage of lot, tax amounts, number of bedrooms, and number of units\n",
    "#MAE, RMS, MAPE\n",
    "rms = sqrt(mean_squared_error(y_test, y_test_predicted))    \n",
    "mae_test = mean_absolute_error(y_test, y_test_predicted)\n",
    "mape_test = np.mean(np.abs((y_test - y_test_predicted) / y_test)) * 100\n",
    "print(\"-----Test-----\")\n",
    "print('RMS: ',rms)\n",
    "print('MAE: ',mae_test)\n",
    "print('MAPE: ',mape_test)"
   ]
  },
  {
   "cell_type": "code",
   "execution_count": 16,
   "metadata": {},
   "outputs": [
    {
     "name": "stdout",
     "output_type": "stream",
     "text": [
      "0.905848705016\n",
      "-----K-MEANS-----\n",
      "-----Train-----\n",
      "RMS:  1.2770719114307536\n",
      "MAE:  0.960040762355\n",
      "MAPE:  8.643726122137355\n",
      "-----Test-----\n",
      "RMS:  3.3653025647178745\n",
      "MAE:  2.57188898187\n",
      "MAPE:  23.33568112630891\n"
     ]
    }
   ],
   "source": [
    "#K-mean_7\n",
    "X_train, X_test, y_train, y_test = train_test_split(kmean_7.ix[:, kmean_7.columns != 'int_rate'], \n",
    "                                            kmean_7['int_rate'], \n",
    "                                            test_size=0.30)\n",
    "rf = RandomForestRegressor(n_estimators=60)#max_depth =6,random_state=0)\n",
    "rf.fit(X_train, y_train)\n",
    "\n",
    "# Accuracy of the model created\n",
    "accuracy = rf.score(X_train, y_train)\n",
    "print(accuracy)\n",
    "\n",
    "y_test_predicted = rf.predict(X_test)\n",
    "y_train_predicted= rf.predict(X_train)\n",
    "\n",
    "#finished square footage of the property, square footage of lot, tax amounts, number of bedrooms, and number of units\n",
    "#MAE, RMS, MAPE\n",
    "rms = sqrt(mean_squared_error(y_train, y_train_predicted))    \n",
    "mae_train = mean_absolute_error(y_train, y_train_predicted) \n",
    "mape_train = np.mean(np.abs((y_train - y_train_predicted) / y_train)) * 100\n",
    "print('-----K-MEANS-----')\n",
    "print(\"-----Train-----\")\n",
    "print('RMS: ',rms)\n",
    "print('MAE: ',mae_train)\n",
    "print('MAPE: ',mape_train)\n",
    "#finished square footage of the property, square footage of lot, tax amounts, number of bedrooms, and number of units\n",
    "#MAE, RMS, MAPE\n",
    "rms = sqrt(mean_squared_error(y_test, y_test_predicted))    \n",
    "mae_test = mean_absolute_error(y_test, y_test_predicted)\n",
    "mape_test = np.mean(np.abs((y_test - y_test_predicted) / y_test)) * 100\n",
    "print(\"-----Test-----\")\n",
    "print('RMS: ',rms)\n",
    "print('MAE: ',mae_test)\n",
    "print('MAPE: ',mape_test)"
   ]
  },
  {
   "cell_type": "markdown",
   "metadata": {
    "collapsed": true
   },
   "source": [
    "The text in the document by SHREYANTH REDDY BEZAWADA is licensed under CC BY 3.0 https://creativecommons.org/licenses/by/3.0/us/\n",
    "\n",
    "Copyright 2018 SHREYANTH REDDY BEZAWADA AND ADITYA MOHAN KUMAR\n",
    "\n",
    "Permission is hereby granted, free of charge, to any person obtaining a copy of this software and associated documentation files (the \"Software\"), to deal in the Software without restriction, including without limitation the rights to use, copy, modify, merge, publish, distribute, sublicense, and/or sell copies of the Software, and to permit persons to whom the Software is furnished to do so, subject to the following conditions:\n",
    "\n",
    "The above copyright notice and this permission notice shall be included in all copies or substantial portions of the Software.\n",
    "\n",
    "THE SOFTWARE IS PROVIDED \"AS IS\", WITHOUT WARRANTY OF ANY KIND, EXPRESS OR IMPLIED, INCLUDING BUT NOT LIMITED TO THE WARRANTIES OF MERCHANTABILITY, FITNESS FOR A PARTICULAR PURPOSE AND NONINFRINGEMENT. IN NO EVENT SHALL THE AUTHORS OR COPYRIGHT HOLDERS BE LIABLE FOR ANY CLAIM, DAMAGES OR OTHER LIABILITY, WHETHER IN AN ACTION OF CONTRACT, TORT OR OTHERWISE, ARISING FROM, OUT OF OR IN CONNECTION WITH THE SOFTWARE OR THE USE OR OTHER DEALINGS IN THE SOFTWARE."
   ]
  }
 ],
 "metadata": {
  "kernelspec": {
   "display_name": "Python 3",
   "language": "python",
   "name": "python3"
  },
  "language_info": {
   "codemirror_mode": {
    "name": "ipython",
    "version": 3
   },
   "file_extension": ".py",
   "mimetype": "text/x-python",
   "name": "python",
   "nbconvert_exporter": "python",
   "pygments_lexer": "ipython3",
   "version": "3.6.2"
  }
 },
 "nbformat": 4,
 "nbformat_minor": 2
}
