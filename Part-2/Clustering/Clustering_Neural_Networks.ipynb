{
 "cells": [
  {
   "cell_type": "markdown",
   "metadata": {},
   "source": [
    "# Imports"
   ]
  },
  {
   "cell_type": "code",
   "execution_count": 2,
   "metadata": {},
   "outputs": [
    {
     "name": "stderr",
     "output_type": "stream",
     "text": [
      "C:\\ProgramData\\Anaconda3\\lib\\site-packages\\sklearn\\cross_validation.py:41: DeprecationWarning: This module was deprecated in version 0.18 in favor of the model_selection module into which all the refactored classes and functions are moved. Also note that the interface of the new CV iterators are different from that of this module. This module will be removed in 0.20.\n",
      "  \"This module will be removed in 0.20.\", DeprecationWarning)\n",
      "C:\\ProgramData\\Anaconda3\\lib\\site-packages\\sklearn\\grid_search.py:42: DeprecationWarning: This module was deprecated in version 0.18 in favor of the model_selection module into which all the refactored classes and functions are moved. This module will be removed in 0.20.\n",
      "  DeprecationWarning)\n",
      "C:\\ProgramData\\Anaconda3\\lib\\site-packages\\sklearn\\learning_curve.py:22: DeprecationWarning: This module was deprecated in version 0.18 in favor of the model_selection module into which all the functions are moved. This module will be removed in 0.20\n",
      "  DeprecationWarning)\n"
     ]
    }
   ],
   "source": [
    "import warnings\n",
    "warnings.filterwarnings('ignore')\n",
    "import pandas as pd\n",
    "import pickle\n",
    "import numpy as np\n",
    "from sklearn.externals import joblib\n",
    "from sklearn import *\n",
    "from sklearn import cluster\n",
    "from sklearn.metrics import mean_squared_error,mean_absolute_error\n",
    "from math import sqrt\n",
    "from sklearn.model_selection import train_test_split\n",
    "from sklearn.neural_network import MLPRegressor\n",
    "from sklearn.cross_validation import train_test_split\n",
    "from sklearn.linear_model import LinearRegression\n",
    "from sklearn.metrics import mean_squared_error, mean_absolute_error\n",
    "from sklearn import preprocessing, cross_validation"
   ]
  },
  {
   "cell_type": "markdown",
   "metadata": {},
   "source": [
    "## Load clean loan csv "
   ]
  },
  {
   "cell_type": "code",
   "execution_count": 6,
   "metadata": {
    "collapsed": true
   },
   "outputs": [],
   "source": [
    "loan_df = pd.read_csv('/Users/madhu/Desktop/ADS Project/Part-1/Loan.csv', low_memory=False) "
   ]
  },
  {
   "cell_type": "code",
   "execution_count": 7,
   "metadata": {
    "scrolled": true
   },
   "outputs": [
    {
     "data": {
      "text/plain": [
       "Index(['id', 'debt_settlement_flag', 'application_type', 'fico_range_low',\n",
       "       'fico_range_high', 'emp_length', 'dti', 'annual_inc', 'grade',\n",
       "       'sub_grade', 'int_rate', 'loan_amnt', 'issue_d', 'purpose', 'State',\n",
       "       'home_ownership', 'zip_code', 'policy_code', 'term', 'Year', 'Month',\n",
       "       'fico', 'approval'],\n",
       "      dtype='object')"
      ]
     },
     "execution_count": 7,
     "metadata": {},
     "output_type": "execute_result"
    }
   ],
   "source": [
    "loan_df.columns"
   ]
  },
  {
   "cell_type": "markdown",
   "metadata": {},
   "source": [
    "# Remove General Columns Not Needed"
   ]
  },
  {
   "cell_type": "code",
   "execution_count": 8,
   "metadata": {
    "collapsed": true
   },
   "outputs": [],
   "source": [
    "feature_df = loan_df[['application_type','emp_length', 'dti', 'annual_inc',\n",
    "       'int_rate', 'loan_amnt', 'purpose', 'State', 'home_ownership', 'term', 'fico', 'approval']]"
   ]
  },
  {
   "cell_type": "code",
   "execution_count": 9,
   "metadata": {
    "collapsed": true
   },
   "outputs": [],
   "source": [
    "home_ownerships = pd.get_dummies(feature_df['home_ownership'], prefix='house')\n",
    "feature_df = feature_df.join(home_ownerships)\n",
    "feature_df.drop('home_ownership', axis=1, inplace=True)\n",
    "\n",
    "app_type = pd.get_dummies(feature_df['application_type'], prefix='appType')\n",
    "feature_df = feature_df.join(app_type)\n",
    "feature_df.drop('application_type', axis=1, inplace=True)\n",
    "\n",
    "adr_states = pd.get_dummies(feature_df['State'], prefix='s')\n",
    "feature_df = feature_df.join(adr_states)\n",
    "feature_df.drop('State', axis=1, inplace=True)\n",
    "\n",
    "#purpose   \n",
    "purpose = pd.get_dummies(feature_df['purpose'], prefix='purpose')\n",
    "feature_df = feature_df.join(purpose)\n",
    "feature_df.drop('purpose', axis=1, inplace=True)"
   ]
  },
  {
   "cell_type": "markdown",
   "metadata": {},
   "source": [
    "# No Clustering"
   ]
  },
  {
   "cell_type": "code",
   "execution_count": 7,
   "metadata": {
    "collapsed": true
   },
   "outputs": [],
   "source": [
    "zero_cluster_df = feature_df"
   ]
  },
  {
   "cell_type": "code",
   "execution_count": 8,
   "metadata": {
    "collapsed": true
   },
   "outputs": [],
   "source": [
    "X_train, X_test, y_train, y_test = train_test_split(zero_cluster_df.ix[:, zero_cluster_df.columns != 'int_rate'], \n",
    "                                            zero_cluster_df['int_rate'], \n",
    "                                            test_size=0.30)"
   ]
  },
  {
   "cell_type": "code",
   "execution_count": 9,
   "metadata": {},
   "outputs": [
    {
     "data": {
      "text/plain": [
       "MLPRegressor(activation='relu', alpha=0.0001, batch_size='auto', beta_1=0.9,\n",
       "       beta_2=0.999, early_stopping=False, epsilon=1e-08,\n",
       "       hidden_layer_sizes=(50, 25, 5), learning_rate='constant',\n",
       "       learning_rate_init=0.001, max_iter=15, momentum=0.9,\n",
       "       nesterovs_momentum=True, power_t=0.5, random_state=None,\n",
       "       shuffle=True, solver='adam', tol=0.0001, validation_fraction=0.1,\n",
       "       verbose=False, warm_start=False)"
      ]
     },
     "execution_count": 9,
     "metadata": {},
     "output_type": "execute_result"
    }
   ],
   "source": [
    "# Creating the model\n",
    "nn = MLPRegressor(hidden_layer_sizes=(50,25,5),max_iter=15,verbose=False, activation='relu',solver='adam')\n",
    "nn.fit(X=X_train.values,y= y_train)"
   ]
  },
  {
   "cell_type": "code",
   "execution_count": 10,
   "metadata": {},
   "outputs": [
    {
     "name": "stdout",
     "output_type": "stream",
     "text": [
      "-8.68636511053e-06\n"
     ]
    }
   ],
   "source": [
    "# Accuracy of the model created\n",
    "accuracy = nn.score(X_train, y_train)\n",
    "print(accuracy)"
   ]
  },
  {
   "cell_type": "code",
   "execution_count": 12,
   "metadata": {
    "collapsed": true
   },
   "outputs": [],
   "source": [
    "y_test_predicted = nn.predict(X_test)\n",
    "y_train_predicted= nn.predict(X_train)    "
   ]
  },
  {
   "cell_type": "code",
   "execution_count": 13,
   "metadata": {},
   "outputs": [
    {
     "name": "stdout",
     "output_type": "stream",
     "text": [
      "-----Train-----\n",
      "RMS:  4.704918752368495\n",
      "MAE:  3.67733429526\n",
      "MAPE:  32.68810832941217\n",
      "-----Test-----\n",
      "RMS:  4.706237862420787\n",
      "MAE:  3.67818549922\n",
      "MAPE:  32.690725958264\n"
     ]
    }
   ],
   "source": [
    "#finished square footage of the property, square footage of lot, tax amounts, number of bedrooms, and number of units\n",
    "#MAE, RMS, MAPE\n",
    "rms = sqrt(mean_squared_error(y_train, y_train_predicted))    \n",
    "mae_train = mean_absolute_error(y_train, y_train_predicted) \n",
    "mape_train = np.mean(np.abs((y_train - y_train_predicted) / y_train)) * 100\n",
    "print(\"-----Train-----\")\n",
    "print('RMS: ',rms)\n",
    "print('MAE: ',mae_train)\n",
    "print('MAPE: ',mape_train)\n",
    "#finished square footage of the property, square footage of lot, tax amounts, number of bedrooms, and number of units\n",
    "#MAE, RMS, MAPE\n",
    "rms = sqrt(mean_squared_error(y_test, y_test_predicted))    \n",
    "mae_test = mean_absolute_error(y_test, y_test_predicted)\n",
    "mape_test = np.mean(np.abs((y_test - y_test_predicted) / y_test)) * 100\n",
    "print(\"-----Test-----\")\n",
    "print('RMS: ',rms)\n",
    "print('MAE: ',mae_test)\n",
    "print('MAPE: ',mape_test)"
   ]
  },
  {
   "cell_type": "markdown",
   "metadata": {},
   "source": [
    "# Manual Clustering"
   ]
  },
  {
   "cell_type": "code",
   "execution_count": 14,
   "metadata": {
    "collapsed": true
   },
   "outputs": [],
   "source": [
    "manual_df = feature_df\n",
    "def clustering(fico):\n",
    "    cluster_name = ''\n",
    "    if fico>790.0:\n",
    "        cluster_name ='K1'\n",
    "    elif ((fico <= 790.0) & (fico>750.0)):\n",
    "        cluster_name = 'K2'\n",
    "    elif ((fico <=750.0) & (fico>700.0)):\n",
    "        cluster_name ='K3'\n",
    "    elif ((fico <=700.0) & (fico>660.0)):\n",
    "        cluster_name= 'K4'\n",
    "    return cluster_name\n",
    "manual_df['cluster'] = manual_df['fico'].astype(float).map(lambda x: clustering(x))"
   ]
  },
  {
   "cell_type": "code",
   "execution_count": 15,
   "metadata": {},
   "outputs": [
    {
     "data": {
      "text/html": [
       "<div>\n",
       "<style>\n",
       "    .dataframe thead tr:only-child th {\n",
       "        text-align: right;\n",
       "    }\n",
       "\n",
       "    .dataframe thead th {\n",
       "        text-align: left;\n",
       "    }\n",
       "\n",
       "    .dataframe tbody tr th {\n",
       "        vertical-align: top;\n",
       "    }\n",
       "</style>\n",
       "<table border=\"1\" class=\"dataframe\">\n",
       "  <thead>\n",
       "    <tr style=\"text-align: right;\">\n",
       "      <th></th>\n",
       "      <th>emp_length</th>\n",
       "      <th>dti</th>\n",
       "      <th>annual_inc</th>\n",
       "      <th>int_rate</th>\n",
       "      <th>loan_amnt</th>\n",
       "      <th>term</th>\n",
       "      <th>fico</th>\n",
       "      <th>approval</th>\n",
       "      <th>house_ANY</th>\n",
       "      <th>house_MORTGAGE</th>\n",
       "      <th>...</th>\n",
       "      <th>purpose_house</th>\n",
       "      <th>purpose_major_purchase</th>\n",
       "      <th>purpose_medical</th>\n",
       "      <th>purpose_moving</th>\n",
       "      <th>purpose_other</th>\n",
       "      <th>purpose_renewable_energy</th>\n",
       "      <th>purpose_small_business</th>\n",
       "      <th>purpose_vacation</th>\n",
       "      <th>purpose_wedding</th>\n",
       "      <th>cluster</th>\n",
       "    </tr>\n",
       "  </thead>\n",
       "  <tbody>\n",
       "    <tr>\n",
       "      <th>0</th>\n",
       "      <td>10</td>\n",
       "      <td>27.65</td>\n",
       "      <td>24000.0</td>\n",
       "      <td>10.65</td>\n",
       "      <td>5000.0</td>\n",
       "      <td>36</td>\n",
       "      <td>737.0</td>\n",
       "      <td>1</td>\n",
       "      <td>0</td>\n",
       "      <td>0</td>\n",
       "      <td>...</td>\n",
       "      <td>0</td>\n",
       "      <td>0</td>\n",
       "      <td>0</td>\n",
       "      <td>0</td>\n",
       "      <td>0</td>\n",
       "      <td>0</td>\n",
       "      <td>0</td>\n",
       "      <td>0</td>\n",
       "      <td>0</td>\n",
       "      <td>K3</td>\n",
       "    </tr>\n",
       "    <tr>\n",
       "      <th>1</th>\n",
       "      <td>1</td>\n",
       "      <td>1.00</td>\n",
       "      <td>30000.0</td>\n",
       "      <td>15.27</td>\n",
       "      <td>2500.0</td>\n",
       "      <td>60</td>\n",
       "      <td>742.0</td>\n",
       "      <td>1</td>\n",
       "      <td>0</td>\n",
       "      <td>0</td>\n",
       "      <td>...</td>\n",
       "      <td>0</td>\n",
       "      <td>0</td>\n",
       "      <td>0</td>\n",
       "      <td>0</td>\n",
       "      <td>0</td>\n",
       "      <td>0</td>\n",
       "      <td>0</td>\n",
       "      <td>0</td>\n",
       "      <td>0</td>\n",
       "      <td>K3</td>\n",
       "    </tr>\n",
       "    <tr>\n",
       "      <th>2</th>\n",
       "      <td>10</td>\n",
       "      <td>8.72</td>\n",
       "      <td>12252.0</td>\n",
       "      <td>15.96</td>\n",
       "      <td>2400.0</td>\n",
       "      <td>36</td>\n",
       "      <td>737.0</td>\n",
       "      <td>1</td>\n",
       "      <td>0</td>\n",
       "      <td>0</td>\n",
       "      <td>...</td>\n",
       "      <td>0</td>\n",
       "      <td>0</td>\n",
       "      <td>0</td>\n",
       "      <td>0</td>\n",
       "      <td>0</td>\n",
       "      <td>0</td>\n",
       "      <td>1</td>\n",
       "      <td>0</td>\n",
       "      <td>0</td>\n",
       "      <td>K3</td>\n",
       "    </tr>\n",
       "    <tr>\n",
       "      <th>3</th>\n",
       "      <td>10</td>\n",
       "      <td>20.00</td>\n",
       "      <td>49200.0</td>\n",
       "      <td>13.49</td>\n",
       "      <td>10000.0</td>\n",
       "      <td>36</td>\n",
       "      <td>692.0</td>\n",
       "      <td>1</td>\n",
       "      <td>0</td>\n",
       "      <td>0</td>\n",
       "      <td>...</td>\n",
       "      <td>0</td>\n",
       "      <td>0</td>\n",
       "      <td>0</td>\n",
       "      <td>0</td>\n",
       "      <td>1</td>\n",
       "      <td>0</td>\n",
       "      <td>0</td>\n",
       "      <td>0</td>\n",
       "      <td>0</td>\n",
       "      <td>K4</td>\n",
       "    </tr>\n",
       "    <tr>\n",
       "      <th>4</th>\n",
       "      <td>1</td>\n",
       "      <td>17.94</td>\n",
       "      <td>80000.0</td>\n",
       "      <td>12.69</td>\n",
       "      <td>3000.0</td>\n",
       "      <td>60</td>\n",
       "      <td>697.0</td>\n",
       "      <td>1</td>\n",
       "      <td>0</td>\n",
       "      <td>0</td>\n",
       "      <td>...</td>\n",
       "      <td>0</td>\n",
       "      <td>0</td>\n",
       "      <td>0</td>\n",
       "      <td>0</td>\n",
       "      <td>1</td>\n",
       "      <td>0</td>\n",
       "      <td>0</td>\n",
       "      <td>0</td>\n",
       "      <td>0</td>\n",
       "      <td>K4</td>\n",
       "    </tr>\n",
       "  </tbody>\n",
       "</table>\n",
       "<p>5 rows × 80 columns</p>\n",
       "</div>"
      ],
      "text/plain": [
       "   emp_length    dti  annual_inc  int_rate  loan_amnt  term   fico  approval  \\\n",
       "0          10  27.65     24000.0     10.65     5000.0    36  737.0         1   \n",
       "1           1   1.00     30000.0     15.27     2500.0    60  742.0         1   \n",
       "2          10   8.72     12252.0     15.96     2400.0    36  737.0         1   \n",
       "3          10  20.00     49200.0     13.49    10000.0    36  692.0         1   \n",
       "4           1  17.94     80000.0     12.69     3000.0    60  697.0         1   \n",
       "\n",
       "   house_ANY  house_MORTGAGE   ...     purpose_house  purpose_major_purchase  \\\n",
       "0          0               0   ...                 0                       0   \n",
       "1          0               0   ...                 0                       0   \n",
       "2          0               0   ...                 0                       0   \n",
       "3          0               0   ...                 0                       0   \n",
       "4          0               0   ...                 0                       0   \n",
       "\n",
       "   purpose_medical  purpose_moving  purpose_other  purpose_renewable_energy  \\\n",
       "0                0               0              0                         0   \n",
       "1                0               0              0                         0   \n",
       "2                0               0              0                         0   \n",
       "3                0               0              1                         0   \n",
       "4                0               0              1                         0   \n",
       "\n",
       "   purpose_small_business  purpose_vacation  purpose_wedding  cluster  \n",
       "0                       0                 0                0       K3  \n",
       "1                       0                 0                0       K3  \n",
       "2                       1                 0                0       K3  \n",
       "3                       0                 0                0       K4  \n",
       "4                       0                 0                0       K4  \n",
       "\n",
       "[5 rows x 80 columns]"
      ]
     },
     "execution_count": 15,
     "metadata": {},
     "output_type": "execute_result"
    }
   ],
   "source": [
    "manual_df.head()"
   ]
  },
  {
   "cell_type": "code",
   "execution_count": 16,
   "metadata": {
    "collapsed": true
   },
   "outputs": [],
   "source": [
    "#Seperate into diff dataframes\n",
    "manual_c1 = manual_df[manual_df['cluster']=='K1']\n",
    "manual_c1.drop('cluster',axis=1,inplace=True)\n",
    "manual_c2 = manual_df[manual_df['cluster']=='K2']\n",
    "manual_c2.drop('cluster',axis=1,inplace=True)\n",
    "manual_c3 = manual_df[manual_df['cluster']=='K3']\n",
    "manual_c3.drop('cluster',axis=1,inplace=True)\n",
    "manual_c4 = manual_df[manual_df['cluster']=='K4']\n",
    "manual_c4.drop('cluster',axis=1,inplace=True)"
   ]
  },
  {
   "cell_type": "code",
   "execution_count": 88,
   "metadata": {},
   "outputs": [
    {
     "name": "stdout",
     "output_type": "stream",
     "text": [
      "0.0357671069178\n",
      "-----Train-----\n",
      "RMS:  3.112798514608237\n",
      "MAE:  2.36273202772\n",
      "MAPE:  30.64515433150096\n",
      "-----Test-----\n",
      "RMS:  3.050423692205793\n",
      "MAE:  2.33555269735\n",
      "MAPE:  30.52036968259404\n"
     ]
    }
   ],
   "source": [
    "#Manual 1\n",
    "X_train, X_test, y_train, y_test = train_test_split(manual_c1.ix[:, manual_c1.columns != 'int_rate'], \n",
    "                                            manual_c1['int_rate'], \n",
    "                                            test_size=0.30)\n",
    "nn = MLPRegressor(hidden_layer_sizes=(50,10,5),max_iter=15,verbose=False, activation='relu',solver='adam')\n",
    "nn.fit(X=X_train.values,y= y_train)\n",
    "\n",
    "# Accuracy of the model created\n",
    "accuracy = nn.score(X_train, y_train)\n",
    "print(accuracy)\n",
    "\n",
    "y_test_predicted = nn.predict(X_test)\n",
    "y_train_predicted= nn.predict(X_train)    \n",
    "\n",
    "#finished square footage of the property, square footage of lot, tax amounts, number of bedrooms, and number of units\n",
    "#MAE, RMS, MAPE\n",
    "rms = sqrt(mean_squared_error(y_train, y_train_predicted))    \n",
    "mae_train = mean_absolute_error(y_train, y_train_predicted) \n",
    "mape_train = np.mean(np.abs((y_train - y_train_predicted) / y_train)) * 100\n",
    "print(\"-----Train-----\")\n",
    "print('RMS: ',rms)\n",
    "print('MAE: ',mae_train)\n",
    "print('MAPE: ',mape_train)\n",
    "#finished square footage of the property, square footage of lot, tax amounts, number of bedrooms, and number of units\n",
    "#MAE, RMS, MAPE\n",
    "rms = sqrt(mean_squared_error(y_test, y_test_predicted))    \n",
    "mae_test = mean_absolute_error(y_test, y_test_predicted)\n",
    "mape_test = np.mean(np.abs((y_test - y_test_predicted) / y_test)) * 100\n",
    "print(\"-----Test-----\")\n",
    "print('RMS: ',rms)\n",
    "print('MAE: ',mae_test) \n",
    "print('MAPE: ',mape_test)"
   ]
  },
  {
   "cell_type": "code",
   "execution_count": 17,
   "metadata": {},
   "outputs": [
    {
     "name": "stdout",
     "output_type": "stream",
     "text": [
      "-106.760877066\n",
      "-----Train-----\n",
      "RMS:  37.72988589233847\n",
      "MAE:  24.6172489375\n",
      "MAPE:  291.7503511386277\n",
      "-----Test-----\n",
      "RMS:  44.55991284250719\n",
      "MAE:  25.0196914707\n",
      "MAPE:  296.7688314608553\n"
     ]
    }
   ],
   "source": [
    "#manual 2\n",
    "X_train, X_test, y_train, y_test = train_test_split(manual_c2.ix[:, manual_c2.columns != 'int_rate'], \n",
    "                                            manual_c2['int_rate'], \n",
    "                                            test_size=0.30)\n",
    "nn = MLPRegressor(hidden_layer_sizes=(50,25,5),max_iter=15,verbose=False, activation='relu',solver='adam')\n",
    "nn.fit(X=X_train.values,y= y_train)\n",
    "\n",
    "# Accuracy of the model created\n",
    "accuracy = nn.score(X_train, y_train)\n",
    "print(accuracy)\n",
    "\n",
    "y_test_predicted = nn.predict(X_test)\n",
    "y_train_predicted= nn.predict(X_train)    \n",
    "\n",
    "#finished square footage of the property, square footage of lot, tax amounts, number of bedrooms, and number of units\n",
    "#MAE, RMS, MAPE\n",
    "rms = sqrt(mean_squared_error(y_train, y_train_predicted))    \n",
    "mae_train = mean_absolute_error(y_train, y_train_predicted) \n",
    "mape_train = np.mean(np.abs((y_train - y_train_predicted) / y_train)) * 100\n",
    "print(\"-----Train-----\")\n",
    "print('RMS: ',rms)\n",
    "print('MAE: ',mae_train)\n",
    "print('MAPE: ',mape_train)\n",
    "#finished square footage of the property, square footage of lot, tax amounts, number of bedrooms, and number of units\n",
    "#MAE, RMS, MAPE\n",
    "rms = sqrt(mean_squared_error(y_test, y_test_predicted))    \n",
    "mae_test = mean_absolute_error(y_test, y_test_predicted)\n",
    "mape_test = np.mean(np.abs((y_test - y_test_predicted) / y_test)) * 100\n",
    "print(\"-----Test-----\")\n",
    "print('RMS: ',rms)\n",
    "print('MAE: ',mae_test)\n",
    "print('MAPE: ',mape_test)"
   ]
  },
  {
   "cell_type": "code",
   "execution_count": 84,
   "metadata": {},
   "outputs": [
    {
     "name": "stdout",
     "output_type": "stream",
     "text": [
      "-1.85224112936e-07\n",
      "-----Train-----\n",
      "RMS:  4.271528163201085\n",
      "MAE:  3.34782065202\n",
      "MAPE:  32.34253692774148\n",
      "-----Test-----\n",
      "-----Test-----\n",
      "RMS:  4.26774904241576\n",
      "MAE:  3.34704416594\n",
      "MAPE:  32.19978544693551\n"
     ]
    }
   ],
   "source": [
    "#Manual 3\n",
    "X_train, X_test, y_train, y_test = train_test_split(manual_c3.ix[:, manual_c3.columns != 'int_rate'], \n",
    "                                            manual_c3['int_rate'], \n",
    "                                            test_size=0.30)\n",
    "nn = MLPRegressor(hidden_layer_sizes=(50,25,5),max_iter=15,verbose=False, activation='relu',solver='adam')\n",
    "nn.fit(X=X_train.values,y= y_train)\n",
    "\n",
    "# Accuracy of the model created\n",
    "accuracy = nn.score(X_train, y_train)\n",
    "print(accuracy)\n",
    "\n",
    "y_test_predicted = nn.predict(X_test)\n",
    "y_train_predicted= nn.predict(X_train)    \n",
    "\n",
    "#finished square footage of the property, square footage of lot, tax amounts, number of bedrooms, and number of units\n",
    "#MAE, RMS, MAPE\n",
    "rms = sqrt(mean_squared_error(y_train, y_train_predicted))    \n",
    "mae_train = mean_absolute_error(y_train, y_train_predicted) \n",
    "mape_train = np.mean(np.abs((y_train - y_train_predicted) / y_train)) * 100\n",
    "print(\"-----Train-----\")\n",
    "print('RMS: ',rms)\n",
    "print('MAE: ',mae_train)\n",
    "print('MAPE: ',mape_train)\n",
    "#finished square footage of the property, square footage of lot, tax amounts, number of bedrooms, and number of units\n",
    "#MAE, RMS, MAPE\n",
    "rms = sqrt(mean_squared_error(y_test, y_test_predicted))    \n",
    "mae_test = mean_absolute_error(y_test, y_test_predicted)\n",
    "mape_test = np.mean(np.abs((y_test - y_test_predicted) / y_test)) * 100\n",
    "print(\"-----Test-----\")\n",
    "print('RMS: ',rms)\n",
    "print('MAE: ',mae_test)\n",
    "print('MAPE: ',mape_test)"
   ]
  },
  {
   "cell_type": "code",
   "execution_count": 19,
   "metadata": {},
   "outputs": [
    {
     "name": "stdout",
     "output_type": "stream",
     "text": [
      "-9.76832689847e-07\n",
      "-----Train-----\n",
      "RMS:  4.504500675102132\n",
      "MAE:  3.50217771356\n",
      "MAPE:  26.877374611644335\n",
      "-----Test-----\n",
      "RMS:  4.497050337907634\n",
      "MAE:  3.50280339981\n",
      "MAPE:  26.94601238757474\n"
     ]
    }
   ],
   "source": [
    "#Manual 4\n",
    "X_train, X_test, y_train, y_test = train_test_split(manual_c4.ix[:, manual_c4.columns != 'int_rate'], \n",
    "                                            manual_c4['int_rate'], \n",
    "                                            test_size=0.30)\n",
    "nn = MLPRegressor(hidden_layer_sizes=(50,20,5),max_iter=10,verbose=False, activation='relu',solver='adam')\n",
    "nn.fit(X=X_train,y= y_train)\n",
    "\n",
    "# Accuracy of the model created\n",
    "accuracy = nn.score(X_train, y_train)\n",
    "print(accuracy)\n",
    "\n",
    "y_test_predicted = nn.predict(X_test)\n",
    "y_train_predicted= nn.predict(X_train)    \n",
    "\n",
    "#finished square footage of the property, square footage of lot, tax amounts, number of bedrooms, and number of units\n",
    "#MAE, RMS, MAPE\n",
    "rms = sqrt(mean_squared_error(y_train, y_train_predicted))    \n",
    "mae_train = mean_absolute_error(y_train, y_train_predicted) \n",
    "mape_train = np.mean(np.abs((y_train - y_train_predicted) / y_train)) * 100\n",
    "print(\"-----Train-----\")\n",
    "print('RMS: ',rms)\n",
    "print('MAE: ',mae_train)\n",
    "print('MAPE: ',mape_train)\n",
    "#finished square footage of the property, square footage of lot, tax amounts, number of bedrooms, and number of units\n",
    "#MAE, RMS, MAPE\n",
    "rms = sqrt(mean_squared_error(y_test, y_test_predicted))    \n",
    "mae_test = mean_absolute_error(y_test, y_test_predicted)\n",
    "mape_test = np.mean(np.abs((y_test - y_test_predicted) / y_test)) * 100\n",
    "print(\"-----Test-----\")\n",
    "print('RMS: ',rms)\n",
    "print('MAE: ',mae_test)\n",
    "print('MAPE: ',mape_test)"
   ]
  },
  {
   "cell_type": "markdown",
   "metadata": {},
   "source": [
    "# K-Means"
   ]
  },
  {
   "cell_type": "code",
   "execution_count": null,
   "metadata": {
    "collapsed": true
   },
   "outputs": [],
   "source": []
  },
  {
   "cell_type": "code",
   "execution_count": 10,
   "metadata": {
    "collapsed": true,
    "scrolled": true
   },
   "outputs": [],
   "source": [
    "k_cluster = joblib.load(open('/Users/madhu/Desktop/ADS Project/Part-2/Clustering/kmeanCluster.pkl', 'rb'))\n",
    "#Create new column in load_df for the k-means clustering k_mean_feature_df = feature_df\n",
    "k_mean_feature_df = feature_df\n",
    "k_mean_feature_df['kMean'] = k_cluster.labels_"
   ]
  },
  {
   "cell_type": "code",
   "execution_count": 11,
   "metadata": {
    "collapsed": true
   },
   "outputs": [],
   "source": [
    "kmean_0 = k_mean_feature_df[k_mean_feature_df['kMean']==0]\n",
    "kmean_0.drop('kMean', axis=1, inplace=True)\n",
    "kmean_1 = k_mean_feature_df[k_mean_feature_df['kMean']==1]\n",
    "kmean_1.drop('kMean', axis=1, inplace=True)\n",
    "kmean_2 = k_mean_feature_df[k_mean_feature_df['kMean']==2]\n",
    "kmean_2.drop('kMean', axis=1, inplace=True)\n",
    "kmean_3 = k_mean_feature_df[k_mean_feature_df['kMean']==3]\n",
    "kmean_3.drop('kMean', axis=1, inplace=True)\n",
    "kmean_4 = k_mean_feature_df[k_mean_feature_df['kMean']==4]\n",
    "kmean_4.drop('kMean', axis=1, inplace=True)\n",
    "kmean_5 = k_mean_feature_df[k_mean_feature_df['kMean']==5]\n",
    "kmean_5.drop('kMean', axis=1, inplace=True)\n",
    "kmean_6 = k_mean_feature_df[k_mean_feature_df['kMean']==6]\n",
    "kmean_6.drop('kMean', axis=1, inplace=True)\n",
    "kmean_7 = k_mean_feature_df[k_mean_feature_df['kMean']==7]\n",
    "kmean_7.drop('kMean', axis=1, inplace=True)\n"
   ]
  },
  {
   "cell_type": "code",
   "execution_count": 11,
   "metadata": {},
   "outputs": [
    {
     "name": "stdout",
     "output_type": "stream",
     "text": [
      "-0.182520586226\n",
      "-----Train-----\n",
      "RMS:  4.709718984882719\n",
      "MAE:  3.53743948984\n",
      "MAPE:  27.372358414170805\n",
      "-----Test-----\n",
      "RMS:  4.700659289564732\n",
      "MAE:  3.52826978102\n",
      "MAPE:  27.29300240415558\n"
     ]
    }
   ],
   "source": [
    "#K-mean_0\n",
    "X_train, X_test, y_train, y_test = train_test_split(kmean_0.ix[:, kmean_0.columns != 'int_rate'], \n",
    "                                            kmean_0['int_rate'], \n",
    "                                            test_size=0.30)\n",
    "nn = MLPRegressor(hidden_layer_sizes=(50,20,5),max_iter=10,verbose=False, activation='relu',solver='adam')\n",
    "nn.fit(X=X_train,y= y_train)\n",
    "\n",
    "# Accuracy of the model created\n",
    "accuracy = nn.score(X_train, y_train)\n",
    "print(accuracy)\n",
    "\n",
    "y_test_predicted = nn.predict(X_test)\n",
    "y_train_predicted= nn.predict(X_train)    \n",
    "\n",
    "#finished square footage of the property, square footage of lot, tax amounts, number of bedrooms, and number of units\n",
    "#MAE, RMS, MAPE\n",
    "rms = sqrt(mean_squared_error(y_train, y_train_predicted))    \n",
    "mae_train = mean_absolute_error(y_train, y_train_predicted) \n",
    "mape_train = np.mean(np.abs((y_train - y_train_predicted) / y_train)) * 100\n",
    "print(\"-----Train-----\")\n",
    "print('RMS: ',rms)\n",
    "print('MAE: ',mae_train)\n",
    "print('MAPE: ',mape_train)\n",
    "#finished square footage of the property, square footage of lot, tax amounts, number of bedrooms, and number of units\n",
    "#MAE, RMS, MAPE\n",
    "rms = sqrt(mean_squared_error(y_test, y_test_predicted))    \n",
    "mae_test = mean_absolute_error(y_test, y_test_predicted)\n",
    "mape_test = np.mean(np.abs((y_test - y_test_predicted) / y_test)) * 100\n",
    "print(\"-----Test-----\")\n",
    "print('RMS: ',rms)\n",
    "print('MAE: ',mae_test)\n",
    "print('MAPE: ',mape_test)"
   ]
  },
  {
   "cell_type": "code",
   "execution_count": 12,
   "metadata": {},
   "outputs": [
    {
     "name": "stdout",
     "output_type": "stream",
     "text": [
      "-2.74575566666\n",
      "-----Train-----\n",
      "RMS:  9.532549527688102\n",
      "MAE:  8.18948441447\n",
      "MAPE:  68.93221147836786\n",
      "-----Test-----\n",
      "RMS:  9.532840951791762\n",
      "MAE:  8.18104548325\n",
      "MAPE:  68.85802639951069\n"
     ]
    }
   ],
   "source": [
    "#K-mean_1\n",
    "X_train, X_test, y_train, y_test = train_test_split(kmean_1.ix[:, kmean_1.columns != 'int_rate'], \n",
    "                                            kmean_1['int_rate'], \n",
    "                                            test_size=0.30)\n",
    "nn = MLPRegressor(hidden_layer_sizes=(50,20,5),max_iter=10,verbose=False, activation='relu',solver='adam')\n",
    "nn.fit(X=X_train,y= y_train)\n",
    "\n",
    "# Accuracy of the model created\n",
    "accuracy = nn.score(X_train, y_train)\n",
    "print(accuracy)\n",
    "\n",
    "y_test_predicted = nn.predict(X_test)\n",
    "y_train_predicted= nn.predict(X_train)    \n",
    "\n",
    "#finished square footage of the property, square footage of lot, tax amounts, number of bedrooms, and number of units\n",
    "#MAE, RMS, MAPE\n",
    "rms = sqrt(mean_squared_error(y_train, y_train_predicted))    \n",
    "mae_train = mean_absolute_error(y_train, y_train_predicted) \n",
    "mape_train = np.mean(np.abs((y_train - y_train_predicted) / y_train)) * 100\n",
    "print(\"-----Train-----\")\n",
    "print('RMS: ',rms)\n",
    "print('MAE: ',mae_train)\n",
    "print('MAPE: ',mape_train)\n",
    "#finished square footage of the property, square footage of lot, tax amounts, number of bedrooms, and number of units\n",
    "#MAE, RMS, MAPE\n",
    "rms = sqrt(mean_squared_error(y_test, y_test_predicted))    \n",
    "mae_test = mean_absolute_error(y_test, y_test_predicted)\n",
    "mape_test = np.mean(np.abs((y_test - y_test_predicted) / y_test)) * 100\n",
    "print(\"-----Test-----\")\n",
    "print('RMS: ',rms)\n",
    "print('MAE: ',mae_test)\n",
    "print('MAPE: ',mape_test)"
   ]
  },
  {
   "cell_type": "code",
   "execution_count": 13,
   "metadata": {},
   "outputs": [
    {
     "name": "stdout",
     "output_type": "stream",
     "text": [
      "-1.26581760084\n",
      "-----Train-----\n",
      "RMS:  6.355492976047355\n",
      "MAE:  4.94430062188\n",
      "MAPE:  40.48319097658049\n",
      "-----Test-----\n",
      "RMS:  6.521404192349835\n",
      "MAE:  4.95141116152\n",
      "MAPE:  40.64446616299032\n"
     ]
    }
   ],
   "source": [
    "#K-mean_2\n",
    "X_train, X_test, y_train, y_test = train_test_split(kmean_2.ix[:, kmean_2.columns != 'int_rate'], \n",
    "                                            kmean_2['int_rate'], \n",
    "                                            test_size=0.30)\n",
    "nn = MLPRegressor(hidden_layer_sizes=(50,20,5),max_iter=10,verbose=False, activation='relu',solver='adam')\n",
    "nn.fit(X=X_train,y= y_train)\n",
    "\n",
    "# Accuracy of the model created\n",
    "accuracy = nn.score(X_train, y_train)\n",
    "print(accuracy)\n",
    "\n",
    "y_test_predicted = nn.predict(X_test)\n",
    "y_train_predicted= nn.predict(X_train)    \n",
    "\n",
    "#finished square footage of the property, square footage of lot, tax amounts, number of bedrooms, and number of units\n",
    "#MAE, RMS, MAPE\n",
    "rms = sqrt(mean_squared_error(y_train, y_train_predicted))    \n",
    "mae_train = mean_absolute_error(y_train, y_train_predicted) \n",
    "mape_train = np.mean(np.abs((y_train - y_train_predicted) / y_train)) * 100\n",
    "print(\"-----Train-----\")\n",
    "print('RMS: ',rms)\n",
    "print('MAE: ',mae_train)\n",
    "print('MAPE: ',mape_train)\n",
    "#finished square footage of the property, square footage of lot, tax amounts, number of bedrooms, and number of units\n",
    "#MAE, RMS, MAPE\n",
    "rms = sqrt(mean_squared_error(y_test, y_test_predicted))    \n",
    "mae_test = mean_absolute_error(y_test, y_test_predicted)\n",
    "mape_test = np.mean(np.abs((y_test - y_test_predicted) / y_test)) * 100\n",
    "print(\"-----Test-----\")\n",
    "print('RMS: ',rms)\n",
    "print('MAE: ',mae_test)\n",
    "print('MAPE: ',mape_test)"
   ]
  },
  {
   "cell_type": "code",
   "execution_count": 13,
   "metadata": {},
   "outputs": [
    {
     "name": "stdout",
     "output_type": "stream",
     "text": [
      "-8.14096802674\n",
      "-----Train-----\n",
      "RMS:  12.753206812003658\n",
      "MAE:  12.035422262\n",
      "MAPE:  99.52330842938551\n",
      "-----Test-----\n",
      "RMS:  12.80322213779656\n",
      "MAE:  12.0785291032\n",
      "MAPE:  99.52470502463441\n"
     ]
    }
   ],
   "source": [
    "#K-mean_3\n",
    "X_train, X_test, y_train, y_test = train_test_split(kmean_3.ix[:, kmean_3.columns != 'int_rate'], \n",
    "                                            kmean_3['int_rate'], \n",
    "                                            test_size=0.30)\n",
    "nn = MLPRegressor(hidden_layer_sizes=(50,20,5),max_iter=10,verbose=False, activation='relu',solver='adam')\n",
    "nn.fit(X=X_train,y= y_train)\n",
    "\n",
    "# Accuracy of the model created\n",
    "accuracy = nn.score(X_train, y_train)\n",
    "print(accuracy)\n",
    "\n",
    "y_test_predicted = nn.predict(X_test)\n",
    "y_train_predicted= nn.predict(X_train)    \n",
    "\n",
    "#finished square footage of the property, square footage of lot, tax amounts, number of bedrooms, and number of units\n",
    "#MAE, RMS, MAPE\n",
    "rms = sqrt(mean_squared_error(y_train, y_train_predicted))    \n",
    "mae_train = mean_absolute_error(y_train, y_train_predicted) \n",
    "mape_train = np.mean(np.abs((y_train - y_train_predicted) / y_train)) * 100\n",
    "print(\"-----Train-----\")\n",
    "print('RMS: ',rms)\n",
    "print('MAE: ',mae_train)\n",
    "print('MAPE: ',mape_train)\n",
    "#finished square footage of the property, square footage of lot, tax amounts, number of bedrooms, and number of units\n",
    "#MAE, RMS, MAPE\n",
    "rms = sqrt(mean_squared_error(y_test, y_test_predicted))    \n",
    "mae_test = mean_absolute_error(y_test, y_test_predicted)\n",
    "mape_test = np.mean(np.abs((y_test - y_test_predicted) / y_test)) * 100\n",
    "print(\"-----Test-----\")\n",
    "print('RMS: ',rms)\n",
    "print('MAE: ',mae_test)\n",
    "print('MAPE: ',mape_test)"
   ]
  },
  {
   "cell_type": "code",
   "execution_count": 15,
   "metadata": {},
   "outputs": [
    {
     "name": "stdout",
     "output_type": "stream",
     "text": [
      "-29.9532979699\n",
      "-----Train-----\n",
      "RMS:  29.749142069940145\n",
      "MAE:  21.7005821923\n",
      "MAPE:  162.59221160966243\n",
      "-----Test-----\n",
      "RMS:  30.156826255522883\n",
      "MAE:  21.4627983537\n",
      "MAPE:  158.55186798243858\n"
     ]
    }
   ],
   "source": [
    "#K-mean_4\n",
    "X_train, X_test, y_train, y_test = train_test_split(kmean_4.ix[:, kmean_4.columns != 'int_rate'], \n",
    "                                            kmean_4['int_rate'], \n",
    "                                            test_size=0.30)\n",
    "nn = MLPRegressor(hidden_layer_sizes=(50,20,5),max_iter=10,verbose=False, activation='relu',solver='adam')\n",
    "nn.fit(X=X_train,y= y_train)\n",
    "\n",
    "# Accuracy of the model created\n",
    "accuracy = nn.score(X_train, y_train)\n",
    "print(accuracy)\n",
    "\n",
    "y_test_predicted = nn.predict(X_test)\n",
    "y_train_predicted= nn.predict(X_train)    \n",
    "\n",
    "#finished square footage of the property, square footage of lot, tax amounts, number of bedrooms, and number of units\n",
    "#MAE, RMS, MAPE\n",
    "rms = sqrt(mean_squared_error(y_train, y_train_predicted))    \n",
    "mae_train = mean_absolute_error(y_train, y_train_predicted) \n",
    "mape_train = np.mean(np.abs((y_train - y_train_predicted) / y_train)) * 100\n",
    "print(\"-----Train-----\")\n",
    "print('RMS: ',rms)\n",
    "print('MAE: ',mae_train)\n",
    "print('MAPE: ',mape_train)\n",
    "#finished square footage of the property, square footage of lot, tax amounts, number of bedrooms, and number of units\n",
    "#MAE, RMS, MAPE\n",
    "rms = sqrt(mean_squared_error(y_test, y_test_predicted))    \n",
    "mae_test = mean_absolute_error(y_test, y_test_predicted)\n",
    "mape_test = np.mean(np.abs((y_test - y_test_predicted) / y_test)) * 100\n",
    "print(\"-----Test-----\")\n",
    "print('RMS: ',rms)\n",
    "print('MAE: ',mae_test)\n",
    "print('MAPE: ',mape_test)"
   ]
  },
  {
   "cell_type": "code",
   "execution_count": 14,
   "metadata": {},
   "outputs": [
    {
     "name": "stdout",
     "output_type": "stream",
     "text": [
      "-0.262780304083\n",
      "-----Train-----\n",
      "RMS:  5.4972811790807015\n",
      "MAE:  4.21902436979\n",
      "MAPE:  27.037351018040905\n",
      "-----Test-----\n",
      "RMS:  5.472212685601092\n",
      "MAE:  4.19007566638\n",
      "MAPE:  26.989675470231177\n"
     ]
    }
   ],
   "source": [
    "#K-mean_5\n",
    "X_train, X_test, y_train, y_test = train_test_split(kmean_5.ix[:, kmean_5.columns != 'int_rate'], \n",
    "                                            kmean_5['int_rate'], \n",
    "                                            test_size=0.30)\n",
    "nn = MLPRegressor(hidden_layer_sizes=(50,20,5),max_iter=10,verbose=False, activation='relu',solver='adam')\n",
    "nn.fit(X=X_train,y= y_train)\n",
    "\n",
    "# Accuracy of the model created\n",
    "accuracy = nn.score(X_train, y_train)\n",
    "print(accuracy)\n",
    "\n",
    "y_test_predicted = nn.predict(X_test)\n",
    "y_train_predicted= nn.predict(X_train)    \n",
    "\n",
    "#finished square footage of the property, square footage of lot, tax amounts, number of bedrooms, and number of units\n",
    "#MAE, RMS, MAPE\n",
    "rms = sqrt(mean_squared_error(y_train, y_train_predicted))    \n",
    "mae_train = mean_absolute_error(y_train, y_train_predicted) \n",
    "mape_train = np.mean(np.abs((y_train - y_train_predicted) / y_train)) * 100\n",
    "print(\"-----Train-----\")\n",
    "print('RMS: ',rms)\n",
    "print('MAE: ',mae_train)\n",
    "print('MAPE: ',mape_train)\n",
    "#finished square footage of the property, square footage of lot, tax amounts, number of bedrooms, and number of units\n",
    "#MAE, RMS, MAPE\n",
    "rms = sqrt(mean_squared_error(y_test, y_test_predicted))    \n",
    "mae_test = mean_absolute_error(y_test, y_test_predicted)\n",
    "mape_test = np.mean(np.abs((y_test - y_test_predicted) / y_test)) * 100\n",
    "print(\"-----Test-----\")\n",
    "print('RMS: ',rms)\n",
    "print('MAE: ',mae_test)\n",
    "print('MAPE: ',mape_test)"
   ]
  },
  {
   "cell_type": "code",
   "execution_count": 17,
   "metadata": {},
   "outputs": [
    {
     "name": "stdout",
     "output_type": "stream",
     "text": [
      "-0.0373696586843\n",
      "-----Train-----\n",
      "RMS:  4.960094716261637\n",
      "MAE:  3.96269252612\n",
      "MAPE:  30.984952591414093\n",
      "-----Test-----\n",
      "RMS:  4.97803122955649\n",
      "MAE:  3.97468213218\n",
      "MAPE:  31.057318233911808\n"
     ]
    }
   ],
   "source": [
    "#K-mean_6\n",
    "X_train, X_test, y_train, y_test = train_test_split(kmean_6.ix[:, kmean_6.columns != 'int_rate'], \n",
    "                                            kmean_6['int_rate'], \n",
    "                                            test_size=0.30)\n",
    "nn = MLPRegressor(hidden_layer_sizes=(50,20,5),max_iter=10,verbose=False, activation='relu',solver='adam')\n",
    "nn.fit(X=X_train,y= y_train)\n",
    "\n",
    "# Accuracy of the model created\n",
    "accuracy = nn.score(X_train, y_train)\n",
    "print(accuracy)\n",
    "\n",
    "y_test_predicted = nn.predict(X_test)\n",
    "y_train_predicted= nn.predict(X_train)    \n",
    "\n",
    "#finished square footage of the property, square footage of lot, tax amounts, number of bedrooms, and number of units\n",
    "#MAE, RMS, MAPE\n",
    "rms = sqrt(mean_squared_error(y_train, y_train_predicted))    \n",
    "mae_train = mean_absolute_error(y_train, y_train_predicted) \n",
    "mape_train = np.mean(np.abs((y_train - y_train_predicted) / y_train)) * 100\n",
    "print(\"-----Train-----\")\n",
    "print('RMS: ',rms)\n",
    "print('MAE: ',mae_train)\n",
    "print('MAPE: ',mape_train)\n",
    "#finished square footage of the property, square footage of lot, tax amounts, number of bedrooms, and number of units\n",
    "#MAE, RMS, MAPE\n",
    "rms = sqrt(mean_squared_error(y_test, y_test_predicted))    \n",
    "mae_test = mean_absolute_error(y_test, y_test_predicted)\n",
    "mape_test = np.mean(np.abs((y_test - y_test_predicted) / y_test)) * 100\n",
    "print(\"-----Test-----\")\n",
    "print('RMS: ',rms)\n",
    "print('MAE: ',mae_test)\n",
    "print('MAPE: ',mape_test)"
   ]
  },
  {
   "cell_type": "code",
   "execution_count": 15,
   "metadata": {},
   "outputs": [
    {
     "name": "stdout",
     "output_type": "stream",
     "text": [
      "-22.4922401245\n",
      "-----Train-----\n",
      "RMS:  20.1659535976532\n",
      "MAE:  16.8140905346\n",
      "MAPE:  151.80935287459718\n",
      "-----Test-----\n",
      "RMS:  20.1128324820853\n",
      "MAE:  16.7500335205\n",
      "MAPE:  151.1666410698422\n"
     ]
    }
   ],
   "source": [
    "#K-mean_7\n",
    "X_train, X_test, y_train, y_test = train_test_split(kmean_7.ix[:, kmean_7.columns != 'int_rate'], \n",
    "                                            kmean_7['int_rate'], \n",
    "                                            test_size=0.30)\n",
    "nn = MLPRegressor(hidden_layer_sizes=(50,20,5),max_iter=10,verbose=False, activation='relu',solver='adam')\n",
    "nn.fit(X=X_train,y= y_train)\n",
    "\n",
    "# Accuracy of the model created\n",
    "accuracy = nn.score(X_train, y_train)\n",
    "print(accuracy)\n",
    "\n",
    "y_test_predicted = nn.predict(X_test)\n",
    "y_train_predicted= nn.predict(X_train)    \n",
    "\n",
    "#finished square footage of the property, square footage of lot, tax amounts, number of bedrooms, and number of units\n",
    "#MAE, RMS, MAPE\n",
    "rms = sqrt(mean_squared_error(y_train, y_train_predicted))    \n",
    "mae_train = mean_absolute_error(y_train, y_train_predicted) \n",
    "mape_train = np.mean(np.abs((y_train - y_train_predicted) / y_train)) * 100\n",
    "print(\"-----Train-----\")\n",
    "print('RMS: ',rms)\n",
    "print('MAE: ',mae_train)\n",
    "print('MAPE: ',mape_train)\n",
    "#finished square footage of the property, square footage of lot, tax amounts, number of bedrooms, and number of units\n",
    "#MAE, RMS, MAPE\n",
    "rms = sqrt(mean_squared_error(y_test, y_test_predicted))    \n",
    "mae_test = mean_absolute_error(y_test, y_test_predicted)\n",
    "mape_test = np.mean(np.abs((y_test - y_test_predicted) / y_test)) * 100\n",
    "print(\"-----Test-----\")\n",
    "print('RMS: ',rms)\n",
    "print('MAE: ',mae_test)\n",
    "print('MAPE: ',mape_test)"
   ]
  },
  {
   "cell_type": "markdown",
   "metadata": {
    "collapsed": true
   },
   "source": [
    "The text in the document by SHREYANTH REDDY BEZAWADA is licensed under CC BY 3.0 https://creativecommons.org/licenses/by/3.0/us/\n",
    "\n",
    "Copyright 2018 SHREYANTH REDDY BEZAWADA AND ADITYA MOHAN KUMAR\n",
    "\n",
    "Permission is hereby granted, free of charge, to any person obtaining a copy of this software and associated documentation files (the \"Software\"), to deal in the Software without restriction, including without limitation the rights to use, copy, modify, merge, publish, distribute, sublicense, and/or sell copies of the Software, and to permit persons to whom the Software is furnished to do so, subject to the following conditions:\n",
    "\n",
    "The above copyright notice and this permission notice shall be included in all copies or substantial portions of the Software.\n",
    "\n",
    "THE SOFTWARE IS PROVIDED \"AS IS\", WITHOUT WARRANTY OF ANY KIND, EXPRESS OR IMPLIED, INCLUDING BUT NOT LIMITED TO THE WARRANTIES OF MERCHANTABILITY, FITNESS FOR A PARTICULAR PURPOSE AND NONINFRINGEMENT. IN NO EVENT SHALL THE AUTHORS OR COPYRIGHT HOLDERS BE LIABLE FOR ANY CLAIM, DAMAGES OR OTHER LIABILITY, WHETHER IN AN ACTION OF CONTRACT, TORT OR OTHERWISE, ARISING FROM, OUT OF OR IN CONNECTION WITH THE SOFTWARE OR THE USE OR OTHER DEALINGS IN THE SOFTWARE."
   ]
  }
 ],
 "metadata": {
  "anaconda-cloud": {},
  "kernelspec": {
   "display_name": "Python 3",
   "language": "python",
   "name": "python3"
  },
  "language_info": {
   "codemirror_mode": {
    "name": "ipython",
    "version": 3
   },
   "file_extension": ".py",
   "mimetype": "text/x-python",
   "name": "python",
   "nbconvert_exporter": "python",
   "pygments_lexer": "ipython3",
   "version": "3.6.2"
  }
 },
 "nbformat": 4,
 "nbformat_minor": 2
}
