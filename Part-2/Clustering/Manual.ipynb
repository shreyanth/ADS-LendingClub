{
 "cells": [
  {
   "cell_type": "markdown",
   "metadata": {},
   "source": [
    "# Manual Clustering"
   ]
  },
  {
   "cell_type": "code",
   "execution_count": 1,
   "metadata": {
    "collapsed": true
   },
   "outputs": [],
   "source": [
    "import pandas as pd\n",
    "import numpy as np\n",
    "import csv\n",
    "import matplotlib.pyplot as plt\n",
    "import seaborn as sns\n",
    "import numpy as np\n",
    "color = sns.color_palette()"
   ]
  },
  {
   "cell_type": "code",
   "execution_count": 2,
   "metadata": {
    "collapsed": true
   },
   "outputs": [],
   "source": [
    "loan_df = pd.read_csv('/Users/madhu/Desktop/ADS Project/Part-1/Loan.csv', low_memory=False) "
   ]
  },
  {
   "cell_type": "code",
   "execution_count": 3,
   "metadata": {},
   "outputs": [
    {
     "data": {
      "text/html": [
       "<div>\n",
       "<style>\n",
       "    .dataframe thead tr:only-child th {\n",
       "        text-align: right;\n",
       "    }\n",
       "\n",
       "    .dataframe thead th {\n",
       "        text-align: left;\n",
       "    }\n",
       "\n",
       "    .dataframe tbody tr th {\n",
       "        vertical-align: top;\n",
       "    }\n",
       "</style>\n",
       "<table border=\"1\" class=\"dataframe\">\n",
       "  <thead>\n",
       "    <tr style=\"text-align: right;\">\n",
       "      <th></th>\n",
       "      <th>id</th>\n",
       "      <th>debt_settlement_flag</th>\n",
       "      <th>application_type</th>\n",
       "      <th>fico_range_low</th>\n",
       "      <th>fico_range_high</th>\n",
       "      <th>emp_length</th>\n",
       "      <th>dti</th>\n",
       "      <th>annual_inc</th>\n",
       "      <th>grade</th>\n",
       "      <th>sub_grade</th>\n",
       "      <th>...</th>\n",
       "      <th>purpose</th>\n",
       "      <th>State</th>\n",
       "      <th>home_ownership</th>\n",
       "      <th>zip_code</th>\n",
       "      <th>policy_code</th>\n",
       "      <th>term</th>\n",
       "      <th>Year</th>\n",
       "      <th>Month</th>\n",
       "      <th>fico</th>\n",
       "      <th>approval</th>\n",
       "    </tr>\n",
       "  </thead>\n",
       "  <tbody>\n",
       "    <tr>\n",
       "      <th>0</th>\n",
       "      <td>1</td>\n",
       "      <td>N</td>\n",
       "      <td>Individual</td>\n",
       "      <td>735.0</td>\n",
       "      <td>739.0</td>\n",
       "      <td>10</td>\n",
       "      <td>27.65</td>\n",
       "      <td>24000.0</td>\n",
       "      <td>B</td>\n",
       "      <td>B2</td>\n",
       "      <td>...</td>\n",
       "      <td>credit_card</td>\n",
       "      <td>AZ</td>\n",
       "      <td>RENT</td>\n",
       "      <td>860</td>\n",
       "      <td>1</td>\n",
       "      <td>36</td>\n",
       "      <td>2011</td>\n",
       "      <td>12</td>\n",
       "      <td>737.0</td>\n",
       "      <td>1</td>\n",
       "    </tr>\n",
       "    <tr>\n",
       "      <th>1</th>\n",
       "      <td>2</td>\n",
       "      <td>N</td>\n",
       "      <td>Individual</td>\n",
       "      <td>740.0</td>\n",
       "      <td>744.0</td>\n",
       "      <td>1</td>\n",
       "      <td>1.00</td>\n",
       "      <td>30000.0</td>\n",
       "      <td>C</td>\n",
       "      <td>C4</td>\n",
       "      <td>...</td>\n",
       "      <td>car</td>\n",
       "      <td>GA</td>\n",
       "      <td>RENT</td>\n",
       "      <td>309</td>\n",
       "      <td>1</td>\n",
       "      <td>60</td>\n",
       "      <td>2011</td>\n",
       "      <td>12</td>\n",
       "      <td>742.0</td>\n",
       "      <td>1</td>\n",
       "    </tr>\n",
       "    <tr>\n",
       "      <th>2</th>\n",
       "      <td>3</td>\n",
       "      <td>N</td>\n",
       "      <td>Individual</td>\n",
       "      <td>735.0</td>\n",
       "      <td>739.0</td>\n",
       "      <td>10</td>\n",
       "      <td>8.72</td>\n",
       "      <td>12252.0</td>\n",
       "      <td>C</td>\n",
       "      <td>C5</td>\n",
       "      <td>...</td>\n",
       "      <td>small_business</td>\n",
       "      <td>IL</td>\n",
       "      <td>RENT</td>\n",
       "      <td>606</td>\n",
       "      <td>1</td>\n",
       "      <td>36</td>\n",
       "      <td>2011</td>\n",
       "      <td>12</td>\n",
       "      <td>737.0</td>\n",
       "      <td>1</td>\n",
       "    </tr>\n",
       "    <tr>\n",
       "      <th>3</th>\n",
       "      <td>4</td>\n",
       "      <td>N</td>\n",
       "      <td>Individual</td>\n",
       "      <td>690.0</td>\n",
       "      <td>694.0</td>\n",
       "      <td>10</td>\n",
       "      <td>20.00</td>\n",
       "      <td>49200.0</td>\n",
       "      <td>C</td>\n",
       "      <td>C1</td>\n",
       "      <td>...</td>\n",
       "      <td>other</td>\n",
       "      <td>CA</td>\n",
       "      <td>RENT</td>\n",
       "      <td>917</td>\n",
       "      <td>1</td>\n",
       "      <td>36</td>\n",
       "      <td>2011</td>\n",
       "      <td>12</td>\n",
       "      <td>692.0</td>\n",
       "      <td>1</td>\n",
       "    </tr>\n",
       "    <tr>\n",
       "      <th>4</th>\n",
       "      <td>5</td>\n",
       "      <td>N</td>\n",
       "      <td>Individual</td>\n",
       "      <td>695.0</td>\n",
       "      <td>699.0</td>\n",
       "      <td>1</td>\n",
       "      <td>17.94</td>\n",
       "      <td>80000.0</td>\n",
       "      <td>B</td>\n",
       "      <td>B5</td>\n",
       "      <td>...</td>\n",
       "      <td>other</td>\n",
       "      <td>OR</td>\n",
       "      <td>RENT</td>\n",
       "      <td>972</td>\n",
       "      <td>1</td>\n",
       "      <td>60</td>\n",
       "      <td>2011</td>\n",
       "      <td>12</td>\n",
       "      <td>697.0</td>\n",
       "      <td>1</td>\n",
       "    </tr>\n",
       "  </tbody>\n",
       "</table>\n",
       "<p>5 rows × 23 columns</p>\n",
       "</div>"
      ],
      "text/plain": [
       "   id debt_settlement_flag application_type  fico_range_low  fico_range_high  \\\n",
       "0   1                    N       Individual           735.0            739.0   \n",
       "1   2                    N       Individual           740.0            744.0   \n",
       "2   3                    N       Individual           735.0            739.0   \n",
       "3   4                    N       Individual           690.0            694.0   \n",
       "4   5                    N       Individual           695.0            699.0   \n",
       "\n",
       "   emp_length    dti  annual_inc grade sub_grade    ...            purpose  \\\n",
       "0          10  27.65     24000.0     B        B2    ...        credit_card   \n",
       "1           1   1.00     30000.0     C        C4    ...                car   \n",
       "2          10   8.72     12252.0     C        C5    ...     small_business   \n",
       "3          10  20.00     49200.0     C        C1    ...              other   \n",
       "4           1  17.94     80000.0     B        B5    ...              other   \n",
       "\n",
       "   State home_ownership zip_code policy_code term  Year  Month   fico  \\\n",
       "0     AZ           RENT      860           1   36  2011     12  737.0   \n",
       "1     GA           RENT      309           1   60  2011     12  742.0   \n",
       "2     IL           RENT      606           1   36  2011     12  737.0   \n",
       "3     CA           RENT      917           1   36  2011     12  692.0   \n",
       "4     OR           RENT      972           1   60  2011     12  697.0   \n",
       "\n",
       "   approval  \n",
       "0         1  \n",
       "1         1  \n",
       "2         1  \n",
       "3         1  \n",
       "4         1  \n",
       "\n",
       "[5 rows x 23 columns]"
      ]
     },
     "execution_count": 3,
     "metadata": {},
     "output_type": "execute_result"
    }
   ],
   "source": [
    "loan_df.head()"
   ]
  },
  {
   "cell_type": "code",
   "execution_count": 4,
   "metadata": {
    "collapsed": true
   },
   "outputs": [],
   "source": [
    "loan_df=loan_df[['loan_amnt', 'purpose', 'fico', 'dti', 'zip_code','State', 'emp_length', 'id', 'Year', 'Month','approval']]"
   ]
  },
  {
   "cell_type": "code",
   "execution_count": 5,
   "metadata": {},
   "outputs": [
    {
     "data": {
      "text/plain": [
       "Index(['loan_amnt', 'purpose', 'fico', 'dti', 'zip_code', 'State',\n",
       "       'emp_length', 'id', 'Year', 'Month', 'approval'],\n",
       "      dtype='object')"
      ]
     },
     "execution_count": 5,
     "metadata": {},
     "output_type": "execute_result"
    }
   ],
   "source": [
    "loan_df.columns"
   ]
  },
  {
   "cell_type": "code",
   "execution_count": 6,
   "metadata": {
    "collapsed": true
   },
   "outputs": [],
   "source": [
    "decline_df = pd.read_csv('/Users/madhu/Desktop/ADS Project/Part-1/Decline.csv', low_memory=False) "
   ]
  },
  {
   "cell_type": "code",
   "execution_count": 7,
   "metadata": {},
   "outputs": [
    {
     "data": {
      "text/html": [
       "<div>\n",
       "<style>\n",
       "    .dataframe thead tr:only-child th {\n",
       "        text-align: right;\n",
       "    }\n",
       "\n",
       "    .dataframe thead th {\n",
       "        text-align: left;\n",
       "    }\n",
       "\n",
       "    .dataframe tbody tr th {\n",
       "        vertical-align: top;\n",
       "    }\n",
       "</style>\n",
       "<table border=\"1\" class=\"dataframe\">\n",
       "  <thead>\n",
       "    <tr style=\"text-align: right;\">\n",
       "      <th></th>\n",
       "      <th>Unnamed: 0</th>\n",
       "      <th>loan_amnt</th>\n",
       "      <th>application_date</th>\n",
       "      <th>purpose</th>\n",
       "      <th>fico</th>\n",
       "      <th>dti</th>\n",
       "      <th>zip_code</th>\n",
       "      <th>State</th>\n",
       "      <th>emp_length</th>\n",
       "      <th>Policy Code</th>\n",
       "      <th>id</th>\n",
       "      <th>Year</th>\n",
       "      <th>Month</th>\n",
       "      <th>Day</th>\n",
       "      <th>approval</th>\n",
       "    </tr>\n",
       "  </thead>\n",
       "  <tbody>\n",
       "    <tr>\n",
       "      <th>0</th>\n",
       "      <td>0</td>\n",
       "      <td>1000.0</td>\n",
       "      <td>2007-05-26</td>\n",
       "      <td>Wedding Covered but No Honeymoon</td>\n",
       "      <td>693.0</td>\n",
       "      <td>10.00</td>\n",
       "      <td>481</td>\n",
       "      <td>NM</td>\n",
       "      <td>4</td>\n",
       "      <td>0.0</td>\n",
       "      <td>1</td>\n",
       "      <td>2007</td>\n",
       "      <td>5</td>\n",
       "      <td>26</td>\n",
       "      <td>0</td>\n",
       "    </tr>\n",
       "    <tr>\n",
       "      <th>1</th>\n",
       "      <td>1</td>\n",
       "      <td>1000.0</td>\n",
       "      <td>2007-05-26</td>\n",
       "      <td>Consolidating Debt</td>\n",
       "      <td>703.0</td>\n",
       "      <td>10.00</td>\n",
       "      <td>10</td>\n",
       "      <td>MA</td>\n",
       "      <td>0</td>\n",
       "      <td>0.0</td>\n",
       "      <td>2</td>\n",
       "      <td>2007</td>\n",
       "      <td>5</td>\n",
       "      <td>26</td>\n",
       "      <td>0</td>\n",
       "    </tr>\n",
       "    <tr>\n",
       "      <th>2</th>\n",
       "      <td>2</td>\n",
       "      <td>11000.0</td>\n",
       "      <td>2007-05-27</td>\n",
       "      <td>Want to consolidate my debt</td>\n",
       "      <td>715.0</td>\n",
       "      <td>10.00</td>\n",
       "      <td>212</td>\n",
       "      <td>MD</td>\n",
       "      <td>1</td>\n",
       "      <td>0.0</td>\n",
       "      <td>3</td>\n",
       "      <td>2007</td>\n",
       "      <td>5</td>\n",
       "      <td>27</td>\n",
       "      <td>0</td>\n",
       "    </tr>\n",
       "    <tr>\n",
       "      <th>3</th>\n",
       "      <td>3</td>\n",
       "      <td>6000.0</td>\n",
       "      <td>2007-05-27</td>\n",
       "      <td>waksman</td>\n",
       "      <td>698.0</td>\n",
       "      <td>38.64</td>\n",
       "      <td>17</td>\n",
       "      <td>MA</td>\n",
       "      <td>0</td>\n",
       "      <td>0.0</td>\n",
       "      <td>4</td>\n",
       "      <td>2007</td>\n",
       "      <td>5</td>\n",
       "      <td>27</td>\n",
       "      <td>0</td>\n",
       "    </tr>\n",
       "    <tr>\n",
       "      <th>4</th>\n",
       "      <td>4</td>\n",
       "      <td>1500.0</td>\n",
       "      <td>2007-05-27</td>\n",
       "      <td>mdrigo</td>\n",
       "      <td>509.0</td>\n",
       "      <td>9.43</td>\n",
       "      <td>209</td>\n",
       "      <td>MD</td>\n",
       "      <td>0</td>\n",
       "      <td>0.0</td>\n",
       "      <td>5</td>\n",
       "      <td>2007</td>\n",
       "      <td>5</td>\n",
       "      <td>27</td>\n",
       "      <td>0</td>\n",
       "    </tr>\n",
       "  </tbody>\n",
       "</table>\n",
       "</div>"
      ],
      "text/plain": [
       "   Unnamed: 0  loan_amnt application_date                           purpose  \\\n",
       "0           0     1000.0       2007-05-26  Wedding Covered but No Honeymoon   \n",
       "1           1     1000.0       2007-05-26                Consolidating Debt   \n",
       "2           2    11000.0       2007-05-27       Want to consolidate my debt   \n",
       "3           3     6000.0       2007-05-27                           waksman   \n",
       "4           4     1500.0       2007-05-27                            mdrigo   \n",
       "\n",
       "    fico    dti  zip_code State  emp_length  Policy Code  id  Year  Month  \\\n",
       "0  693.0  10.00       481    NM           4          0.0   1  2007      5   \n",
       "1  703.0  10.00        10    MA           0          0.0   2  2007      5   \n",
       "2  715.0  10.00       212    MD           1          0.0   3  2007      5   \n",
       "3  698.0  38.64        17    MA           0          0.0   4  2007      5   \n",
       "4  509.0   9.43       209    MD           0          0.0   5  2007      5   \n",
       "\n",
       "   Day  approval  \n",
       "0   26         0  \n",
       "1   26         0  \n",
       "2   27         0  \n",
       "3   27         0  \n",
       "4   27         0  "
      ]
     },
     "execution_count": 7,
     "metadata": {},
     "output_type": "execute_result"
    }
   ],
   "source": [
    "decline_df.head()"
   ]
  },
  {
   "cell_type": "code",
   "execution_count": 8,
   "metadata": {},
   "outputs": [
    {
     "data": {
      "text/plain": [
       "Index(['Unnamed: 0', 'loan_amnt', 'application_date', 'purpose', 'fico', 'dti',\n",
       "       'zip_code', 'State', 'emp_length', 'Policy Code', 'id', 'Year', 'Month',\n",
       "       'Day', 'approval'],\n",
       "      dtype='object')"
      ]
     },
     "execution_count": 8,
     "metadata": {},
     "output_type": "execute_result"
    }
   ],
   "source": [
    "decline_df.columns"
   ]
  },
  {
   "cell_type": "code",
   "execution_count": 9,
   "metadata": {
    "collapsed": true
   },
   "outputs": [],
   "source": [
    "decline_df=decline_df[['loan_amnt', 'purpose', 'fico', 'dti', 'zip_code','State', 'emp_length', 'id', 'Year', 'Month','approval']]"
   ]
  },
  {
   "cell_type": "code",
   "execution_count": 10,
   "metadata": {
    "collapsed": true
   },
   "outputs": [],
   "source": [
    "c = pd.concat([loan_df,decline_df])"
   ]
  },
  {
   "cell_type": "code",
   "execution_count": 11,
   "metadata": {},
   "outputs": [
    {
     "data": {
      "text/plain": [
       "(8448577, 11)"
      ]
     },
     "execution_count": 11,
     "metadata": {},
     "output_type": "execute_result"
    }
   ],
   "source": [
    "c.shape"
   ]
  },
  {
   "cell_type": "code",
   "execution_count": 12,
   "metadata": {
    "collapsed": true
   },
   "outputs": [],
   "source": [
    "c.to_csv('/Users/madhu/Desktop/ADS Project/Part-1/Combine.csv',index=False)"
   ]
  },
  {
   "cell_type": "code",
   "execution_count": 13,
   "metadata": {
    "collapsed": true
   },
   "outputs": [],
   "source": [
    "df = loan_df"
   ]
  },
  {
   "cell_type": "code",
   "execution_count": 4,
   "metadata": {},
   "outputs": [
    {
     "data": {
      "text/plain": [
       "(1640753, 23)"
      ]
     },
     "execution_count": 4,
     "metadata": {},
     "output_type": "execute_result"
    }
   ],
   "source": [
    "df.shape"
   ]
  },
  {
   "cell_type": "code",
   "execution_count": 5,
   "metadata": {
    "collapsed": true
   },
   "outputs": [],
   "source": [
    "df = df[df['dti']!=-1]\n",
    "df['term'] = df['term'].astype(str).map(lambda x: x.rstrip('months'))\n",
    "df['term'] = df['term'].astype(int)\n",
    "df['policy_code'] = df['policy_code'].astype(int)"
   ]
  },
  {
   "cell_type": "code",
   "execution_count": 7,
   "metadata": {
    "collapsed": true
   },
   "outputs": [],
   "source": [
    "df = df[['id','term','emp_length','dti','annual_inc','grade','sub_grade','int_rate','loan_amnt','purpose','State','zip_code','Year','Month','fico','approval']]"
   ]
  },
  {
   "cell_type": "code",
   "execution_count": 8,
   "metadata": {},
   "outputs": [
    {
     "data": {
      "text/html": [
       "<div>\n",
       "<table border=\"1\" class=\"dataframe\">\n",
       "  <thead>\n",
       "    <tr style=\"text-align: right;\">\n",
       "      <th></th>\n",
       "      <th>id</th>\n",
       "      <th>term</th>\n",
       "      <th>emp_length</th>\n",
       "      <th>dti</th>\n",
       "      <th>annual_inc</th>\n",
       "      <th>grade</th>\n",
       "      <th>sub_grade</th>\n",
       "      <th>int_rate</th>\n",
       "      <th>loan_amnt</th>\n",
       "      <th>purpose</th>\n",
       "      <th>State</th>\n",
       "      <th>zip_code</th>\n",
       "      <th>Year</th>\n",
       "      <th>Month</th>\n",
       "      <th>fico</th>\n",
       "      <th>approval</th>\n",
       "    </tr>\n",
       "  </thead>\n",
       "  <tbody>\n",
       "    <tr>\n",
       "      <th>0</th>\n",
       "      <td>1</td>\n",
       "      <td>36</td>\n",
       "      <td>10</td>\n",
       "      <td>27.65</td>\n",
       "      <td>24000.0</td>\n",
       "      <td>B</td>\n",
       "      <td>B2</td>\n",
       "      <td>10.65</td>\n",
       "      <td>5000.0</td>\n",
       "      <td>credit_card</td>\n",
       "      <td>AZ</td>\n",
       "      <td>860</td>\n",
       "      <td>2011</td>\n",
       "      <td>12</td>\n",
       "      <td>737.0</td>\n",
       "      <td>1</td>\n",
       "    </tr>\n",
       "    <tr>\n",
       "      <th>1</th>\n",
       "      <td>2</td>\n",
       "      <td>60</td>\n",
       "      <td>1</td>\n",
       "      <td>1.00</td>\n",
       "      <td>30000.0</td>\n",
       "      <td>C</td>\n",
       "      <td>C4</td>\n",
       "      <td>15.27</td>\n",
       "      <td>2500.0</td>\n",
       "      <td>car</td>\n",
       "      <td>GA</td>\n",
       "      <td>309</td>\n",
       "      <td>2011</td>\n",
       "      <td>12</td>\n",
       "      <td>742.0</td>\n",
       "      <td>1</td>\n",
       "    </tr>\n",
       "    <tr>\n",
       "      <th>2</th>\n",
       "      <td>3</td>\n",
       "      <td>36</td>\n",
       "      <td>10</td>\n",
       "      <td>8.72</td>\n",
       "      <td>12252.0</td>\n",
       "      <td>C</td>\n",
       "      <td>C5</td>\n",
       "      <td>15.96</td>\n",
       "      <td>2400.0</td>\n",
       "      <td>small_business</td>\n",
       "      <td>IL</td>\n",
       "      <td>606</td>\n",
       "      <td>2011</td>\n",
       "      <td>12</td>\n",
       "      <td>737.0</td>\n",
       "      <td>1</td>\n",
       "    </tr>\n",
       "    <tr>\n",
       "      <th>3</th>\n",
       "      <td>4</td>\n",
       "      <td>36</td>\n",
       "      <td>10</td>\n",
       "      <td>20.00</td>\n",
       "      <td>49200.0</td>\n",
       "      <td>C</td>\n",
       "      <td>C1</td>\n",
       "      <td>13.49</td>\n",
       "      <td>10000.0</td>\n",
       "      <td>other</td>\n",
       "      <td>CA</td>\n",
       "      <td>917</td>\n",
       "      <td>2011</td>\n",
       "      <td>12</td>\n",
       "      <td>692.0</td>\n",
       "      <td>1</td>\n",
       "    </tr>\n",
       "    <tr>\n",
       "      <th>4</th>\n",
       "      <td>5</td>\n",
       "      <td>60</td>\n",
       "      <td>1</td>\n",
       "      <td>17.94</td>\n",
       "      <td>80000.0</td>\n",
       "      <td>B</td>\n",
       "      <td>B5</td>\n",
       "      <td>12.69</td>\n",
       "      <td>3000.0</td>\n",
       "      <td>other</td>\n",
       "      <td>OR</td>\n",
       "      <td>972</td>\n",
       "      <td>2011</td>\n",
       "      <td>12</td>\n",
       "      <td>697.0</td>\n",
       "      <td>1</td>\n",
       "    </tr>\n",
       "  </tbody>\n",
       "</table>\n",
       "</div>"
      ],
      "text/plain": [
       "   id  term  emp_length    dti  annual_inc grade sub_grade  int_rate  \\\n",
       "0   1    36          10  27.65     24000.0     B        B2     10.65   \n",
       "1   2    60           1   1.00     30000.0     C        C4     15.27   \n",
       "2   3    36          10   8.72     12252.0     C        C5     15.96   \n",
       "3   4    36          10  20.00     49200.0     C        C1     13.49   \n",
       "4   5    60           1  17.94     80000.0     B        B5     12.69   \n",
       "\n",
       "   loan_amnt         purpose State  zip_code  Year  Month   fico  approval  \n",
       "0     5000.0     credit_card    AZ       860  2011     12  737.0         1  \n",
       "1     2500.0             car    GA       309  2011     12  742.0         1  \n",
       "2     2400.0  small_business    IL       606  2011     12  737.0         1  \n",
       "3    10000.0           other    CA       917  2011     12  692.0         1  \n",
       "4     3000.0           other    OR       972  2011     12  697.0         1  "
      ]
     },
     "execution_count": 8,
     "metadata": {},
     "output_type": "execute_result"
    }
   ],
   "source": [
    "df.head()"
   ]
  },
  {
   "cell_type": "code",
   "execution_count": 15,
   "metadata": {
    "collapsed": true
   },
   "outputs": [],
   "source": [
    "def clustering(fico):\n",
    "    cluster_name = ''\n",
    "    if fico>790.0:\n",
    "        cluster_name ='K1'\n",
    "    elif ((fico <= 790.0) & (fico>750.0)):\n",
    "        cluster_name = 'K2'\n",
    "    elif ((fico <=750.0) & (fico>700.0)):\n",
    "        cluster_name ='K3'\n",
    "    elif ((fico <=700.0) & (fico>660.0)):\n",
    "        cluster_name= 'K4'\n",
    "    return cluster_name"
   ]
  },
  {
   "cell_type": "code",
   "execution_count": 16,
   "metadata": {
    "collapsed": true
   },
   "outputs": [],
   "source": [
    "df['cluster'] = df['fico'].astype(float).map(lambda x: clustering(x))"
   ]
  },
  {
   "cell_type": "code",
   "execution_count": 17,
   "metadata": {
    "collapsed": true
   },
   "outputs": [],
   "source": [
    "k1 = df[df.cluster=='K1']\n",
    "del k1['cluster']\n",
    "k1.to_csv('/Users/madhu/Desktop/ADS Project/Part-2/Clustering/Manual_1.csv',index=False)"
   ]
  },
  {
   "cell_type": "code",
   "execution_count": 18,
   "metadata": {
    "collapsed": true
   },
   "outputs": [],
   "source": [
    "k2 = df[df.cluster=='K2']\n",
    "del k2['cluster']\n",
    "k2.to_csv('/Users/madhu/Desktop/ADS Project/Part-2/Clustering/Manual_2.csv',index=False)"
   ]
  },
  {
   "cell_type": "code",
   "execution_count": 19,
   "metadata": {
    "collapsed": true
   },
   "outputs": [],
   "source": [
    "k3 = df[df.cluster=='K3']\n",
    "del k3['cluster']\n",
    "k3.to_csv('/Users/madhu/Desktop/ADS Project/Part-2/Clustering/Manual_3.csv',index=False)"
   ]
  },
  {
   "cell_type": "code",
   "execution_count": 20,
   "metadata": {
    "collapsed": true
   },
   "outputs": [],
   "source": [
    "k4 = df[df.cluster=='K4']\n",
    "del k4['cluster']\n",
    "k4.to_csv('/Users/madhu/Desktop/ADS Project/Part-2/Clustering/Manual_4.csv',index=False)"
   ]
  },
  {
   "cell_type": "code",
   "execution_count": 21,
   "metadata": {
    "collapsed": true
   },
   "outputs": [],
   "source": [
    "loan_df.to_csv('/Users/madhu/Desktop/ADS Project/Part-2/Clustering/Zero_Cluster.csv',index=False)"
   ]
  },
  {
   "cell_type": "markdown",
   "metadata": {
    "collapsed": true
   },
   "source": [
    "The text in the document by SHREYANTH REDDY BEZAWADA is licensed under CC BY 3.0 https://creativecommons.org/licenses/by/3.0/us/\n",
    "\n",
    "Copyright 2018 SHREYANTH REDDY BEZAWADA AND ADITYA MOHAN KUMAR\n",
    "\n",
    "Permission is hereby granted, free of charge, to any person obtaining a copy of this software and associated documentation files (the \"Software\"), to deal in the Software without restriction, including without limitation the rights to use, copy, modify, merge, publish, distribute, sublicense, and/or sell copies of the Software, and to permit persons to whom the Software is furnished to do so, subject to the following conditions:\n",
    "\n",
    "The above copyright notice and this permission notice shall be included in all copies or substantial portions of the Software.\n",
    "\n",
    "THE SOFTWARE IS PROVIDED \"AS IS\", WITHOUT WARRANTY OF ANY KIND, EXPRESS OR IMPLIED, INCLUDING BUT NOT LIMITED TO THE WARRANTIES OF MERCHANTABILITY, FITNESS FOR A PARTICULAR PURPOSE AND NONINFRINGEMENT. IN NO EVENT SHALL THE AUTHORS OR COPYRIGHT HOLDERS BE LIABLE FOR ANY CLAIM, DAMAGES OR OTHER LIABILITY, WHETHER IN AN ACTION OF CONTRACT, TORT OR OTHERWISE, ARISING FROM, OUT OF OR IN CONNECTION WITH THE SOFTWARE OR THE USE OR OTHER DEALINGS IN THE SOFTWARE."
   ]
  }
 ],
 "metadata": {
  "anaconda-cloud": {},
  "kernelspec": {
   "display_name": "Python 3",
   "language": "python",
   "name": "python3"
  },
  "language_info": {
   "codemirror_mode": {
    "name": "ipython",
    "version": 3
   },
   "file_extension": ".py",
   "mimetype": "text/x-python",
   "name": "python",
   "nbconvert_exporter": "python",
   "pygments_lexer": "ipython3",
   "version": "3.6.2"
  }
 },
 "nbformat": 4,
 "nbformat_minor": 2
}
