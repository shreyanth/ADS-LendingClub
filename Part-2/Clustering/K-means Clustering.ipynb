{
 "cells": [
  {
   "cell_type": "code",
   "execution_count": 1,
   "metadata": {
    "collapsed": true
   },
   "outputs": [],
   "source": [
    "from sklearn import cluster\n",
    "from sklearn import preprocessing\n",
    "from sklearn.preprocessing import LabelEncoder\n",
    "import csv\n",
    "import pandas as pd\n",
    "import numpy as np\n",
    "import pickle\n",
    "from sklearn.externals import joblib"
   ]
  },
  {
   "cell_type": "code",
   "execution_count": 2,
   "metadata": {
    "collapsed": true
   },
   "outputs": [],
   "source": [
    "loan_df = pd.read_csv('/Users/madhu/Desktop/ADS Project/Part-1/Loan.csv')"
   ]
  },
  {
   "cell_type": "code",
   "execution_count": 3,
   "metadata": {
    "collapsed": true
   },
   "outputs": [],
   "source": [
    "k_mean = loan_df[['dti', 'annual_inc', 'fico', 'loan_amnt',\n",
    "       'term', 'purpose','approval','emp_length', 'home_ownership']]"
   ]
  },
  {
   "cell_type": "code",
   "execution_count": 4,
   "metadata": {
    "collapsed": true
   },
   "outputs": [],
   "source": [
    "home_ownerships = pd.get_dummies(k_mean['home_ownership'], prefix='house')\n",
    "k_mean = k_mean.join(home_ownerships)\n",
    "k_mean.drop('home_ownership', axis=1, inplace=True)\n",
    "#purpose   \n",
    "purpose = pd.get_dummies(k_mean['purpose'], prefix='purpose')\n",
    "k_mean = k_mean.join(purpose)\n",
    "k_mean.drop('purpose', axis=1, inplace=True)"
   ]
  },
  {
   "cell_type": "code",
   "execution_count": 5,
   "metadata": {},
   "outputs": [
    {
     "data": {
      "text/plain": [
       "(1640757, 27)"
      ]
     },
     "execution_count": 5,
     "metadata": {},
     "output_type": "execute_result"
    }
   ],
   "source": [
    "k_mean.shape"
   ]
  },
  {
   "cell_type": "code",
   "execution_count": 6,
   "metadata": {},
   "outputs": [
    {
     "data": {
      "text/plain": [
       "dti                           float64\n",
       "annual_inc                    float64\n",
       "fico                          float64\n",
       "loan_amnt                     float64\n",
       "term                            int64\n",
       "approval                        int64\n",
       "emp_length                      int64\n",
       "house_ANY                       uint8\n",
       "house_MORTGAGE                  uint8\n",
       "house_NONE                      uint8\n",
       "house_OTHER                     uint8\n",
       "house_OWN                       uint8\n",
       "house_RENT                      uint8\n",
       "purpose_car                     uint8\n",
       "purpose_credit_card             uint8\n",
       "purpose_debt_consolidation      uint8\n",
       "purpose_educational             uint8\n",
       "purpose_home_improvement        uint8\n",
       "purpose_house                   uint8\n",
       "purpose_major_purchase          uint8\n",
       "purpose_medical                 uint8\n",
       "purpose_moving                  uint8\n",
       "purpose_other                   uint8\n",
       "purpose_renewable_energy        uint8\n",
       "purpose_small_business          uint8\n",
       "purpose_vacation                uint8\n",
       "purpose_wedding                 uint8\n",
       "dtype: object"
      ]
     },
     "execution_count": 6,
     "metadata": {},
     "output_type": "execute_result"
    }
   ],
   "source": [
    "k_mean.dtypes"
   ]
  },
  {
   "cell_type": "code",
   "execution_count": 7,
   "metadata": {
    "collapsed": true
   },
   "outputs": [],
   "source": [
    "norm_data = preprocessing.normalize(k_mean)"
   ]
  },
  {
   "cell_type": "code",
   "execution_count": 8,
   "metadata": {},
   "outputs": [
    {
     "data": {
      "text/plain": [
       "array([[  1.12735567e-03,   9.78536570e-01,   3.00492272e-02, ...,\n",
       "          0.00000000e+00,   0.00000000e+00,   0.00000000e+00],\n",
       "       [  3.32080402e-05,   9.96241206e-01,   2.46403658e-02, ...,\n",
       "          0.00000000e+00,   0.00000000e+00,   0.00000000e+00],\n",
       "       [  6.97229400e-04,   9.79639290e-01,   5.89286775e-02, ...,\n",
       "          7.99575000e-05,   0.00000000e+00,   0.00000000e+00],\n",
       "       ..., \n",
       "       [  3.07366011e-04,   9.06149797e-01,   8.54197209e-03, ...,\n",
       "          0.00000000e+00,   0.00000000e+00,   0.00000000e+00],\n",
       "       [  1.35808005e-04,   9.59612419e-01,   6.14151948e-03, ...,\n",
       "          0.00000000e+00,   0.00000000e+00,   0.00000000e+00],\n",
       "       [  5.16259123e-04,   9.21891291e-01,   1.39717747e-02, ...,\n",
       "          0.00000000e+00,   0.00000000e+00,   0.00000000e+00]])"
      ]
     },
     "execution_count": 8,
     "metadata": {},
     "output_type": "execute_result"
    }
   ],
   "source": [
    "norm_data"
   ]
  },
  {
   "cell_type": "code",
   "execution_count": 9,
   "metadata": {
    "collapsed": true
   },
   "outputs": [],
   "source": [
    "k_cluster=cluster.KMeans(n_clusters=8)"
   ]
  },
  {
   "cell_type": "code",
   "execution_count": 10,
   "metadata": {},
   "outputs": [
    {
     "data": {
      "text/plain": [
       "KMeans(algorithm='auto', copy_x=True, init='k-means++', max_iter=300,\n",
       "    n_clusters=8, n_init=10, n_jobs=1, precompute_distances='auto',\n",
       "    random_state=None, tol=0.0001, verbose=0)"
      ]
     },
     "execution_count": 10,
     "metadata": {},
     "output_type": "execute_result"
    }
   ],
   "source": [
    "k_cluster.fit(norm_data)"
   ]
  },
  {
   "cell_type": "code",
   "execution_count": 11,
   "metadata": {},
   "outputs": [
    {
     "data": {
      "text/plain": [
       "850.77481848284094"
      ]
     },
     "execution_count": 11,
     "metadata": {},
     "output_type": "execute_result"
    }
   ],
   "source": [
    "k_cluster.inertia_"
   ]
  },
  {
   "cell_type": "code",
   "execution_count": 12,
   "metadata": {
    "collapsed": true
   },
   "outputs": [],
   "source": [
    "cluster_label = k_cluster.labels_"
   ]
  },
  {
   "cell_type": "code",
   "execution_count": 13,
   "metadata": {
    "collapsed": true
   },
   "outputs": [],
   "source": [
    "with open('kmeanCluster.pkl', 'wb') as f:\n",
    "    joblib.dump(k_cluster, f)"
   ]
  },
  {
   "cell_type": "code",
   "execution_count": 14,
   "metadata": {
    "collapsed": true
   },
   "outputs": [],
   "source": [
    "loan_df['kmean'] = cluster_label"
   ]
  },
  {
   "cell_type": "code",
   "execution_count": 15,
   "metadata": {},
   "outputs": [
    {
     "data": {
      "text/html": [
       "<div>\n",
       "<style>\n",
       "    .dataframe thead tr:only-child th {\n",
       "        text-align: right;\n",
       "    }\n",
       "\n",
       "    .dataframe thead th {\n",
       "        text-align: left;\n",
       "    }\n",
       "\n",
       "    .dataframe tbody tr th {\n",
       "        vertical-align: top;\n",
       "    }\n",
       "</style>\n",
       "<table border=\"1\" class=\"dataframe\">\n",
       "  <thead>\n",
       "    <tr style=\"text-align: right;\">\n",
       "      <th>kmean</th>\n",
       "      <th>0</th>\n",
       "      <th>1</th>\n",
       "      <th>2</th>\n",
       "      <th>3</th>\n",
       "      <th>4</th>\n",
       "      <th>5</th>\n",
       "      <th>6</th>\n",
       "      <th>7</th>\n",
       "    </tr>\n",
       "    <tr>\n",
       "      <th>grade</th>\n",
       "      <th></th>\n",
       "      <th></th>\n",
       "      <th></th>\n",
       "      <th></th>\n",
       "      <th></th>\n",
       "      <th></th>\n",
       "      <th></th>\n",
       "      <th></th>\n",
       "    </tr>\n",
       "  </thead>\n",
       "  <tbody>\n",
       "    <tr>\n",
       "      <th>A</th>\n",
       "      <td>60232</td>\n",
       "      <td>16450</td>\n",
       "      <td>32939</td>\n",
       "      <td>43792</td>\n",
       "      <td>258</td>\n",
       "      <td>6199</td>\n",
       "      <td>48628</td>\n",
       "      <td>63316</td>\n",
       "    </tr>\n",
       "    <tr>\n",
       "      <th>B</th>\n",
       "      <td>98585</td>\n",
       "      <td>42747</td>\n",
       "      <td>72441</td>\n",
       "      <td>67110</td>\n",
       "      <td>847</td>\n",
       "      <td>19147</td>\n",
       "      <td>88371</td>\n",
       "      <td>94590</td>\n",
       "    </tr>\n",
       "    <tr>\n",
       "      <th>C</th>\n",
       "      <td>84600</td>\n",
       "      <td>63524</td>\n",
       "      <td>86939</td>\n",
       "      <td>57190</td>\n",
       "      <td>1712</td>\n",
       "      <td>34773</td>\n",
       "      <td>87268</td>\n",
       "      <td>73178</td>\n",
       "    </tr>\n",
       "    <tr>\n",
       "      <th>D</th>\n",
       "      <td>33200</td>\n",
       "      <td>42452</td>\n",
       "      <td>45424</td>\n",
       "      <td>23307</td>\n",
       "      <td>718</td>\n",
       "      <td>25432</td>\n",
       "      <td>38411</td>\n",
       "      <td>27571</td>\n",
       "    </tr>\n",
       "    <tr>\n",
       "      <th>E</th>\n",
       "      <td>12693</td>\n",
       "      <td>25499</td>\n",
       "      <td>24188</td>\n",
       "      <td>7248</td>\n",
       "      <td>348</td>\n",
       "      <td>15636</td>\n",
       "      <td>16706</td>\n",
       "      <td>8996</td>\n",
       "    </tr>\n",
       "    <tr>\n",
       "      <th>F</th>\n",
       "      <td>3637</td>\n",
       "      <td>9395</td>\n",
       "      <td>8783</td>\n",
       "      <td>1890</td>\n",
       "      <td>118</td>\n",
       "      <td>5701</td>\n",
       "      <td>5239</td>\n",
       "      <td>2427</td>\n",
       "    </tr>\n",
       "    <tr>\n",
       "      <th>G</th>\n",
       "      <td>954</td>\n",
       "      <td>2927</td>\n",
       "      <td>2831</td>\n",
       "      <td>353</td>\n",
       "      <td>81</td>\n",
       "      <td>1680</td>\n",
       "      <td>1543</td>\n",
       "      <td>533</td>\n",
       "    </tr>\n",
       "  </tbody>\n",
       "</table>\n",
       "</div>"
      ],
      "text/plain": [
       "kmean      0      1      2      3     4      5      6      7\n",
       "grade                                                       \n",
       "A      60232  16450  32939  43792   258   6199  48628  63316\n",
       "B      98585  42747  72441  67110   847  19147  88371  94590\n",
       "C      84600  63524  86939  57190  1712  34773  87268  73178\n",
       "D      33200  42452  45424  23307   718  25432  38411  27571\n",
       "E      12693  25499  24188   7248   348  15636  16706   8996\n",
       "F       3637   9395   8783   1890   118   5701   5239   2427\n",
       "G        954   2927   2831    353    81   1680   1543    533"
      ]
     },
     "execution_count": 15,
     "metadata": {},
     "output_type": "execute_result"
    }
   ],
   "source": [
    "pd.crosstab(loan_df.grade,loan_df.kmean)"
   ]
  },
  {
   "cell_type": "markdown",
   "metadata": {
    "collapsed": true
   },
   "source": [
    "The text in the document by SHREYANTH REDDY BEZAWADA is licensed under CC BY 3.0 https://creativecommons.org/licenses/by/3.0/us/\n",
    "\n",
    "Copyright 2018 SHREYANTH REDDY BEZAWADA AND ADITYA MOHAN KUMAR\n",
    "\n",
    "Permission is hereby granted, free of charge, to any person obtaining a copy of this software and associated documentation files (the \"Software\"), to deal in the Software without restriction, including without limitation the rights to use, copy, modify, merge, publish, distribute, sublicense, and/or sell copies of the Software, and to permit persons to whom the Software is furnished to do so, subject to the following conditions:\n",
    "\n",
    "The above copyright notice and this permission notice shall be included in all copies or substantial portions of the Software.\n",
    "\n",
    "THE SOFTWARE IS PROVIDED \"AS IS\", WITHOUT WARRANTY OF ANY KIND, EXPRESS OR IMPLIED, INCLUDING BUT NOT LIMITED TO THE WARRANTIES OF MERCHANTABILITY, FITNESS FOR A PARTICULAR PURPOSE AND NONINFRINGEMENT. IN NO EVENT SHALL THE AUTHORS OR COPYRIGHT HOLDERS BE LIABLE FOR ANY CLAIM, DAMAGES OR OTHER LIABILITY, WHETHER IN AN ACTION OF CONTRACT, TORT OR OTHERWISE, ARISING FROM, OUT OF OR IN CONNECTION WITH THE SOFTWARE OR THE USE OR OTHER DEALINGS IN THE SOFTWARE."
   ]
  },
  {
   "cell_type": "code",
   "execution_count": null,
   "metadata": {
    "collapsed": true
   },
   "outputs": [],
   "source": []
  }
 ],
 "metadata": {
  "kernelspec": {
   "display_name": "Python 3",
   "language": "python",
   "name": "python3"
  },
  "language_info": {
   "codemirror_mode": {
    "name": "ipython",
    "version": 3
   },
   "file_extension": ".py",
   "mimetype": "text/x-python",
   "name": "python",
   "nbconvert_exporter": "python",
   "pygments_lexer": "ipython3",
   "version": "3.6.2"
  }
 },
 "nbformat": 4,
 "nbformat_minor": 2
}
